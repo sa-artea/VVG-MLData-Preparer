{
 "metadata": {
  "language_info": {
   "codemirror_mode": {
    "name": "ipython",
    "version": 3
   },
   "file_extension": ".py",
   "mimetype": "text/x-python",
   "name": "python",
   "nbconvert_exporter": "python",
   "pygments_lexer": "ipython3",
   "version": "3.8.6-final"
  },
  "orig_nbformat": 2,
  "kernelspec": {
   "name": "python386jvsc74a57bd01baa965d5efe3ac65b79dfc60c0d706280b1da80fedb7760faf2759126c4f253",
   "display_name": "Python 3.8.6 64-bit"
  },
  "metadata": {
   "interpreter": {
    "hash": "1baa965d5efe3ac65b79dfc60c0d706280b1da80fedb7760faf2759126c4f253"
   }
  }
 },
 "nbformat": 4,
 "nbformat_minor": 2,
 "cells": [
  {
   "source": [
    "Word2Vec# VINCENT VAN GOGH STANDARD DATA TEXT PROCESS\n",
    "\n",
    "This script takes the gallery's text from the local data folder and process it to an standard representation with Natural Language Processing and Word2Vec methods.\n",
    "\n",
    "The process goes as follows:\n",
    "\n",
    "1. Load the CSV into a pandas DataFrame.\n",
    "2. Transform text columns into words lists.\n",
    "3. Clear the text to find tokens (remove stop words).\n",
    "4. Save corpus complete dictionary.\n",
    "4. Lemmatize the tokens to find stem words.\n",
    "5. Execute Bag of Words to find vector representation (doc2bow).\n",
    "6. Execute the mapping of tokens in the text to find vector representation (doc2idx).\n",
    "7. Execute the Word 2 Vect standarization process with tf-idf method (TF-IDF: Term Frequency - Inverse Document Frequency).\n",
    "8. Create the dense standard vector text representation.\n",
    "9. Save the the resulting CSV from pandas DataFrame\n",
    "\n",
    "The following Links were useful to create this proof of concept:\n",
    "\n",
    "- Gensim Word2Vec Tutorial, URL: https://www.kaggle.com/pierremegret/gensim-word2vec-tutorial#Getting-Started\n",
    "- Gensim Core Concepts, URL: https://radimrehurek.com/gensim/auto_examples/core/run_core_concepts.html\n",
    "- Document similarity queries, URL: https://radimrehurek.com/gensim/similarities/docsim.html\n",
    "- Tutorial 19: Text analysis with gensim, URL: https://statsmaths.github.io/stat289-f18/solutions/tutorial19-gensim.html\n",
    "- Gensim TF-IDF model, URL: https://radimrehurek.com/gensim/models/tfidfmodel.html?highlight=tfidfmodel#module-gensim.models.tfidfmodel\n",
    "- Gensim, Construct word<->id mappings, URL: https://radimrehurek.com/gensim/corpora/dictionary.html?highlight=doc2idx#gensim.corpora.dictionary.Dictionary.doc2idx\n",
    "- tensorflow, Word2Vec, URL: https://www.tensorflow.org/tutorials/text/word2vec\n",
    "- Introduction to Word Embeddings, URL: https://pub.towardsai.net/introduction-to-word-embedding-5ba5cf97d296\n",
    "- Python for NLP: Working with the Gensim Library (Part 1), URL: https://stackabuse.com/python-for-nlp-working-with-the-gensim-library-part-1/\n",
    "- Packt main github repository, URL: https://github.com/PacktPublishing\n"
   ],
   "cell_type": "markdown",
   "metadata": {}
  },
  {
   "cell_type": "code",
   "execution_count": 1,
   "metadata": {},
   "outputs": [
    {
     "output_type": "stream",
     "name": "stderr",
     "text": [
      "[nltk_data] Downloading package punkt to\n[nltk_data]     C:\\Users\\Felipe\\AppData\\Roaming\\nltk_data...\n[nltk_data]   Package punkt is already up-to-date!\n[nltk_data] Downloading package stopwords to\n[nltk_data]     C:\\Users\\Felipe\\AppData\\Roaming\\nltk_data...\n[nltk_data]   Package stopwords is already up-to-date!\n[nltk_data] Downloading package wordnet to\n[nltk_data]     C:\\Users\\Felipe\\AppData\\Roaming\\nltk_data...\n[nltk_data]   Package wordnet is already up-to-date!\n"
     ]
    },
    {
     "output_type": "execute_result",
     "data": {
      "text/plain": [
       "True"
      ]
     },
     "metadata": {},
     "execution_count": 1
    }
   ],
   "source": [
    "\"\"\"\n",
    "* Copyright 2020, Maestria de Humanidades Digitales,\n",
    "* Universidad de Los Andes\n",
    "*\n",
    "* Developed for the Msc graduation project in Digital Humanities\n",
    "*\n",
    "* This program is free software: you can redistribute it and/or modify\n",
    "* it under the terms of the GNU General Public License as published by\n",
    "* the Free Software Foundation, either version 3 of the License, or\n",
    "* (at your option) any later version.\n",
    "*\n",
    "* This program is distributed in the hope that it will be useful,\n",
    "* but WITHOUT ANY WARRANTY; without even the implied warranty of\n",
    "* MERCHANTABILITY or FITNESS FOR A PARTICULAR PURPOSE.  See the\n",
    "* GNU General Public License for more details.\n",
    "*\n",
    "* You should have received a copy of the GNU General Public License\n",
    "* along with this program.  If not, see <http://www.gnu.org/licenses/>.\n",
    "\"\"\"\n",
    "\n",
    "# ===============================\n",
    "# native python libraries\n",
    "# ===============================\n",
    "import os\n",
    "import copy\n",
    "import sys\n",
    "import csv\n",
    "import re\n",
    "import pprint\n",
    "import datetime\n",
    "\n",
    "# ===============================\n",
    "# extension python libraries\n",
    "# ===============================\n",
    "import pandas as pd\n",
    "from pandas_profiling import ProfileReport\n",
    "import numpy as np\n",
    "import gensim\n",
    "from gensim import models\n",
    "from gensim import matutils\n",
    "from gensim import similarities\n",
    "import nltk\n",
    "from nltk.stem import WordNetLemmatizer\n",
    "from nltk.corpus import stopwords\n",
    "\n",
    "# downloading nlkt data\n",
    "nltk.download('punkt')\n",
    "nltk.download('stopwords')\n",
    "nltk.download('wordnet')\n",
    "\n",
    "\n",
    "# ===============================\n",
    "# developed python libraries\n",
    "# ===============================\n"
   ]
  },
  {
   "cell_type": "code",
   "execution_count": 2,
   "metadata": {},
   "outputs": [],
   "source": [
    "# notebook varlable definitions\n",
    "# root folder\n",
    "dataf = \"Data\"\n",
    "\n",
    "# subfolder with the OCR transcrived txt data\n",
    "prepf = \"Prep\"\n",
    "\n",
    "#  subfolder with the CSV files containing the ML pandas dataframe\n",
    "stdf = \"Std\"\n",
    "\n",
    "# subfolder for reports\n",
    "reportf = \"Reports\"\n",
    "\n",
    "# dataframe file extension\n",
    "fext = \"csv\"\n",
    "\n",
    "# dictionary extension\n",
    "dext = \"dict\"\n",
    "\n",
    "# dataframe file name\n",
    "small_fn = \"VVG-Gallery-Text-Data-Small\" + \".\" + fext\n",
    "large_fn = \"VVG-Gallery-Text-Data-Large\" + \".\" + fext\n",
    "\n",
    "# report names\n",
    "str_date = datetime.date.today().strftime(\"%d-%b-%Y\")\n",
    "small_report = \"VVG-TextData-Report-Small-\" + str_date + \".\" + \"html\"\n",
    "large_report = \"VVG-TextData-Report-Large-\" + str_date + \".\" + \"html\"\n",
    "\n",
    "# regex for _TEXT\n",
    "text_re = u\"\\w+_TEXT\"\n",
    "\n",
    "# regex for ID\n",
    "id_re = u\"ID{1}\"\n",
    "\n",
    "# regex for others (URLs|Categories)\n",
    "cat_re = u\"\\b(?!(ID{1}|\\w+_TEXT))\\b(\\w+\\W+)+\"\n",
    "cat_re = u\"ID{1}(^\\w+( \\w+)*$)\"\n",
    "\n",
    "# default values\n",
    "work_fn, work_report = small_fn, small_report\n",
    "# work_fn, work_report = large_fn, large_report"
   ]
  },
  {
   "cell_type": "code",
   "execution_count": 3,
   "metadata": {},
   "outputs": [
    {
     "output_type": "stream",
     "name": "stdout",
     "text": [
      "c:\\Users\\Felipe\\Documents\\GitHub\\sa-artea\\VVG-Gallery-StdDataProcessor\n"
     ]
    }
   ],
   "source": [
    "root_folder = os.getcwd()\n",
    "root_folder = os.path.split(root_folder)[0]\n",
    "root_folder = os.path.normpath(root_folder)\n",
    "print(root_folder)"
   ]
  },
  {
   "cell_type": "code",
   "execution_count": 4,
   "metadata": {},
   "outputs": [
    {
     "output_type": "stream",
     "name": "stdout",
     "text": [
      "c:\\Users\\Felipe\\Documents\\GitHub\\sa-artea\\VVG-Gallery-StdDataProcessor\\Data\\Prep\\VVG-Gallery-Text-Data-Small.csv\n"
     ]
    }
   ],
   "source": [
    "# loading the CSV file into pandas\n",
    "# read an existing CSV fileto update the dataframe\n",
    "fn_path = os.path.join(root_folder, dataf, prepf, work_fn)\n",
    "print(fn_path)\n",
    "text_df = pd.read_csv(\n",
    "                fn_path,\n",
    "                sep=\",\",\n",
    "                encoding=\"utf-8\",\n",
    "                engine=\"python\",\n",
    "            )"
   ]
  },
  {
   "cell_type": "code",
   "execution_count": 5,
   "metadata": {},
   "outputs": [],
   "source": [
    "# pandas profile\n",
    "profile = ProfileReport(text_df, title=\"Pandas Profiling Report\", explorative=True)"
   ]
  },
  {
   "cell_type": "code",
   "execution_count": 6,
   "metadata": {},
   "outputs": [
    {
     "output_type": "stream",
     "name": "stderr",
     "text": [
      "Summarize dataset: 100%|██████████| 69/69 [01:27<00:00,  1.26s/it, Completed]\n",
      "Generate report structure: 100%|██████████| 1/1 [00:56<00:00, 56.20s/it]\n",
      "Render HTML: 100%|██████████| 1/1 [00:06<00:00,  6.72s/it]\n",
      "Export report to file: 100%|██████████| 1/1 [00:00<00:00, 43.48it/s]\n"
     ]
    }
   ],
   "source": [
    "# profile.to_widgets()\n",
    "rf_path = os.path.join(root_folder, dataf, reportf, work_report)\n",
    "profile.to_file(rf_path)"
   ]
  },
  {
   "cell_type": "code",
   "execution_count": 7,
   "metadata": {},
   "outputs": [],
   "source": [
    "# getting the df columns\n",
    "df_cols = list(text_df)\n",
    "\n",
    "# getting the text columns\n",
    "text_r = re.compile(text_re)\n",
    "text_cols = list(filter(text_r.match, df_cols))\n",
    "\n",
    "# getting the ID column\n",
    "id_r = re.compile(id_re)\n",
    "id_cols = list(filter(id_r.match, df_cols))\n",
    "\n",
    "# getting the URLs/Category columns\n",
    "cat_r = re.compile(cat_re)\n",
    "cat_cols = list(filter(cat_r.match, df_cols))"
   ]
  },
  {
   "cell_type": "code",
   "execution_count": 8,
   "metadata": {},
   "outputs": [
    {
     "output_type": "stream",
     "name": "stdout",
     "text": [
      "df columns:\n ['ID', 'F-number', 'JH-number', 'creator-date', 'creator-place', 'Dimensions', 'details', 'credits', 'CORE_TEXT', 'heads', 'Head of a Woman', 'Head of a Man', 'Head of a Woman 1', 'Head of a Woman 2', 'Head of a Woman 3', 'Head of a Woman 4', 'Head of a Prostitute', 'Head of an Old Man', 'Torso of Venus', 'Torso of Venus 1', 'Torso of Venus 2', 'Torso of Venus 3', 'this torso of Venus', 'standing torso of Venus', 'Plaster Cast of a Womans Torso', 'Plaster Cast of a Womans Torso 1', 'Male Torso', 'drawing', 'painting', 'portrait', 'still life', 'nude', 'cityscape', 'animal art', 'Horse', 'Kneeling Ecorche', 'Portrait of a Prostitute', 'Woman Sewing', 'The Potato Eaters', 'Letter from Vincent van Gogh to Theo van Gogh with sketches of Head of a Woman and Head of a Woman', 'Van Gogh wrote', 'he wrote', 'drew', 'complementary colours', 'which he painted a number of times', 'He would use this technique more than once in his later work', '1881', '1884', '1885', '1886', '1887', '1890', 'Nuenen', 'Antwerp', 'Paris', 'Brussels']\nID column:\n ['CORE_TEXT']\ntext columns:\n ['CORE_TEXT']\ncategory columns:\n []\n"
     ]
    }
   ],
   "source": [
    "print(\"df columns:\\n\", df_cols)\n",
    "print(\"ID column:\\n\", text_cols)\n",
    "print(\"text columns:\\n\", text_cols)\n",
    "print(\"category columns:\\n\", cat_cols)"
   ]
  },
  {
   "cell_type": "code",
   "execution_count": 9,
   "metadata": {},
   "outputs": [
    {
     "output_type": "stream",
     "name": "stdout",
     "text": [
      "59\n"
     ]
    }
   ],
   "source": [
    "# getting the original working text\n",
    "text_corpus = list(text_df[text_cols[0]])\n",
    "print(len(text_corpus))"
   ]
  },
  {
   "cell_type": "code",
   "execution_count": 10,
   "metadata": {},
   "outputs": [
    {
     "output_type": "stream",
     "name": "stdout",
     "text": [
      "59 59\n"
     ]
    }
   ],
   "source": [
    "# to working text\n",
    "text_clean = list()\n",
    "for text in text_corpus:\n",
    "    text = text.lower()\n",
    "    text_clean.append(text)\n",
    "\n",
    "print(len(text_clean), len(text_corpus))"
   ]
  },
  {
   "cell_type": "code",
   "execution_count": 11,
   "metadata": {
    "tags": []
   },
   "outputs": [
    {
     "output_type": "stream",
     "name": "stdout",
     "text": [
      "59 59\n"
     ]
    }
   ],
   "source": [
    "# cleaning and preprocessing text for word2vec\n",
    "i = 0\n",
    "for i in range(0, len(text_clean)):\n",
    "    text = text_clean[i]\n",
    "    # removing special characters\n",
    "    text = re.sub(r\"\\W\", \" \", text)\n",
    "    # finding missing points between numbers\n",
    "    text = re.sub(r\"(\\d{1,3}) (\\d{1,2})\", r\"\\1.\\2\", text)\n",
    "    # removing excessive spaces\n",
    "    text = re.sub(r\"\\s+\", \" \", text)\n",
    "    text_clean[i] = text\n",
    "    i = i + 1\n",
    "\n",
    "print(len(text_clean), len(text_corpus))"
   ]
  },
  {
   "cell_type": "code",
   "execution_count": 12,
   "metadata": {},
   "outputs": [
    {
     "output_type": "stream",
     "name": "stdout",
     "text": [
      "59 59 59\n"
     ]
    }
   ],
   "source": [
    "# tokenising text\n",
    "text_tokens = list()\n",
    "\n",
    "for text in text_clean:\n",
    "    text = text.split()\n",
    "    text_tokens.append(text)\n",
    "    # print(text)\n",
    "\n",
    "print(len(text_tokens), len(text_clean), len(text_corpus))"
   ]
  },
  {
   "cell_type": "code",
   "execution_count": 13,
   "metadata": {},
   "outputs": [
    {
     "output_type": "stream",
     "name": "stdout",
     "text": [
      "59 59 59 59\n"
     ]
    }
   ],
   "source": [
    "# removing stopwords\n",
    "text_nsw_tokens = list()\n",
    "\n",
    "for tokens in text_tokens:\n",
    "\n",
    "    clear_tokens = list()\n",
    "\n",
    "    for token in tokens:\n",
    "        if not token in stopwords.words('english'):\n",
    "            clear_tokens.append(token)\n",
    "    \n",
    "    ttokens = copy.deepcopy(clear_tokens)\n",
    "    text_nsw_tokens.append(ttokens)\n",
    "    # print(clear_tokens)\n",
    "\n",
    "print(len(text_nsw_tokens), len(text_tokens), len(text_clean), len(text_corpus))"
   ]
  },
  {
   "cell_type": "code",
   "execution_count": 14,
   "metadata": {
    "tags": []
   },
   "outputs": [
    {
     "output_type": "stream",
     "name": "stdout",
     "text": [
      "59 59 59 59 59\n"
     ]
    }
   ],
   "source": [
    "# lematization of the text\n",
    "text_lemmas = list()\n",
    "token_lematizer = WordNetLemmatizer()\n",
    "\n",
    "for tokens in text_nsw_tokens:\n",
    "\n",
    "    lemma_tokens = list()\n",
    "\n",
    "    for token in tokens:\n",
    "        \n",
    "        ans = token_lematizer.lemmatize(token)\n",
    "        lemma_tokens.append(ans)\n",
    "\n",
    "    tlemmas = copy.deepcopy(lemma_tokens)\n",
    "    text_lemmas.append(tlemmas)\n",
    "\n",
    "print(len(text_lemmas), len(text_nsw_tokens), len(text_tokens), len(text_clean), len(text_corpus))"
   ]
  },
  {
   "cell_type": "code",
   "execution_count": 15,
   "metadata": {},
   "outputs": [],
   "source": [
    "text_df[\"TOKENS\"] = text_tokens\n",
    "text_df[\"PREP_TOKENS\"] = text_lemmas"
   ]
  },
  {
   "cell_type": "code",
   "execution_count": 16,
   "metadata": {},
   "outputs": [
    {
     "output_type": "execute_result",
     "data": {
      "text/plain": [
       "            ID F-number JH-number    creator-date creator-place  \\\n",
       "0  s0004V1962r   F0388r    JH0782        May 1885        Nuenen   \n",
       "1   s0006V1962    F0160    JH0722      April 1885        Nuenen   \n",
       "2   s0010V1962    F0174    JH0978   December 1885       Antwerp   \n",
       "3   s0056V1962   F0216a    JH1054       June 1886         Paris   \n",
       "4   s0058V1962    F0161    JH0788  March-May 1885        Nuenen   \n",
       "\n",
       "                                          Dimensions           details  \\\n",
       "0                                  43.5 cm x 36.2 cm     oil on canvas   \n",
       "1  43.2 cm x 30.0 cm, 2.2 cm x 59.0 cm, 46.2 cm x...     oil on canvas   \n",
       "2               50.5 cm x 39.8 cm, 68.1 cm x 57.7 cm     oil on canvas   \n",
       "3               46.0 cm x 38.0 cm, 55.1 cm x 46.5 cm  oil on cardboard   \n",
       "4                   45.5 cm x 33.0 cm, 60 cm x 48 cm     oil on canvas   \n",
       "\n",
       "                                             credits  \\\n",
       "0  Van Gogh Museum, Amsterdam (Vincent van Gogh F...   \n",
       "1  Van Gogh Museum, Amsterdam (Vincent van Gogh F...   \n",
       "2  Van Gogh Museum, Amsterdam (Vincent van Gogh F...   \n",
       "3  Van Gogh Museum, Amsterdam (Vincent van Gogh F...   \n",
       "4  Van Gogh Museum, Amsterdam (Vincent van Gogh F...   \n",
       "\n",
       "                                           CORE_TEXT  \\\n",
       "0  Head of a Woman  With his brother Theo van Gog...   \n",
       "1  Head of a Woman This woman is Gordina de Groot...   \n",
       "2  Portrait of an Old Woman The old womans grey h...   \n",
       "3  Torso of Venus Van Gogh was thorough in everyt...   \n",
       "4  Woman with a Mourning Shawl Here, Van Gogh was...   \n",
       "\n",
       "                                               heads  ...  \\\n",
       "0  https://vangoghmuseum.nl/en/collection?Genre=h...  ...   \n",
       "1  https://vangoghmuseum.nl/en/collection?Genre=h...  ...   \n",
       "2                                          localhost  ...   \n",
       "3                                          localhost  ...   \n",
       "4  https://vangoghmuseum.nl/en/collection?Genre=h...  ...   \n",
       "\n",
       "                                               1885  \\\n",
       "0  https://vangoghmuseum.nl/en/collection?Date=1885   \n",
       "1  https://vangoghmuseum.nl/en/collection?Date=1885   \n",
       "2  https://vangoghmuseum.nl/en/collection?Date=1885   \n",
       "3                                         localhost   \n",
       "4  https://vangoghmuseum.nl/en/collection?Date=1885   \n",
       "\n",
       "                                               1886       1887       1890  \\\n",
       "0                                         localhost  localhost  localhost   \n",
       "1                                         localhost  localhost  localhost   \n",
       "2                                         localhost  localhost  localhost   \n",
       "3  https://vangoghmuseum.nl/en/collection?Date=1886  localhost  localhost   \n",
       "4                                         localhost  localhost  localhost   \n",
       "\n",
       "                                              Nuenen  \\\n",
       "0  https://vangoghmuseum.nl/en/collection?Place=N...   \n",
       "1  https://vangoghmuseum.nl/en/collection?Place=N...   \n",
       "2                                          localhost   \n",
       "3                                          localhost   \n",
       "4  https://vangoghmuseum.nl/en/collection?Place=N...   \n",
       "\n",
       "                                             Antwerp  \\\n",
       "0                                          localhost   \n",
       "1                                          localhost   \n",
       "2  https://vangoghmuseum.nl/en/collection?Place=A...   \n",
       "3                                          localhost   \n",
       "4                                          localhost   \n",
       "\n",
       "                                               Paris   Brussels  \\\n",
       "0                                          localhost  localhost   \n",
       "1                                          localhost  localhost   \n",
       "2                                          localhost  localhost   \n",
       "3  https://vangoghmuseum.nl/en/collection?Place=P...  localhost   \n",
       "4                                          localhost  localhost   \n",
       "\n",
       "                                              TOKENS  \\\n",
       "0  [head, of, a, woman, with, his, brother, theo,...   \n",
       "1  [head, of, a, woman, this, woman, is, gordina,...   \n",
       "2  [portrait, of, an, old, woman, the, old, woman...   \n",
       "3  [torso, of, venus, van, gogh, was, thorough, i...   \n",
       "4  [woman, with, a, mourning, shawl, here, van, g...   \n",
       "\n",
       "                                         PREP_TOKENS  \n",
       "0  [head, woman, brother, theo, van, gogh, paris,...  \n",
       "1  [head, woman, woman, gordina, de, groot, posed...  \n",
       "2  [portrait, old, woman, old, woman, grey, hair,...  \n",
       "3  [torso, venus, van, gogh, thorough, everything...  \n",
       "4  [woman, mourning, shawl, van, gogh, practising...  \n",
       "\n",
       "[5 rows x 58 columns]"
      ],
      "text/html": "<div>\n<style scoped>\n    .dataframe tbody tr th:only-of-type {\n        vertical-align: middle;\n    }\n\n    .dataframe tbody tr th {\n        vertical-align: top;\n    }\n\n    .dataframe thead th {\n        text-align: right;\n    }\n</style>\n<table border=\"1\" class=\"dataframe\">\n  <thead>\n    <tr style=\"text-align: right;\">\n      <th></th>\n      <th>ID</th>\n      <th>F-number</th>\n      <th>JH-number</th>\n      <th>creator-date</th>\n      <th>creator-place</th>\n      <th>Dimensions</th>\n      <th>details</th>\n      <th>credits</th>\n      <th>CORE_TEXT</th>\n      <th>heads</th>\n      <th>...</th>\n      <th>1885</th>\n      <th>1886</th>\n      <th>1887</th>\n      <th>1890</th>\n      <th>Nuenen</th>\n      <th>Antwerp</th>\n      <th>Paris</th>\n      <th>Brussels</th>\n      <th>TOKENS</th>\n      <th>PREP_TOKENS</th>\n    </tr>\n  </thead>\n  <tbody>\n    <tr>\n      <th>0</th>\n      <td>s0004V1962r</td>\n      <td>F0388r</td>\n      <td>JH0782</td>\n      <td>May 1885</td>\n      <td>Nuenen</td>\n      <td>43.5 cm x 36.2 cm</td>\n      <td>oil on canvas</td>\n      <td>Van Gogh Museum, Amsterdam (Vincent van Gogh F...</td>\n      <td>Head of a Woman  With his brother Theo van Gog...</td>\n      <td>https://vangoghmuseum.nl/en/collection?Genre=h...</td>\n      <td>...</td>\n      <td>https://vangoghmuseum.nl/en/collection?Date=1885</td>\n      <td>localhost</td>\n      <td>localhost</td>\n      <td>localhost</td>\n      <td>https://vangoghmuseum.nl/en/collection?Place=N...</td>\n      <td>localhost</td>\n      <td>localhost</td>\n      <td>localhost</td>\n      <td>[head, of, a, woman, with, his, brother, theo,...</td>\n      <td>[head, woman, brother, theo, van, gogh, paris,...</td>\n    </tr>\n    <tr>\n      <th>1</th>\n      <td>s0006V1962</td>\n      <td>F0160</td>\n      <td>JH0722</td>\n      <td>April 1885</td>\n      <td>Nuenen</td>\n      <td>43.2 cm x 30.0 cm, 2.2 cm x 59.0 cm, 46.2 cm x...</td>\n      <td>oil on canvas</td>\n      <td>Van Gogh Museum, Amsterdam (Vincent van Gogh F...</td>\n      <td>Head of a Woman This woman is Gordina de Groot...</td>\n      <td>https://vangoghmuseum.nl/en/collection?Genre=h...</td>\n      <td>...</td>\n      <td>https://vangoghmuseum.nl/en/collection?Date=1885</td>\n      <td>localhost</td>\n      <td>localhost</td>\n      <td>localhost</td>\n      <td>https://vangoghmuseum.nl/en/collection?Place=N...</td>\n      <td>localhost</td>\n      <td>localhost</td>\n      <td>localhost</td>\n      <td>[head, of, a, woman, this, woman, is, gordina,...</td>\n      <td>[head, woman, woman, gordina, de, groot, posed...</td>\n    </tr>\n    <tr>\n      <th>2</th>\n      <td>s0010V1962</td>\n      <td>F0174</td>\n      <td>JH0978</td>\n      <td>December 1885</td>\n      <td>Antwerp</td>\n      <td>50.5 cm x 39.8 cm, 68.1 cm x 57.7 cm</td>\n      <td>oil on canvas</td>\n      <td>Van Gogh Museum, Amsterdam (Vincent van Gogh F...</td>\n      <td>Portrait of an Old Woman The old womans grey h...</td>\n      <td>localhost</td>\n      <td>...</td>\n      <td>https://vangoghmuseum.nl/en/collection?Date=1885</td>\n      <td>localhost</td>\n      <td>localhost</td>\n      <td>localhost</td>\n      <td>localhost</td>\n      <td>https://vangoghmuseum.nl/en/collection?Place=A...</td>\n      <td>localhost</td>\n      <td>localhost</td>\n      <td>[portrait, of, an, old, woman, the, old, woman...</td>\n      <td>[portrait, old, woman, old, woman, grey, hair,...</td>\n    </tr>\n    <tr>\n      <th>3</th>\n      <td>s0056V1962</td>\n      <td>F0216a</td>\n      <td>JH1054</td>\n      <td>June 1886</td>\n      <td>Paris</td>\n      <td>46.0 cm x 38.0 cm, 55.1 cm x 46.5 cm</td>\n      <td>oil on cardboard</td>\n      <td>Van Gogh Museum, Amsterdam (Vincent van Gogh F...</td>\n      <td>Torso of Venus Van Gogh was thorough in everyt...</td>\n      <td>localhost</td>\n      <td>...</td>\n      <td>localhost</td>\n      <td>https://vangoghmuseum.nl/en/collection?Date=1886</td>\n      <td>localhost</td>\n      <td>localhost</td>\n      <td>localhost</td>\n      <td>localhost</td>\n      <td>https://vangoghmuseum.nl/en/collection?Place=P...</td>\n      <td>localhost</td>\n      <td>[torso, of, venus, van, gogh, was, thorough, i...</td>\n      <td>[torso, venus, van, gogh, thorough, everything...</td>\n    </tr>\n    <tr>\n      <th>4</th>\n      <td>s0058V1962</td>\n      <td>F0161</td>\n      <td>JH0788</td>\n      <td>March-May 1885</td>\n      <td>Nuenen</td>\n      <td>45.5 cm x 33.0 cm, 60 cm x 48 cm</td>\n      <td>oil on canvas</td>\n      <td>Van Gogh Museum, Amsterdam (Vincent van Gogh F...</td>\n      <td>Woman with a Mourning Shawl Here, Van Gogh was...</td>\n      <td>https://vangoghmuseum.nl/en/collection?Genre=h...</td>\n      <td>...</td>\n      <td>https://vangoghmuseum.nl/en/collection?Date=1885</td>\n      <td>localhost</td>\n      <td>localhost</td>\n      <td>localhost</td>\n      <td>https://vangoghmuseum.nl/en/collection?Place=N...</td>\n      <td>localhost</td>\n      <td>localhost</td>\n      <td>localhost</td>\n      <td>[woman, with, a, mourning, shawl, here, van, g...</td>\n      <td>[woman, mourning, shawl, van, gogh, practising...</td>\n    </tr>\n  </tbody>\n</table>\n<p>5 rows × 58 columns</p>\n</div>"
     },
     "metadata": {},
     "execution_count": 16
    }
   ],
   "source": [
    "text_df.head()"
   ]
  },
  {
   "cell_type": "code",
   "execution_count": 17,
   "metadata": {},
   "outputs": [
    {
     "output_type": "stream",
     "name": "stdout",
     "text": [
      "Dictionary(563 unique tokens: ['1', '11', '16', '1885', '1891']...)\nc:\\Users\\Felipe\\Documents\\GitHub\\sa-artea\\VVG-Gallery-StdDataProcessor\\Data\\Std\\VVG-Gallery-Text-Data-Small.dict\n"
     ]
    }
   ],
   "source": [
    "# saving gesim words dictionary\n",
    "vvg_dict = gensim.corpora.Dictionary(text_lemmas)\n",
    "print(vvg_dict)\n",
    "work_dict = work_fn.split(\".\")\n",
    "work_dict = work_dict[0] + \".\" + dext\n",
    "dict_pfn = os.path.join(root_folder, dataf, stdf, work_dict)\n",
    "print(dict_pfn)\n",
    "vvg_dict.save(dict_pfn) \n",
    "# os.path.join(\"Data\",\"VVG-gallery-text.dict\"))\n",
    "# pprint.pprint(vvg_dict.token2id)"
   ]
  },
  {
   "cell_type": "code",
   "execution_count": 18,
   "metadata": {
    "tags": []
   },
   "outputs": [
    {
     "output_type": "stream",
     "name": "stdout",
     "text": [
      "59 59 59 59 59 59 59\n"
     ]
    }
   ],
   "source": [
    "# text representation to numeric representation\n",
    "text_bows = list()\n",
    "text_idxs = list()\n",
    "\n",
    "for lemmas in text_lemmas:\n",
    "\n",
    "    # bow loose the order/semantic\n",
    "    t_bow = vvg_dict.doc2bow(lemmas, allow_update=True)\n",
    "    text_bows.append(t_bow)\n",
    "    # idz keeps the order/semantic\n",
    "    t_idx = vvg_dict.doc2idx(lemmas)\n",
    "    text_idxs.append(t_idx)\n",
    "\n",
    "print(len(text_bows), len(text_idxs), len(text_lemmas), len(text_nsw_tokens), len(text_tokens), len(text_clean), len(text_corpus))"
   ]
  },
  {
   "cell_type": "code",
   "execution_count": 19,
   "metadata": {},
   "outputs": [
    {
     "output_type": "stream",
     "name": "stdout",
     "text": [
      "59 59 59 59 59 59 59 59\n"
     ]
    }
   ],
   "source": [
    "# train the model\n",
    "tfidf = gensim.models.TfidfModel(text_idxs, dictionary=vvg_dict, normalize=True)\n",
    "corpus_tfidf = tfidf[text_bows]\n",
    "print(len(corpus_tfidf), len(text_bows), len(text_idxs), len(text_lemmas), len(text_nsw_tokens), len(text_tokens), len(text_clean), len(text_corpus))"
   ]
  },
  {
   "cell_type": "code",
   "execution_count": 20,
   "metadata": {},
   "outputs": [
    {
     "output_type": "stream",
     "name": "stdout",
     "text": [
      "<class 'pandas.core.frame.DataFrame'>\nRangeIndex: 59 entries, 0 to 58\nData columns (total 58 columns):\n #   Column                                                                                              Non-Null Count  Dtype \n---  ------                                                                                              --------------  ----- \n 0   ID                                                                                                  59 non-null     object\n 1   F-number                                                                                            59 non-null     object\n 2   JH-number                                                                                           59 non-null     object\n 3   creator-date                                                                                        59 non-null     object\n 4   creator-place                                                                                       59 non-null     object\n 5   Dimensions                                                                                          59 non-null     object\n 6   details                                                                                             59 non-null     object\n 7   credits                                                                                             59 non-null     object\n 8   CORE_TEXT                                                                                           59 non-null     object\n 9   heads                                                                                               59 non-null     object\n 10  Head of a Woman                                                                                     59 non-null     object\n 11  Head of a Man                                                                                       59 non-null     object\n 12  Head of a Woman 1                                                                                   59 non-null     object\n 13  Head of a Woman 2                                                                                   59 non-null     object\n 14  Head of a Woman 3                                                                                   59 non-null     object\n 15  Head of a Woman 4                                                                                   59 non-null     object\n 16  Head of a Prostitute                                                                                59 non-null     object\n 17  Head of an Old Man                                                                                  59 non-null     object\n 18  Torso of Venus                                                                                      59 non-null     object\n 19  Torso of Venus 1                                                                                    59 non-null     object\n 20  Torso of Venus 2                                                                                    59 non-null     object\n 21  Torso of Venus 3                                                                                    59 non-null     object\n 22  this torso of Venus                                                                                 59 non-null     object\n 23  standing torso of Venus                                                                             59 non-null     object\n 24  Plaster Cast of a Womans Torso                                                                      59 non-null     object\n 25  Plaster Cast of a Womans Torso 1                                                                    59 non-null     object\n 26  Male Torso                                                                                          59 non-null     object\n 27  drawing                                                                                             59 non-null     object\n 28  painting                                                                                            59 non-null     object\n 29  portrait                                                                                            59 non-null     object\n 30  still life                                                                                          59 non-null     object\n 31  nude                                                                                                59 non-null     object\n 32  cityscape                                                                                           59 non-null     object\n 33  animal art                                                                                          59 non-null     object\n 34  Horse                                                                                               59 non-null     object\n 35  Kneeling Ecorche                                                                                    59 non-null     object\n 36  Portrait of a Prostitute                                                                            59 non-null     object\n 37  Woman Sewing                                                                                        59 non-null     object\n 38  The Potato Eaters                                                                                   59 non-null     object\n 39  Letter from Vincent van Gogh to Theo van Gogh with sketches of Head of a Woman and Head of a Woman  59 non-null     object\n 40  Van Gogh wrote                                                                                      59 non-null     object\n 41  he wrote                                                                                            59 non-null     object\n 42  drew                                                                                                59 non-null     object\n 43  complementary colours                                                                               59 non-null     object\n 44  which he painted a number of times                                                                  59 non-null     object\n 45  He would use this technique more than once in his later work                                        59 non-null     object\n 46  1881                                                                                                59 non-null     object\n 47  1884                                                                                                59 non-null     object\n 48  1885                                                                                                59 non-null     object\n 49  1886                                                                                                59 non-null     object\n 50  1887                                                                                                59 non-null     object\n 51  1890                                                                                                59 non-null     object\n 52  Nuenen                                                                                              59 non-null     object\n 53  Antwerp                                                                                             59 non-null     object\n 54  Paris                                                                                               59 non-null     object\n 55  Brussels                                                                                            59 non-null     object\n 56  TOKENS                                                                                              59 non-null     object\n 57  PREP_TOKENS                                                                                         59 non-null     object\ndtypes: object(58)\nmemory usage: 26.9+ KB\n"
     ]
    }
   ],
   "source": [
    "text_df.info()"
   ]
  },
  {
   "cell_type": "code",
   "execution_count": 21,
   "metadata": {},
   "outputs": [
    {
     "output_type": "stream",
     "name": "stderr",
     "text": [
      "C:\\Program Files\\Python38\\lib\\site-packages\\numpy\\core\\_asarray.py:83: VisibleDeprecationWarning: Creating an ndarray from ragged nested sequences (which is a list-or-tuple of lists-or-tuples-or ndarrays with different lengths or shapes) is deprecated. If you meant to do this, you must specify 'dtype=object' when creating the ndarray\n  return array(a, dtype, copy=False, order=order)\n"
     ]
    }
   ],
   "source": [
    "text_df[\"BOWS_TOKENS\"] = text_bows\n",
    "text_df[\"IDX_TOKENS\"] = text_idxs\n",
    "text_df[\"TFIDF_TOKENS\"] = corpus_tfidf"
   ]
  },
  {
   "cell_type": "code",
   "execution_count": 22,
   "metadata": {},
   "outputs": [
    {
     "output_type": "execute_result",
     "data": {
      "text/plain": [
       "            ID F-number JH-number    creator-date creator-place  \\\n",
       "0  s0004V1962r   F0388r    JH0782        May 1885        Nuenen   \n",
       "1   s0006V1962    F0160    JH0722      April 1885        Nuenen   \n",
       "2   s0010V1962    F0174    JH0978   December 1885       Antwerp   \n",
       "3   s0056V1962   F0216a    JH1054       June 1886         Paris   \n",
       "4   s0058V1962    F0161    JH0788  March-May 1885        Nuenen   \n",
       "\n",
       "                                          Dimensions           details  \\\n",
       "0                                  43.5 cm x 36.2 cm     oil on canvas   \n",
       "1  43.2 cm x 30.0 cm, 2.2 cm x 59.0 cm, 46.2 cm x...     oil on canvas   \n",
       "2               50.5 cm x 39.8 cm, 68.1 cm x 57.7 cm     oil on canvas   \n",
       "3               46.0 cm x 38.0 cm, 55.1 cm x 46.5 cm  oil on cardboard   \n",
       "4                   45.5 cm x 33.0 cm, 60 cm x 48 cm     oil on canvas   \n",
       "\n",
       "                                             credits  \\\n",
       "0  Van Gogh Museum, Amsterdam (Vincent van Gogh F...   \n",
       "1  Van Gogh Museum, Amsterdam (Vincent van Gogh F...   \n",
       "2  Van Gogh Museum, Amsterdam (Vincent van Gogh F...   \n",
       "3  Van Gogh Museum, Amsterdam (Vincent van Gogh F...   \n",
       "4  Van Gogh Museum, Amsterdam (Vincent van Gogh F...   \n",
       "\n",
       "                                           CORE_TEXT  \\\n",
       "0  Head of a Woman  With his brother Theo van Gog...   \n",
       "1  Head of a Woman This woman is Gordina de Groot...   \n",
       "2  Portrait of an Old Woman The old womans grey h...   \n",
       "3  Torso of Venus Van Gogh was thorough in everyt...   \n",
       "4  Woman with a Mourning Shawl Here, Van Gogh was...   \n",
       "\n",
       "                                               heads  ...       1890  \\\n",
       "0  https://vangoghmuseum.nl/en/collection?Genre=h...  ...  localhost   \n",
       "1  https://vangoghmuseum.nl/en/collection?Genre=h...  ...  localhost   \n",
       "2                                          localhost  ...  localhost   \n",
       "3                                          localhost  ...  localhost   \n",
       "4  https://vangoghmuseum.nl/en/collection?Genre=h...  ...  localhost   \n",
       "\n",
       "                                              Nuenen  \\\n",
       "0  https://vangoghmuseum.nl/en/collection?Place=N...   \n",
       "1  https://vangoghmuseum.nl/en/collection?Place=N...   \n",
       "2                                          localhost   \n",
       "3                                          localhost   \n",
       "4  https://vangoghmuseum.nl/en/collection?Place=N...   \n",
       "\n",
       "                                             Antwerp  \\\n",
       "0                                          localhost   \n",
       "1                                          localhost   \n",
       "2  https://vangoghmuseum.nl/en/collection?Place=A...   \n",
       "3                                          localhost   \n",
       "4                                          localhost   \n",
       "\n",
       "                                               Paris   Brussels  \\\n",
       "0                                          localhost  localhost   \n",
       "1                                          localhost  localhost   \n",
       "2                                          localhost  localhost   \n",
       "3  https://vangoghmuseum.nl/en/collection?Place=P...  localhost   \n",
       "4                                          localhost  localhost   \n",
       "\n",
       "                                              TOKENS  \\\n",
       "0  [head, of, a, woman, with, his, brother, theo,...   \n",
       "1  [head, of, a, woman, this, woman, is, gordina,...   \n",
       "2  [portrait, of, an, old, woman, the, old, woman...   \n",
       "3  [torso, of, venus, van, gogh, was, thorough, i...   \n",
       "4  [woman, with, a, mourning, shawl, here, van, g...   \n",
       "\n",
       "                                         PREP_TOKENS  \\\n",
       "0  [head, woman, brother, theo, van, gogh, paris,...   \n",
       "1  [head, woman, woman, gordina, de, groot, posed...   \n",
       "2  [portrait, old, woman, old, woman, grey, hair,...   \n",
       "3  [torso, venus, van, gogh, thorough, everything...   \n",
       "4  [woman, mourning, shawl, van, gogh, practising...   \n",
       "\n",
       "                                         BOWS_TOKENS  \\\n",
       "0  [(0, 1), (1, 1), (2, 1), (3, 1), (4, 1), (5, 1...   \n",
       "1  [(0, 1), (2, 1), (3, 1), (4, 1), (5, 1), (6, 1...   \n",
       "2  [(0, 1), (3, 1), (4, 1), (5, 1), (9, 2), (10, ...   \n",
       "3  [(0, 1), (4, 1), (5, 1), (9, 2), (10, 2), (11,...   \n",
       "4  [(0, 1), (3, 2), (4, 1), (5, 1), (9, 2), (10, ...   \n",
       "\n",
       "                                          IDX_TOKENS  \\\n",
       "0  [33, 65, 22, 58, 61, 32, 47, 43, 3, 59, 26, 15...   \n",
       "1  [33, 65, 65, 81, 74, 83, 98, 78, 99, 76, 100, ...   \n",
       "2  [137, 136, 65, 136, 65, 127, 128, 141, 145, 11...   \n",
       "3  [173, 176, 61, 32, 172, 158, 156, 168, 94, 167...   \n",
       "4  [65, 186, 191, 61, 32, 189, 94, 194, 120, 184,...   \n",
       "\n",
       "                                        TFIDF_TOKENS  \n",
       "0  [(0, 0.0016635089512223552), (1, 0.24017793259...  \n",
       "1  [(0, 0.0006961245434044776), (2, 0.10959359241...  \n",
       "2  [(0, 0.000815611219197146), (3, 0.056642161351...  \n",
       "3  [(0, 0.0009126521072534764), (4, 0.00184117721...  \n",
       "4  [(0, 0.0006248248836673449), (3, 0.08678505406...  \n",
       "\n",
       "[5 rows x 61 columns]"
      ],
      "text/html": "<div>\n<style scoped>\n    .dataframe tbody tr th:only-of-type {\n        vertical-align: middle;\n    }\n\n    .dataframe tbody tr th {\n        vertical-align: top;\n    }\n\n    .dataframe thead th {\n        text-align: right;\n    }\n</style>\n<table border=\"1\" class=\"dataframe\">\n  <thead>\n    <tr style=\"text-align: right;\">\n      <th></th>\n      <th>ID</th>\n      <th>F-number</th>\n      <th>JH-number</th>\n      <th>creator-date</th>\n      <th>creator-place</th>\n      <th>Dimensions</th>\n      <th>details</th>\n      <th>credits</th>\n      <th>CORE_TEXT</th>\n      <th>heads</th>\n      <th>...</th>\n      <th>1890</th>\n      <th>Nuenen</th>\n      <th>Antwerp</th>\n      <th>Paris</th>\n      <th>Brussels</th>\n      <th>TOKENS</th>\n      <th>PREP_TOKENS</th>\n      <th>BOWS_TOKENS</th>\n      <th>IDX_TOKENS</th>\n      <th>TFIDF_TOKENS</th>\n    </tr>\n  </thead>\n  <tbody>\n    <tr>\n      <th>0</th>\n      <td>s0004V1962r</td>\n      <td>F0388r</td>\n      <td>JH0782</td>\n      <td>May 1885</td>\n      <td>Nuenen</td>\n      <td>43.5 cm x 36.2 cm</td>\n      <td>oil on canvas</td>\n      <td>Van Gogh Museum, Amsterdam (Vincent van Gogh F...</td>\n      <td>Head of a Woman  With his brother Theo van Gog...</td>\n      <td>https://vangoghmuseum.nl/en/collection?Genre=h...</td>\n      <td>...</td>\n      <td>localhost</td>\n      <td>https://vangoghmuseum.nl/en/collection?Place=N...</td>\n      <td>localhost</td>\n      <td>localhost</td>\n      <td>localhost</td>\n      <td>[head, of, a, woman, with, his, brother, theo,...</td>\n      <td>[head, woman, brother, theo, van, gogh, paris,...</td>\n      <td>[(0, 1), (1, 1), (2, 1), (3, 1), (4, 1), (5, 1...</td>\n      <td>[33, 65, 22, 58, 61, 32, 47, 43, 3, 59, 26, 15...</td>\n      <td>[(0, 0.0016635089512223552), (1, 0.24017793259...</td>\n    </tr>\n    <tr>\n      <th>1</th>\n      <td>s0006V1962</td>\n      <td>F0160</td>\n      <td>JH0722</td>\n      <td>April 1885</td>\n      <td>Nuenen</td>\n      <td>43.2 cm x 30.0 cm, 2.2 cm x 59.0 cm, 46.2 cm x...</td>\n      <td>oil on canvas</td>\n      <td>Van Gogh Museum, Amsterdam (Vincent van Gogh F...</td>\n      <td>Head of a Woman This woman is Gordina de Groot...</td>\n      <td>https://vangoghmuseum.nl/en/collection?Genre=h...</td>\n      <td>...</td>\n      <td>localhost</td>\n      <td>https://vangoghmuseum.nl/en/collection?Place=N...</td>\n      <td>localhost</td>\n      <td>localhost</td>\n      <td>localhost</td>\n      <td>[head, of, a, woman, this, woman, is, gordina,...</td>\n      <td>[head, woman, woman, gordina, de, groot, posed...</td>\n      <td>[(0, 1), (2, 1), (3, 1), (4, 1), (5, 1), (6, 1...</td>\n      <td>[33, 65, 65, 81, 74, 83, 98, 78, 99, 76, 100, ...</td>\n      <td>[(0, 0.0006961245434044776), (2, 0.10959359241...</td>\n    </tr>\n    <tr>\n      <th>2</th>\n      <td>s0010V1962</td>\n      <td>F0174</td>\n      <td>JH0978</td>\n      <td>December 1885</td>\n      <td>Antwerp</td>\n      <td>50.5 cm x 39.8 cm, 68.1 cm x 57.7 cm</td>\n      <td>oil on canvas</td>\n      <td>Van Gogh Museum, Amsterdam (Vincent van Gogh F...</td>\n      <td>Portrait of an Old Woman The old womans grey h...</td>\n      <td>localhost</td>\n      <td>...</td>\n      <td>localhost</td>\n      <td>localhost</td>\n      <td>https://vangoghmuseum.nl/en/collection?Place=A...</td>\n      <td>localhost</td>\n      <td>localhost</td>\n      <td>[portrait, of, an, old, woman, the, old, woman...</td>\n      <td>[portrait, old, woman, old, woman, grey, hair,...</td>\n      <td>[(0, 1), (3, 1), (4, 1), (5, 1), (9, 2), (10, ...</td>\n      <td>[137, 136, 65, 136, 65, 127, 128, 141, 145, 11...</td>\n      <td>[(0, 0.000815611219197146), (3, 0.056642161351...</td>\n    </tr>\n    <tr>\n      <th>3</th>\n      <td>s0056V1962</td>\n      <td>F0216a</td>\n      <td>JH1054</td>\n      <td>June 1886</td>\n      <td>Paris</td>\n      <td>46.0 cm x 38.0 cm, 55.1 cm x 46.5 cm</td>\n      <td>oil on cardboard</td>\n      <td>Van Gogh Museum, Amsterdam (Vincent van Gogh F...</td>\n      <td>Torso of Venus Van Gogh was thorough in everyt...</td>\n      <td>localhost</td>\n      <td>...</td>\n      <td>localhost</td>\n      <td>localhost</td>\n      <td>localhost</td>\n      <td>https://vangoghmuseum.nl/en/collection?Place=P...</td>\n      <td>localhost</td>\n      <td>[torso, of, venus, van, gogh, was, thorough, i...</td>\n      <td>[torso, venus, van, gogh, thorough, everything...</td>\n      <td>[(0, 1), (4, 1), (5, 1), (9, 2), (10, 2), (11,...</td>\n      <td>[173, 176, 61, 32, 172, 158, 156, 168, 94, 167...</td>\n      <td>[(0, 0.0009126521072534764), (4, 0.00184117721...</td>\n    </tr>\n    <tr>\n      <th>4</th>\n      <td>s0058V1962</td>\n      <td>F0161</td>\n      <td>JH0788</td>\n      <td>March-May 1885</td>\n      <td>Nuenen</td>\n      <td>45.5 cm x 33.0 cm, 60 cm x 48 cm</td>\n      <td>oil on canvas</td>\n      <td>Van Gogh Museum, Amsterdam (Vincent van Gogh F...</td>\n      <td>Woman with a Mourning Shawl Here, Van Gogh was...</td>\n      <td>https://vangoghmuseum.nl/en/collection?Genre=h...</td>\n      <td>...</td>\n      <td>localhost</td>\n      <td>https://vangoghmuseum.nl/en/collection?Place=N...</td>\n      <td>localhost</td>\n      <td>localhost</td>\n      <td>localhost</td>\n      <td>[woman, with, a, mourning, shawl, here, van, g...</td>\n      <td>[woman, mourning, shawl, van, gogh, practising...</td>\n      <td>[(0, 1), (3, 2), (4, 1), (5, 1), (9, 2), (10, ...</td>\n      <td>[65, 186, 191, 61, 32, 189, 94, 194, 120, 184,...</td>\n      <td>[(0, 0.0006248248836673449), (3, 0.08678505406...</td>\n    </tr>\n  </tbody>\n</table>\n<p>5 rows × 61 columns</p>\n</div>"
     },
     "metadata": {},
     "execution_count": 22
    }
   ],
   "source": [
    "# checking everything is okey\n",
    "text_df.head()"
   ]
  },
  {
   "cell_type": "code",
   "execution_count": 23,
   "metadata": {
    "tags": []
   },
   "outputs": [
    {
     "output_type": "stream",
     "name": "stdout",
     "text": [
      "59 59 59 59 59 59 59 59 59\n"
     ]
    }
   ],
   "source": [
    "# creating the dense vector standar representantion of the text\n",
    "text_dvector = list()\n",
    "\n",
    "# iterating in each text with the tfidf word bag\n",
    "for t_idtokens, tfidf_tokens in zip(text_idxs, corpus_tfidf):\n",
    "    # print(\"===============================\")\n",
    "    # print(len(tidxs), len(ttfidf))\n",
    "    # print(type(tidxs), type(ttfidf))\n",
    "    # dense vector representation\n",
    "    tdvect = list()\n",
    "\n",
    "    # creating the dense representation for each text\n",
    "    for t_token in t_idtokens:\n",
    "\n",
    "        # transforming the tfidf into dict\n",
    "        tokens_dict = dict(tfidf_tokens)\n",
    "        \n",
    "        # looking for each word\n",
    "        if t_token in tokens_dict.keys():\n",
    "            temp = tokens_dict.get(t_token)\n",
    "            # appending std word representation into array\n",
    "            tdvect.append(temp)\n",
    "\n",
    "    # copying std dense vector into corpus column\n",
    "    ans = copy.deepcopy(tdvect)\n",
    "    text_dvector.append(ans)\n",
    "\n",
    "# checking the size of all columna\n",
    "print(len(text_dvector), len(corpus_tfidf), len(text_bows), len(text_idxs), len(text_lemmas), len(text_nsw_tokens), len(text_tokens), len(text_clean), len(text_corpus))\n",
    "\n",
    "# adding the dense representation into the dataframe\n",
    "text_df[\"STD_DVEC_TOKENS\"] = text_dvector"
   ]
  },
  {
   "cell_type": "code",
   "execution_count": 24,
   "metadata": {},
   "outputs": [
    {
     "output_type": "execute_result",
     "data": {
      "text/plain": [
       "array([[1., 1., 1., ..., 1., 1., 0.],\n",
       "       [1., 0., 0., ..., 0., 0., 0.],\n",
       "       [1., 1., 0., ..., 0., 0., 0.],\n",
       "       ...,\n",
       "       [0., 0., 0., ..., 0., 0., 1.],\n",
       "       [0., 0., 0., ..., 0., 0., 1.],\n",
       "       [0., 0., 0., ..., 0., 0., 2.]], dtype=float32)"
      ]
     },
     "metadata": {},
     "execution_count": 24
    }
   ],
   "source": [
    "# complete text rpresentation\n",
    "tf_dense_corpus = matutils.corpus2dense(text_bows, num_terms = len(vvg_dict.token2id), num_docs = len(corpus_tfidf))\n",
    "# text_df[\"STD_CVEC_TOKENS\"] = tf_dense_corpus\n",
    "tf_dense_corpus[0:]"
   ]
  },
  {
   "cell_type": "code",
   "execution_count": 25,
   "metadata": {},
   "outputs": [],
   "source": [
    "tf_sparse_corpus = matutils.corpus2csc(corpus_tfidf)\n",
    "text_df[\"STD_SVEC_TOKENS\"] = tf_sparse_corpus"
   ]
  },
  {
   "cell_type": "code",
   "execution_count": 26,
   "metadata": {},
   "outputs": [
    {
     "output_type": "execute_result",
     "data": {
      "text/plain": [
       "            ID F-number JH-number    creator-date creator-place  \\\n",
       "0  s0004V1962r   F0388r    JH0782        May 1885        Nuenen   \n",
       "1   s0006V1962    F0160    JH0722      April 1885        Nuenen   \n",
       "2   s0010V1962    F0174    JH0978   December 1885       Antwerp   \n",
       "3   s0056V1962   F0216a    JH1054       June 1886         Paris   \n",
       "4   s0058V1962    F0161    JH0788  March-May 1885        Nuenen   \n",
       "\n",
       "                                          Dimensions           details  \\\n",
       "0                                  43.5 cm x 36.2 cm     oil on canvas   \n",
       "1  43.2 cm x 30.0 cm, 2.2 cm x 59.0 cm, 46.2 cm x...     oil on canvas   \n",
       "2               50.5 cm x 39.8 cm, 68.1 cm x 57.7 cm     oil on canvas   \n",
       "3               46.0 cm x 38.0 cm, 55.1 cm x 46.5 cm  oil on cardboard   \n",
       "4                   45.5 cm x 33.0 cm, 60 cm x 48 cm     oil on canvas   \n",
       "\n",
       "                                             credits  \\\n",
       "0  Van Gogh Museum, Amsterdam (Vincent van Gogh F...   \n",
       "1  Van Gogh Museum, Amsterdam (Vincent van Gogh F...   \n",
       "2  Van Gogh Museum, Amsterdam (Vincent van Gogh F...   \n",
       "3  Van Gogh Museum, Amsterdam (Vincent van Gogh F...   \n",
       "4  Van Gogh Museum, Amsterdam (Vincent van Gogh F...   \n",
       "\n",
       "                                           CORE_TEXT  \\\n",
       "0  Head of a Woman  With his brother Theo van Gog...   \n",
       "1  Head of a Woman This woman is Gordina de Groot...   \n",
       "2  Portrait of an Old Woman The old womans grey h...   \n",
       "3  Torso of Venus Van Gogh was thorough in everyt...   \n",
       "4  Woman with a Mourning Shawl Here, Van Gogh was...   \n",
       "\n",
       "                                               heads  ...  \\\n",
       "0  https://vangoghmuseum.nl/en/collection?Genre=h...  ...   \n",
       "1  https://vangoghmuseum.nl/en/collection?Genre=h...  ...   \n",
       "2                                          localhost  ...   \n",
       "3                                          localhost  ...   \n",
       "4  https://vangoghmuseum.nl/en/collection?Genre=h...  ...   \n",
       "\n",
       "                                             Antwerp  \\\n",
       "0                                          localhost   \n",
       "1                                          localhost   \n",
       "2  https://vangoghmuseum.nl/en/collection?Place=A...   \n",
       "3                                          localhost   \n",
       "4                                          localhost   \n",
       "\n",
       "                                               Paris   Brussels  \\\n",
       "0                                          localhost  localhost   \n",
       "1                                          localhost  localhost   \n",
       "2                                          localhost  localhost   \n",
       "3  https://vangoghmuseum.nl/en/collection?Place=P...  localhost   \n",
       "4                                          localhost  localhost   \n",
       "\n",
       "                                              TOKENS  \\\n",
       "0  [head, of, a, woman, with, his, brother, theo,...   \n",
       "1  [head, of, a, woman, this, woman, is, gordina,...   \n",
       "2  [portrait, of, an, old, woman, the, old, woman...   \n",
       "3  [torso, of, venus, van, gogh, was, thorough, i...   \n",
       "4  [woman, with, a, mourning, shawl, here, van, g...   \n",
       "\n",
       "                                         PREP_TOKENS  \\\n",
       "0  [head, woman, brother, theo, van, gogh, paris,...   \n",
       "1  [head, woman, woman, gordina, de, groot, posed...   \n",
       "2  [portrait, old, woman, old, woman, grey, hair,...   \n",
       "3  [torso, venus, van, gogh, thorough, everything...   \n",
       "4  [woman, mourning, shawl, van, gogh, practising...   \n",
       "\n",
       "                                         BOWS_TOKENS  \\\n",
       "0  [(0, 1), (1, 1), (2, 1), (3, 1), (4, 1), (5, 1...   \n",
       "1  [(0, 1), (2, 1), (3, 1), (4, 1), (5, 1), (6, 1...   \n",
       "2  [(0, 1), (3, 1), (4, 1), (5, 1), (9, 2), (10, ...   \n",
       "3  [(0, 1), (4, 1), (5, 1), (9, 2), (10, 2), (11,...   \n",
       "4  [(0, 1), (3, 2), (4, 1), (5, 1), (9, 2), (10, ...   \n",
       "\n",
       "                                          IDX_TOKENS  \\\n",
       "0  [33, 65, 22, 58, 61, 32, 47, 43, 3, 59, 26, 15...   \n",
       "1  [33, 65, 65, 81, 74, 83, 98, 78, 99, 76, 100, ...   \n",
       "2  [137, 136, 65, 136, 65, 127, 128, 141, 145, 11...   \n",
       "3  [173, 176, 61, 32, 172, 158, 156, 168, 94, 167...   \n",
       "4  [65, 186, 191, 61, 32, 189, 94, 194, 120, 184,...   \n",
       "\n",
       "                                        TFIDF_TOKENS  \\\n",
       "0  [(0, 0.0016635089512223552), (1, 0.24017793259...   \n",
       "1  [(0, 0.0006961245434044776), (2, 0.10959359241...   \n",
       "2  [(0, 0.000815611219197146), (3, 0.056642161351...   \n",
       "3  [(0, 0.0009126521072534764), (4, 0.00184117721...   \n",
       "4  [(0, 0.0006248248836673449), (3, 0.08678505406...   \n",
       "\n",
       "                                     STD_DVEC_TOKENS  \\\n",
       "0  [0.13998267716640597, 0.12108879158578355, 0.0...   \n",
       "1  [0.11715642065574383, 0.10134346399773161, 0.1...   \n",
       "2  [0.23551639596972265, 0.32295269587566183, 0.1...   \n",
       "3  [0.11551266398918976, 0.09168590962460091, 0.2...   \n",
       "4  [0.13644523534498276, 0.44711868574191016, 0.4...   \n",
       "\n",
       "                                     STD_SVEC_TOKENS  \n",
       "0    (0, 0)\\t0.0016635089512223552\\n  (1, 0)\\t0.2...  \n",
       "1    (0, 0)\\t0.0016635089512223552\\n  (1, 0)\\t0.2...  \n",
       "2    (0, 0)\\t0.0016635089512223552\\n  (1, 0)\\t0.2...  \n",
       "3    (0, 0)\\t0.0016635089512223552\\n  (1, 0)\\t0.2...  \n",
       "4    (0, 0)\\t0.0016635089512223552\\n  (1, 0)\\t0.2...  \n",
       "\n",
       "[5 rows x 63 columns]"
      ],
      "text/html": "<div>\n<style scoped>\n    .dataframe tbody tr th:only-of-type {\n        vertical-align: middle;\n    }\n\n    .dataframe tbody tr th {\n        vertical-align: top;\n    }\n\n    .dataframe thead th {\n        text-align: right;\n    }\n</style>\n<table border=\"1\" class=\"dataframe\">\n  <thead>\n    <tr style=\"text-align: right;\">\n      <th></th>\n      <th>ID</th>\n      <th>F-number</th>\n      <th>JH-number</th>\n      <th>creator-date</th>\n      <th>creator-place</th>\n      <th>Dimensions</th>\n      <th>details</th>\n      <th>credits</th>\n      <th>CORE_TEXT</th>\n      <th>heads</th>\n      <th>...</th>\n      <th>Antwerp</th>\n      <th>Paris</th>\n      <th>Brussels</th>\n      <th>TOKENS</th>\n      <th>PREP_TOKENS</th>\n      <th>BOWS_TOKENS</th>\n      <th>IDX_TOKENS</th>\n      <th>TFIDF_TOKENS</th>\n      <th>STD_DVEC_TOKENS</th>\n      <th>STD_SVEC_TOKENS</th>\n    </tr>\n  </thead>\n  <tbody>\n    <tr>\n      <th>0</th>\n      <td>s0004V1962r</td>\n      <td>F0388r</td>\n      <td>JH0782</td>\n      <td>May 1885</td>\n      <td>Nuenen</td>\n      <td>43.5 cm x 36.2 cm</td>\n      <td>oil on canvas</td>\n      <td>Van Gogh Museum, Amsterdam (Vincent van Gogh F...</td>\n      <td>Head of a Woman  With his brother Theo van Gog...</td>\n      <td>https://vangoghmuseum.nl/en/collection?Genre=h...</td>\n      <td>...</td>\n      <td>localhost</td>\n      <td>localhost</td>\n      <td>localhost</td>\n      <td>[head, of, a, woman, with, his, brother, theo,...</td>\n      <td>[head, woman, brother, theo, van, gogh, paris,...</td>\n      <td>[(0, 1), (1, 1), (2, 1), (3, 1), (4, 1), (5, 1...</td>\n      <td>[33, 65, 22, 58, 61, 32, 47, 43, 3, 59, 26, 15...</td>\n      <td>[(0, 0.0016635089512223552), (1, 0.24017793259...</td>\n      <td>[0.13998267716640597, 0.12108879158578355, 0.0...</td>\n      <td>(0, 0)\\t0.0016635089512223552\\n  (1, 0)\\t0.2...</td>\n    </tr>\n    <tr>\n      <th>1</th>\n      <td>s0006V1962</td>\n      <td>F0160</td>\n      <td>JH0722</td>\n      <td>April 1885</td>\n      <td>Nuenen</td>\n      <td>43.2 cm x 30.0 cm, 2.2 cm x 59.0 cm, 46.2 cm x...</td>\n      <td>oil on canvas</td>\n      <td>Van Gogh Museum, Amsterdam (Vincent van Gogh F...</td>\n      <td>Head of a Woman This woman is Gordina de Groot...</td>\n      <td>https://vangoghmuseum.nl/en/collection?Genre=h...</td>\n      <td>...</td>\n      <td>localhost</td>\n      <td>localhost</td>\n      <td>localhost</td>\n      <td>[head, of, a, woman, this, woman, is, gordina,...</td>\n      <td>[head, woman, woman, gordina, de, groot, posed...</td>\n      <td>[(0, 1), (2, 1), (3, 1), (4, 1), (5, 1), (6, 1...</td>\n      <td>[33, 65, 65, 81, 74, 83, 98, 78, 99, 76, 100, ...</td>\n      <td>[(0, 0.0006961245434044776), (2, 0.10959359241...</td>\n      <td>[0.11715642065574383, 0.10134346399773161, 0.1...</td>\n      <td>(0, 0)\\t0.0016635089512223552\\n  (1, 0)\\t0.2...</td>\n    </tr>\n    <tr>\n      <th>2</th>\n      <td>s0010V1962</td>\n      <td>F0174</td>\n      <td>JH0978</td>\n      <td>December 1885</td>\n      <td>Antwerp</td>\n      <td>50.5 cm x 39.8 cm, 68.1 cm x 57.7 cm</td>\n      <td>oil on canvas</td>\n      <td>Van Gogh Museum, Amsterdam (Vincent van Gogh F...</td>\n      <td>Portrait of an Old Woman The old womans grey h...</td>\n      <td>localhost</td>\n      <td>...</td>\n      <td>https://vangoghmuseum.nl/en/collection?Place=A...</td>\n      <td>localhost</td>\n      <td>localhost</td>\n      <td>[portrait, of, an, old, woman, the, old, woman...</td>\n      <td>[portrait, old, woman, old, woman, grey, hair,...</td>\n      <td>[(0, 1), (3, 1), (4, 1), (5, 1), (9, 2), (10, ...</td>\n      <td>[137, 136, 65, 136, 65, 127, 128, 141, 145, 11...</td>\n      <td>[(0, 0.000815611219197146), (3, 0.056642161351...</td>\n      <td>[0.23551639596972265, 0.32295269587566183, 0.1...</td>\n      <td>(0, 0)\\t0.0016635089512223552\\n  (1, 0)\\t0.2...</td>\n    </tr>\n    <tr>\n      <th>3</th>\n      <td>s0056V1962</td>\n      <td>F0216a</td>\n      <td>JH1054</td>\n      <td>June 1886</td>\n      <td>Paris</td>\n      <td>46.0 cm x 38.0 cm, 55.1 cm x 46.5 cm</td>\n      <td>oil on cardboard</td>\n      <td>Van Gogh Museum, Amsterdam (Vincent van Gogh F...</td>\n      <td>Torso of Venus Van Gogh was thorough in everyt...</td>\n      <td>localhost</td>\n      <td>...</td>\n      <td>localhost</td>\n      <td>https://vangoghmuseum.nl/en/collection?Place=P...</td>\n      <td>localhost</td>\n      <td>[torso, of, venus, van, gogh, was, thorough, i...</td>\n      <td>[torso, venus, van, gogh, thorough, everything...</td>\n      <td>[(0, 1), (4, 1), (5, 1), (9, 2), (10, 2), (11,...</td>\n      <td>[173, 176, 61, 32, 172, 158, 156, 168, 94, 167...</td>\n      <td>[(0, 0.0009126521072534764), (4, 0.00184117721...</td>\n      <td>[0.11551266398918976, 0.09168590962460091, 0.2...</td>\n      <td>(0, 0)\\t0.0016635089512223552\\n  (1, 0)\\t0.2...</td>\n    </tr>\n    <tr>\n      <th>4</th>\n      <td>s0058V1962</td>\n      <td>F0161</td>\n      <td>JH0788</td>\n      <td>March-May 1885</td>\n      <td>Nuenen</td>\n      <td>45.5 cm x 33.0 cm, 60 cm x 48 cm</td>\n      <td>oil on canvas</td>\n      <td>Van Gogh Museum, Amsterdam (Vincent van Gogh F...</td>\n      <td>Woman with a Mourning Shawl Here, Van Gogh was...</td>\n      <td>https://vangoghmuseum.nl/en/collection?Genre=h...</td>\n      <td>...</td>\n      <td>localhost</td>\n      <td>localhost</td>\n      <td>localhost</td>\n      <td>[woman, with, a, mourning, shawl, here, van, g...</td>\n      <td>[woman, mourning, shawl, van, gogh, practising...</td>\n      <td>[(0, 1), (3, 2), (4, 1), (5, 1), (9, 2), (10, ...</td>\n      <td>[65, 186, 191, 61, 32, 189, 94, 194, 120, 184,...</td>\n      <td>[(0, 0.0006248248836673449), (3, 0.08678505406...</td>\n      <td>[0.13644523534498276, 0.44711868574191016, 0.4...</td>\n      <td>(0, 0)\\t0.0016635089512223552\\n  (1, 0)\\t0.2...</td>\n    </tr>\n  </tbody>\n</table>\n<p>5 rows × 63 columns</p>\n</div>"
     },
     "metadata": {},
     "execution_count": 26
    }
   ],
   "source": [
    "# checking everything is okey\n",
    "text_df.head()"
   ]
  },
  {
   "cell_type": "code",
   "execution_count": 27,
   "metadata": {},
   "outputs": [
    {
     "output_type": "stream",
     "name": "stdout",
     "text": [
      "c:\\Users\\Felipe\\Documents\\GitHub\\sa-artea\\VVG-Gallery-StdDataProcessor\\Data\\Std\\std-VVG-Gallery-Text-Data-Small.csv\n"
     ]
    }
   ],
   "source": [
    "# saving the CSV file into pandas\n",
    "# writing an existing CSV fileto update the dataframe\n",
    "target_fn = \"std-\" + work_fn\n",
    "fn_tpath = os.path.join(root_folder, dataf, stdf, target_fn)\n",
    "print(fn_tpath)\n",
    "text_df.to_csv(fn_tpath,\n",
    "                sep=\",\",\n",
    "                index=False,\n",
    "                encoding=\"utf-8\",\n",
    "                mode=\"w\",\n",
    "                )"
   ]
  },
  {
   "cell_type": "code",
   "execution_count": 28,
   "metadata": {},
   "outputs": [],
   "source": [
    "# dont remember for what i did this\n",
    "# sim_index = gensim.similarities.SparseMatrixSimilarity(corpus_tfidf, num_features=len(vvg_dict))"
   ]
  }
 ]
}