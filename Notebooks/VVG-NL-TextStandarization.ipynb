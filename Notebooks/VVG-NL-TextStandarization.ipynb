{
 "metadata": {
  "language_info": {
   "codemirror_mode": {
    "name": "ipython",
    "version": 3
   },
   "file_extension": ".py",
   "mimetype": "text/x-python",
   "name": "python",
   "nbconvert_exporter": "python",
   "pygments_lexer": "ipython3",
   "version": "3.8.6-final"
  },
  "orig_nbformat": 2,
  "kernelspec": {
   "name": "python3",
   "display_name": "Python 3.8.6 64-bit",
   "metadata": {
    "interpreter": {
     "hash": "1baa965d5efe3ac65b79dfc60c0d706280b1da80fedb7760faf2759126c4f253"
    }
   }
  }
 },
 "nbformat": 4,
 "nbformat_minor": 2,
 "cells": [
  {
   "source": [
    "Word2Vec# VINCENT VAN GOGH STANDARD DATA TEXT PROCESS\n",
    "\n",
    "This script takes the gallery's text from the local data folder and process it to an standard representation with Natural Language Processing and Word2Vec methods.\n",
    "\n",
    "The process goes as follows:\n",
    "\n",
    "1. Load the CSV into a pandas DataFrame.\n",
    "2. Transform text columns into words lists.\n",
    "3. Clear the text to find tokens (remove stop words).\n",
    "4. Save corpus complete dictionary.\n",
    "4. Lemmatize the tokens to find stem words.\n",
    "5. Execute Bag of Words to find vector representation (doc2bow).\n",
    "6. Execute the mapping of tokens in the text to find vector representation (doc2idx).\n",
    "7. Execute the Word 2 Vect standarization process with tf-idf method (TF-IDF: Term Frequency - Inverse Document Frequency).\n",
    "8. Create the dense standard vector text representation.\n",
    "9. Save the the resulting CSV from pandas DataFrame\n",
    "\n",
    "The following Links were useful to create this proof of concept:\n",
    "\n",
    "- Gensim Word2Vec Tutorial, URL: https://www.kaggle.com/pierremegret/gensim-word2vec-tutorial#Getting-Started\n",
    "- Gensim Core Concepts, URL: https://radimrehurek.com/gensim/auto_examples/core/run_core_concepts.html\n",
    "- Document similarity queries, URL: https://radimrehurek.com/gensim/similarities/docsim.html\n",
    "- Tutorial 19: Text analysis with gensim, URL: https://statsmaths.github.io/stat289-f18/solutions/tutorial19-gensim.html\n",
    "- Gensim TF-IDF model, URL: https://radimrehurek.com/gensim/models/tfidfmodel.html?highlight=tfidfmodel#module-gensim.models.tfidfmodel\n",
    "- Gensim, Construct word<->id mappings, URL: https://radimrehurek.com/gensim/corpora/dictionary.html?highlight=doc2idx#gensim.corpora.dictionary.Dictionary.doc2idx\n",
    "- tensorflow, Word2Vec, URL: https://www.tensorflow.org/tutorials/text/word2vec\n",
    "- Introduction to Word Embeddings, URL: https://pub.towardsai.net/introduction-to-word-embedding-5ba5cf97d296\n",
    "- Python for NLP: Working with the Gensim Library (Part 1), URL: https://stackabuse.com/python-for-nlp-working-with-the-gensim-library-part-1/\n",
    "- Packt main github repository, URL: https://github.com/PacktPublishing\n"
   ],
   "cell_type": "markdown",
   "metadata": {}
  },
  {
   "cell_type": "code",
   "execution_count": 44,
   "metadata": {},
   "outputs": [
    {
     "output_type": "stream",
     "name": "stderr",
     "text": [
      "[nltk_data] Downloading package punkt to\n[nltk_data]     C:\\Users\\Felipe\\AppData\\Roaming\\nltk_data...\n[nltk_data]   Package punkt is already up-to-date!\n[nltk_data] Downloading package stopwords to\n[nltk_data]     C:\\Users\\Felipe\\AppData\\Roaming\\nltk_data...\n[nltk_data]   Package stopwords is already up-to-date!\n[nltk_data] Downloading package wordnet to\n[nltk_data]     C:\\Users\\Felipe\\AppData\\Roaming\\nltk_data...\n[nltk_data]   Package wordnet is already up-to-date!\n"
     ]
    },
    {
     "output_type": "execute_result",
     "data": {
      "text/plain": [
       "True"
      ]
     },
     "metadata": {},
     "execution_count": 44
    }
   ],
   "source": [
    "\"\"\"\n",
    "* Copyright 2020, Maestria de Humanidades Digitales,\n",
    "* Universidad de Los Andes\n",
    "*\n",
    "* Developed for the Msc graduation project in Digital Humanities\n",
    "*\n",
    "* This program is free software: you can redistribute it and/or modify\n",
    "* it under the terms of the GNU General Public License as published by\n",
    "* the Free Software Foundation, either version 3 of the License, or\n",
    "* (at your option) any later version.\n",
    "*\n",
    "* This program is distributed in the hope that it will be useful,\n",
    "* but WITHOUT ANY WARRANTY; without even the implied warranty of\n",
    "* MERCHANTABILITY or FITNESS FOR A PARTICULAR PURPOSE.  See the\n",
    "* GNU General Public License for more details.\n",
    "*\n",
    "* You should have received a copy of the GNU General Public License\n",
    "* along with this program.  If not, see <http://www.gnu.org/licenses/>.\n",
    "\"\"\"\n",
    "\n",
    "# ===============================\n",
    "# native python libraries\n",
    "# ===============================\n",
    "import os\n",
    "import copy\n",
    "import sys\n",
    "import csv\n",
    "import re\n",
    "import pprint\n",
    "\n",
    "# ===============================\n",
    "# extension python libraries\n",
    "# ===============================\n",
    "import pandas as pd\n",
    "import numpy as np\n",
    "import gensim\n",
    "from gensim import models\n",
    "from gensim import matutils\n",
    "from gensim import similarities\n",
    "import nltk\n",
    "from nltk.stem import WordNetLemmatizer\n",
    "from nltk.corpus import stopwords\n",
    "\n",
    "# downloading nlkt data\n",
    "nltk.download('punkt')\n",
    "nltk.download('stopwords')\n",
    "nltk.download('wordnet')\n",
    "\n",
    "\n",
    "# ===============================\n",
    "# developed python libraries\n",
    "# ===============================\n"
   ]
  },
  {
   "cell_type": "code",
   "execution_count": 45,
   "metadata": {},
   "outputs": [],
   "source": [
    "# notebook varlable definitions\n",
    "# root folder\n",
    "dataf = \"Data\"\n",
    "\n",
    "# subfolder with the OCR transcrived txt data\n",
    "prepf = \"Prep\"\n",
    "\n",
    "#  subfolder with the CSV files containing the ML pandas dataframe\n",
    "stdf = \"Std\"\n",
    "\n",
    "# dataframe file extension\n",
    "fext = \"csv\"\n",
    "\n",
    "# dictionary extension\n",
    "dext = \"dict\"\n",
    "\n",
    "# dataframe file name\n",
    "small_fn = \"VVG-Gallery-Text-Data-Small\" + \".\" + fext\n",
    "large_fn = \"VVG-Gallery-Text-Data-Large\" + \".\" + fext\n",
    "\n",
    "\n",
    "# regex for _TEXT\n",
    "text_re = u\"\\w+_TEXT\"\n",
    "\n",
    "# regex for ID\n",
    "id_re = u\"ID{1}\"\n",
    "\n",
    "# regex for others (URLs|Categories)\n",
    "cat_re = u\"\\b(?!(ID{1}|\\w+_TEXT))\\b(\\w+\\W+)+\"\n",
    "cat_re = u\"ID{1}(^\\w+( \\w+)*$)\"\n",
    "\n",
    "# default values\n",
    "work_fn = small_fn\n",
    "# work_fn = large_fn"
   ]
  },
  {
   "cell_type": "code",
   "execution_count": 46,
   "metadata": {},
   "outputs": [
    {
     "output_type": "stream",
     "name": "stdout",
     "text": [
      "c:\\Users\\Felipe\\Documents\\GitHub\\sa-artea\\VVG-Gallery-StdDataProcessor\\Notebooks\\Data\\Prep\\VVG-Gallery-Text-Data-Small.csv\n"
     ]
    }
   ],
   "source": [
    "# loading the CSV file into pandas\n",
    "# read an existing CSV fileto update the dataframe\n",
    "fn_path = os.path.join(os.getcwd(), dataf, prepf, work_fn)\n",
    "print(fn_path)\n",
    "text_df = pd.read_csv(\n",
    "                fn_path,\n",
    "                sep=\",\",\n",
    "                encoding=\"utf-8\",\n",
    "                engine=\"python\",\n",
    "            )"
   ]
  },
  {
   "cell_type": "code",
   "execution_count": 47,
   "metadata": {},
   "outputs": [],
   "source": [
    "# getting the df columns\n",
    "df_cols = list(text_df)\n",
    "\n",
    "# getting the text columns\n",
    "text_r = re.compile(text_re)\n",
    "text_cols = list(filter(text_r.match, df_cols))\n",
    "\n",
    "# getting the ID column\n",
    "id_r = re.compile(id_re)\n",
    "id_cols = list(filter(id_r.match, df_cols))\n",
    "\n",
    "# getting the URLs/Category columns\n",
    "cat_r = re.compile(cat_re)\n",
    "cat_cols = list(filter(cat_r.match, df_cols))"
   ]
  },
  {
   "cell_type": "code",
   "execution_count": 48,
   "metadata": {},
   "outputs": [
    {
     "output_type": "stream",
     "name": "stdout",
     "text": [
      "59\n"
     ]
    }
   ],
   "source": [
    "# getting the original working text\n",
    "text_corpus = list(text_df[text_cols[0]])\n",
    "print(len(text_corpus))"
   ]
  },
  {
   "cell_type": "code",
   "execution_count": 49,
   "metadata": {},
   "outputs": [
    {
     "output_type": "stream",
     "name": "stdout",
     "text": [
      "59 59\n"
     ]
    }
   ],
   "source": [
    "# to working text\n",
    "text_clean = list()\n",
    "for text in text_corpus:\n",
    "    text = text.lower()\n",
    "    text_clean.append(text)\n",
    "\n",
    "print(len(text_clean), len(text_corpus))"
   ]
  },
  {
   "cell_type": "code",
   "execution_count": 50,
   "metadata": {
    "tags": []
   },
   "outputs": [
    {
     "output_type": "stream",
     "name": "stdout",
     "text": [
      "59 59\n"
     ]
    }
   ],
   "source": [
    "# cleaning and preprocessing text for word2vec\n",
    "i = 0\n",
    "for i in range(0, len(text_clean)):\n",
    "    text = text_clean[i]\n",
    "    # removing special characters\n",
    "    text = re.sub(r\"\\W\", \" \", text)\n",
    "    # finding missing points between numbers\n",
    "    text = re.sub(r\"(\\d{1,3}) (\\d{1,2})\", r\"\\1.\\2\", text)\n",
    "    # removing excessive spaces\n",
    "    text = re.sub(r\"\\s+\", \" \", text)\n",
    "    text_clean[i] = text\n",
    "    i = i + 1\n",
    "\n",
    "print(len(text_clean), len(text_corpus))"
   ]
  },
  {
   "cell_type": "code",
   "execution_count": 51,
   "metadata": {},
   "outputs": [
    {
     "output_type": "stream",
     "name": "stdout",
     "text": [
      "59 59 59\n"
     ]
    }
   ],
   "source": [
    "# tokenising text\n",
    "text_tokens = list()\n",
    "\n",
    "for text in text_clean:\n",
    "    text = text.split()\n",
    "    text_tokens.append(text)\n",
    "    # print(text)\n",
    "\n",
    "print(len(text_tokens), len(text_clean), len(text_corpus))"
   ]
  },
  {
   "cell_type": "code",
   "execution_count": 52,
   "metadata": {},
   "outputs": [
    {
     "output_type": "stream",
     "name": "stdout",
     "text": [
      "59 59 59 59\n"
     ]
    }
   ],
   "source": [
    "# removing stopwords\n",
    "text_nsw_tokens = list()\n",
    "\n",
    "for tokens in text_tokens:\n",
    "\n",
    "    clear_tokens = list()\n",
    "\n",
    "    for token in tokens:\n",
    "        if not token in stopwords.words('english'):\n",
    "            clear_tokens.append(token)\n",
    "    \n",
    "    ttokens = copy.deepcopy(clear_tokens)\n",
    "    text_nsw_tokens.append(ttokens)\n",
    "    # print(clear_tokens)\n",
    "\n",
    "print(len(text_nsw_tokens), len(text_tokens), len(text_clean), len(text_corpus))"
   ]
  },
  {
   "cell_type": "code",
   "execution_count": 53,
   "metadata": {
    "tags": []
   },
   "outputs": [
    {
     "output_type": "stream",
     "name": "stdout",
     "text": [
      "59 59 59 59 59\n"
     ]
    }
   ],
   "source": [
    "# lematization of the text\n",
    "text_lemmas = list()\n",
    "token_lematizer = WordNetLemmatizer()\n",
    "\n",
    "for tokens in text_nsw_tokens:\n",
    "\n",
    "    lemma_tokens = list()\n",
    "\n",
    "    for token in tokens:\n",
    "        \n",
    "        ans = token_lematizer.lemmatize(token)\n",
    "        lemma_tokens.append(ans)\n",
    "\n",
    "    tlemmas = copy.deepcopy(lemma_tokens)\n",
    "    text_lemmas.append(tlemmas)\n",
    "\n",
    "print(len(text_lemmas), len(text_nsw_tokens), len(text_tokens), len(text_clean), len(text_corpus))"
   ]
  },
  {
   "cell_type": "code",
   "execution_count": 54,
   "metadata": {},
   "outputs": [],
   "source": [
    "text_df[\"TOKENS\"] = text_tokens\n",
    "text_df[\"PREP_TOKENS\"] = text_lemmas"
   ]
  },
  {
   "cell_type": "code",
   "execution_count": 55,
   "metadata": {},
   "outputs": [
    {
     "output_type": "execute_result",
     "data": {
      "text/plain": [
       "            ID                                          CORE_TEXT  \\\n",
       "0  s0004V1962r  Head of a Woman Vincent van Gogh (1853 - 1890)...   \n",
       "1   s0006V1962  Head of a Woman Vincent van Gogh (1853 - 1890)...   \n",
       "2   s0010V1962  Portrait of an Old Woman Vincent van Gogh (185...   \n",
       "3   s0056V1962  Torso of Venus Vincent van Gogh (1853 - 1890),...   \n",
       "4   s0058V1962  Woman with a Mourning Shawl Vincent van Gogh (...   \n",
       "\n",
       "                                            EXT_TEXT  \\\n",
       "0        F0388r JH0782 s0004V1962r 43.5 cm x 36.2 cm   \n",
       "1  F0160 JH0722 s0006V1962 43.2 cm x 30.0 cm, 2.2...   \n",
       "2  F0174 JH0978 s0010V1962 50.5 cm x 39.8 cm, 68....   \n",
       "3  F0216a JH1054 s0056V1962 46.0 cm x 38.0 cm, 55...   \n",
       "4  F0161 JH0788 s0058V1962 45.5 cm x 33.0 cm, 60 ...   \n",
       "\n",
       "                               complementary colours  \\\n",
       "0                                          localhost   \n",
       "1  https://www.vangoghmuseum.nl/en/stories/lookin...   \n",
       "2                                          localhost   \n",
       "3                                          localhost   \n",
       "4                                          localhost   \n",
       "\n",
       "                                 this torso of Venus  \\\n",
       "0                                          localhost   \n",
       "1                                          localhost   \n",
       "2                                          localhost   \n",
       "3  https://www.vangoghmuseum.nl/en/collection/s01...   \n",
       "4                                          localhost   \n",
       "\n",
       "                                                drew Van Gogh wrote  \\\n",
       "0                                          localhost      localhost   \n",
       "1                                          localhost      localhost   \n",
       "2                                          localhost      localhost   \n",
       "3                                          localhost      localhost   \n",
       "4  https://www.vangoghmuseum.nl/en/collection/d00...      localhost   \n",
       "\n",
       "  standing torso of Venus   he wrote The Potato Eaters  ...       1884  \\\n",
       "0               localhost  localhost         localhost  ...  localhost   \n",
       "1               localhost  localhost         localhost  ...  localhost   \n",
       "2               localhost  localhost         localhost  ...  localhost   \n",
       "3               localhost  localhost         localhost  ...  localhost   \n",
       "4               localhost  localhost         localhost  ...  localhost   \n",
       "\n",
       "        1887 animal art    drawing       1890  cityscape       1881  \\\n",
       "0  localhost  localhost  localhost  localhost  localhost  localhost   \n",
       "1  localhost  localhost  localhost  localhost  localhost  localhost   \n",
       "2  localhost  localhost  localhost  localhost  localhost  localhost   \n",
       "3  localhost  localhost  localhost  localhost  localhost  localhost   \n",
       "4  localhost  localhost  localhost  localhost  localhost  localhost   \n",
       "\n",
       "    Brussels                                             TOKENS  \\\n",
       "0  localhost  [head, of, a, woman, vincent, van, gogh, 1853,...   \n",
       "1  localhost  [head, of, a, woman, vincent, van, gogh, 1853,...   \n",
       "2  localhost  [portrait, of, an, old, woman, vincent, van, g...   \n",
       "3  localhost  [torso, of, venus, vincent, van, gogh, 1853, 1...   \n",
       "4  localhost  [woman, with, a, mourning, shawl, vincent, van...   \n",
       "\n",
       "                                         PREP_TOKENS  \n",
       "0  [head, woman, vincent, van, gogh, 1853, 1890, ...  \n",
       "1  [head, woman, vincent, van, gogh, 1853, 1890, ...  \n",
       "2  [portrait, old, woman, vincent, van, gogh, 185...  \n",
       "3  [torso, venus, vincent, van, gogh, 1853, 1890,...  \n",
       "4  [woman, mourning, shawl, vincent, van, gogh, 1...  \n",
       "\n",
       "[5 rows x 52 columns]"
      ],
      "text/html": "<div>\n<style scoped>\n    .dataframe tbody tr th:only-of-type {\n        vertical-align: middle;\n    }\n\n    .dataframe tbody tr th {\n        vertical-align: top;\n    }\n\n    .dataframe thead th {\n        text-align: right;\n    }\n</style>\n<table border=\"1\" class=\"dataframe\">\n  <thead>\n    <tr style=\"text-align: right;\">\n      <th></th>\n      <th>ID</th>\n      <th>CORE_TEXT</th>\n      <th>EXT_TEXT</th>\n      <th>complementary colours</th>\n      <th>this torso of Venus</th>\n      <th>drew</th>\n      <th>Van Gogh wrote</th>\n      <th>standing torso of Venus</th>\n      <th>he wrote</th>\n      <th>The Potato Eaters</th>\n      <th>...</th>\n      <th>1884</th>\n      <th>1887</th>\n      <th>animal art</th>\n      <th>drawing</th>\n      <th>1890</th>\n      <th>cityscape</th>\n      <th>1881</th>\n      <th>Brussels</th>\n      <th>TOKENS</th>\n      <th>PREP_TOKENS</th>\n    </tr>\n  </thead>\n  <tbody>\n    <tr>\n      <th>0</th>\n      <td>s0004V1962r</td>\n      <td>Head of a Woman Vincent van Gogh (1853 - 1890)...</td>\n      <td>F0388r JH0782 s0004V1962r 43.5 cm x 36.2 cm</td>\n      <td>localhost</td>\n      <td>localhost</td>\n      <td>localhost</td>\n      <td>localhost</td>\n      <td>localhost</td>\n      <td>localhost</td>\n      <td>localhost</td>\n      <td>...</td>\n      <td>localhost</td>\n      <td>localhost</td>\n      <td>localhost</td>\n      <td>localhost</td>\n      <td>localhost</td>\n      <td>localhost</td>\n      <td>localhost</td>\n      <td>localhost</td>\n      <td>[head, of, a, woman, vincent, van, gogh, 1853,...</td>\n      <td>[head, woman, vincent, van, gogh, 1853, 1890, ...</td>\n    </tr>\n    <tr>\n      <th>1</th>\n      <td>s0006V1962</td>\n      <td>Head of a Woman Vincent van Gogh (1853 - 1890)...</td>\n      <td>F0160 JH0722 s0006V1962 43.2 cm x 30.0 cm, 2.2...</td>\n      <td>https://www.vangoghmuseum.nl/en/stories/lookin...</td>\n      <td>localhost</td>\n      <td>localhost</td>\n      <td>localhost</td>\n      <td>localhost</td>\n      <td>localhost</td>\n      <td>localhost</td>\n      <td>...</td>\n      <td>localhost</td>\n      <td>localhost</td>\n      <td>localhost</td>\n      <td>localhost</td>\n      <td>localhost</td>\n      <td>localhost</td>\n      <td>localhost</td>\n      <td>localhost</td>\n      <td>[head, of, a, woman, vincent, van, gogh, 1853,...</td>\n      <td>[head, woman, vincent, van, gogh, 1853, 1890, ...</td>\n    </tr>\n    <tr>\n      <th>2</th>\n      <td>s0010V1962</td>\n      <td>Portrait of an Old Woman Vincent van Gogh (185...</td>\n      <td>F0174 JH0978 s0010V1962 50.5 cm x 39.8 cm, 68....</td>\n      <td>localhost</td>\n      <td>localhost</td>\n      <td>localhost</td>\n      <td>localhost</td>\n      <td>localhost</td>\n      <td>localhost</td>\n      <td>localhost</td>\n      <td>...</td>\n      <td>localhost</td>\n      <td>localhost</td>\n      <td>localhost</td>\n      <td>localhost</td>\n      <td>localhost</td>\n      <td>localhost</td>\n      <td>localhost</td>\n      <td>localhost</td>\n      <td>[portrait, of, an, old, woman, vincent, van, g...</td>\n      <td>[portrait, old, woman, vincent, van, gogh, 185...</td>\n    </tr>\n    <tr>\n      <th>3</th>\n      <td>s0056V1962</td>\n      <td>Torso of Venus Vincent van Gogh (1853 - 1890),...</td>\n      <td>F0216a JH1054 s0056V1962 46.0 cm x 38.0 cm, 55...</td>\n      <td>localhost</td>\n      <td>https://www.vangoghmuseum.nl/en/collection/s01...</td>\n      <td>localhost</td>\n      <td>localhost</td>\n      <td>localhost</td>\n      <td>localhost</td>\n      <td>localhost</td>\n      <td>...</td>\n      <td>localhost</td>\n      <td>localhost</td>\n      <td>localhost</td>\n      <td>localhost</td>\n      <td>localhost</td>\n      <td>localhost</td>\n      <td>localhost</td>\n      <td>localhost</td>\n      <td>[torso, of, venus, vincent, van, gogh, 1853, 1...</td>\n      <td>[torso, venus, vincent, van, gogh, 1853, 1890,...</td>\n    </tr>\n    <tr>\n      <th>4</th>\n      <td>s0058V1962</td>\n      <td>Woman with a Mourning Shawl Vincent van Gogh (...</td>\n      <td>F0161 JH0788 s0058V1962 45.5 cm x 33.0 cm, 60 ...</td>\n      <td>localhost</td>\n      <td>localhost</td>\n      <td>https://www.vangoghmuseum.nl/en/collection/d00...</td>\n      <td>localhost</td>\n      <td>localhost</td>\n      <td>localhost</td>\n      <td>localhost</td>\n      <td>...</td>\n      <td>localhost</td>\n      <td>localhost</td>\n      <td>localhost</td>\n      <td>localhost</td>\n      <td>localhost</td>\n      <td>localhost</td>\n      <td>localhost</td>\n      <td>localhost</td>\n      <td>[woman, with, a, mourning, shawl, vincent, van...</td>\n      <td>[woman, mourning, shawl, vincent, van, gogh, 1...</td>\n    </tr>\n  </tbody>\n</table>\n<p>5 rows × 52 columns</p>\n</div>"
     },
     "metadata": {},
     "execution_count": 55
    }
   ],
   "source": [
    "text_df.head()"
   ]
  },
  {
   "cell_type": "code",
   "execution_count": 56,
   "metadata": {},
   "outputs": [
    {
     "output_type": "stream",
     "name": "stdout",
     "text": [
      "Dictionary(660 unique tokens: ['1', '11', '16', '1853', '1885']...)\nData\\Std\\VVG-Gallery-Text-Data-Small.dict\n"
     ]
    }
   ],
   "source": [
    "# saving gesim words dictionary\n",
    "vvg_dict = gensim.corpora.Dictionary(text_lemmas)\n",
    "print(vvg_dict)\n",
    "work_dict = work_fn.split(\".\")\n",
    "work_dict = work_dict[0] + \".\" + dext\n",
    "dict_pfn = os.path.join(dataf, stdf, work_dict)\n",
    "print(dict_pfn)\n",
    "vvg_dict.save(dict_pfn) \n",
    "# os.path.join(\"Data\",\"VVG-gallery-text.dict\"))\n",
    "# pprint.pprint(vvg_dict.token2id)"
   ]
  },
  {
   "cell_type": "code",
   "execution_count": 57,
   "metadata": {
    "tags": []
   },
   "outputs": [
    {
     "output_type": "stream",
     "name": "stdout",
     "text": [
      "59 59 59 59 59 59 59\n"
     ]
    }
   ],
   "source": [
    "# text representation to numeric representation\n",
    "text_bows = list()\n",
    "text_idxs = list()\n",
    "\n",
    "for lemmas in text_lemmas:\n",
    "\n",
    "    # bow loose the order/semantic\n",
    "    t_bow = vvg_dict.doc2bow(lemmas, allow_update=True)\n",
    "    text_bows.append(t_bow)\n",
    "    # idz keeps the order/semantic\n",
    "    t_idx = vvg_dict.doc2idx(lemmas)\n",
    "    text_idxs.append(t_idx)\n",
    "\n",
    "print(len(text_bows), len(text_idxs), len(text_lemmas), len(text_nsw_tokens), len(text_tokens), len(text_clean), len(text_corpus))"
   ]
  },
  {
   "cell_type": "code",
   "execution_count": 58,
   "metadata": {},
   "outputs": [
    {
     "output_type": "stream",
     "name": "stdout",
     "text": [
      "59 59 59 59 59 59 59 59\n"
     ]
    }
   ],
   "source": [
    "# train the model\n",
    "tfidf = gensim.models.TfidfModel(text_idxs, dictionary=vvg_dict, normalize=True)\n",
    "corpus_tfidf = tfidf[text_bows]\n",
    "print(len(corpus_tfidf), len(text_bows), len(text_idxs), len(text_lemmas), len(text_nsw_tokens), len(text_tokens), len(text_clean), len(text_corpus))"
   ]
  },
  {
   "cell_type": "code",
   "execution_count": 59,
   "metadata": {},
   "outputs": [
    {
     "output_type": "stream",
     "name": "stdout",
     "text": [
      "<class 'pandas.core.frame.DataFrame'>\nRangeIndex: 59 entries, 0 to 58\nData columns (total 52 columns):\n #   Column                                                                                              Non-Null Count  Dtype \n---  ------                                                                                              --------------  ----- \n 0   ID                                                                                                  59 non-null     object\n 1   CORE_TEXT                                                                                           59 non-null     object\n 2   EXT_TEXT                                                                                            59 non-null     object\n 3   complementary colours                                                                               59 non-null     object\n 4   this torso of Venus                                                                                 59 non-null     object\n 5   drew                                                                                                59 non-null     object\n 6   Van Gogh wrote                                                                                      59 non-null     object\n 7   standing torso of Venus                                                                             59 non-null     object\n 8   he wrote                                                                                            59 non-null     object\n 9   The Potato Eaters                                                                                   59 non-null     object\n 10  which he painted a number of times                                                                  59 non-null     object\n 11  He would use this technique more than once in his later work                                        59 non-null     object\n 12  Head of a Woman                                                                                     59 non-null     object\n 13  Head of a Man                                                                                       59 non-null     object\n 14  Head of a Woman 1                                                                                   59 non-null     object\n 15  Head of a Woman 2                                                                                   59 non-null     object\n 16  Head of a Woman 3                                                                                   59 non-null     object\n 17  Torso of Venus                                                                                      59 non-null     object\n 18  Horse                                                                                               59 non-null     object\n 19  Torso of Venus 1                                                                                    59 non-null     object\n 20  Male Torso                                                                                          59 non-null     object\n 21  Kneeling Ecorche                                                                                    59 non-null     object\n 22  Torso of Venus 2                                                                                    59 non-null     object\n 23  Portrait of a Prostitute                                                                            59 non-null     object\n 24  Head of an Old Man                                                                                  59 non-null     object\n 25  Head of a Woman 4                                                                                   59 non-null     object\n 26  Plaster Cast of a Womans Torso                                                                      59 non-null     object\n 27  Plaster Cast of a Womans Torso 1                                                                    59 non-null     object\n 28  Torso of Venus 3                                                                                    59 non-null     object\n 29  Woman Sewing                                                                                        59 non-null     object\n 30  Letter from Vincent van Gogh to Theo van Gogh with sketches of Head of a Woman and Head of a Woman  59 non-null     object\n 31  Head of a Prostitute                                                                                59 non-null     object\n 32  1885                                                                                                59 non-null     object\n 33  Nuenen                                                                                              59 non-null     object\n 34  painting                                                                                            59 non-null     object\n 35  heads                                                                                               59 non-null     object\n 36  Antwerp                                                                                             59 non-null     object\n 37  portrait                                                                                            59 non-null     object\n 38  1886                                                                                                59 non-null     object\n 39  Paris                                                                                               59 non-null     object\n 40  still life                                                                                          59 non-null     object\n 41  nude                                                                                                59 non-null     object\n 42  1884                                                                                                59 non-null     object\n 43  1887                                                                                                59 non-null     object\n 44  animal art                                                                                          59 non-null     object\n 45  drawing                                                                                             59 non-null     object\n 46  1890                                                                                                59 non-null     object\n 47  cityscape                                                                                           59 non-null     object\n 48  1881                                                                                                59 non-null     object\n 49  Brussels                                                                                            59 non-null     object\n 50  TOKENS                                                                                              59 non-null     object\n 51  PREP_TOKENS                                                                                         59 non-null     object\ndtypes: object(52)\nmemory usage: 24.1+ KB\n"
     ]
    }
   ],
   "source": [
    "text_df.info()"
   ]
  },
  {
   "cell_type": "code",
   "execution_count": 60,
   "metadata": {},
   "outputs": [
    {
     "output_type": "stream",
     "name": "stderr",
     "text": [
      "C:\\Program Files\\Python38\\lib\\site-packages\\numpy\\core\\_asarray.py:83: VisibleDeprecationWarning: Creating an ndarray from ragged nested sequences (which is a list-or-tuple of lists-or-tuples-or ndarrays with different lengths or shapes) is deprecated. If you meant to do this, you must specify 'dtype=object' when creating the ndarray\n  return array(a, dtype, copy=False, order=order)\n"
     ]
    }
   ],
   "source": [
    "text_df[\"BOWS_TOKENS\"] = text_bows\n",
    "text_df[\"IDX_TOKENS\"] = text_idxs\n",
    "text_df[\"TFIDF_TOKENS\"] = corpus_tfidf"
   ]
  },
  {
   "cell_type": "code",
   "execution_count": 61,
   "metadata": {},
   "outputs": [
    {
     "output_type": "execute_result",
     "data": {
      "text/plain": [
       "            ID                                          CORE_TEXT  \\\n",
       "0  s0004V1962r  Head of a Woman Vincent van Gogh (1853 - 1890)...   \n",
       "1   s0006V1962  Head of a Woman Vincent van Gogh (1853 - 1890)...   \n",
       "2   s0010V1962  Portrait of an Old Woman Vincent van Gogh (185...   \n",
       "3   s0056V1962  Torso of Venus Vincent van Gogh (1853 - 1890),...   \n",
       "4   s0058V1962  Woman with a Mourning Shawl Vincent van Gogh (...   \n",
       "\n",
       "                                            EXT_TEXT  \\\n",
       "0        F0388r JH0782 s0004V1962r 43.5 cm x 36.2 cm   \n",
       "1  F0160 JH0722 s0006V1962 43.2 cm x 30.0 cm, 2.2...   \n",
       "2  F0174 JH0978 s0010V1962 50.5 cm x 39.8 cm, 68....   \n",
       "3  F0216a JH1054 s0056V1962 46.0 cm x 38.0 cm, 55...   \n",
       "4  F0161 JH0788 s0058V1962 45.5 cm x 33.0 cm, 60 ...   \n",
       "\n",
       "                               complementary colours  \\\n",
       "0                                          localhost   \n",
       "1  https://www.vangoghmuseum.nl/en/stories/lookin...   \n",
       "2                                          localhost   \n",
       "3                                          localhost   \n",
       "4                                          localhost   \n",
       "\n",
       "                                 this torso of Venus  \\\n",
       "0                                          localhost   \n",
       "1                                          localhost   \n",
       "2                                          localhost   \n",
       "3  https://www.vangoghmuseum.nl/en/collection/s01...   \n",
       "4                                          localhost   \n",
       "\n",
       "                                                drew Van Gogh wrote  \\\n",
       "0                                          localhost      localhost   \n",
       "1                                          localhost      localhost   \n",
       "2                                          localhost      localhost   \n",
       "3                                          localhost      localhost   \n",
       "4  https://www.vangoghmuseum.nl/en/collection/d00...      localhost   \n",
       "\n",
       "  standing torso of Venus   he wrote The Potato Eaters  ...    drawing  \\\n",
       "0               localhost  localhost         localhost  ...  localhost   \n",
       "1               localhost  localhost         localhost  ...  localhost   \n",
       "2               localhost  localhost         localhost  ...  localhost   \n",
       "3               localhost  localhost         localhost  ...  localhost   \n",
       "4               localhost  localhost         localhost  ...  localhost   \n",
       "\n",
       "        1890  cityscape       1881   Brussels  \\\n",
       "0  localhost  localhost  localhost  localhost   \n",
       "1  localhost  localhost  localhost  localhost   \n",
       "2  localhost  localhost  localhost  localhost   \n",
       "3  localhost  localhost  localhost  localhost   \n",
       "4  localhost  localhost  localhost  localhost   \n",
       "\n",
       "                                              TOKENS  \\\n",
       "0  [head, of, a, woman, vincent, van, gogh, 1853,...   \n",
       "1  [head, of, a, woman, vincent, van, gogh, 1853,...   \n",
       "2  [portrait, of, an, old, woman, vincent, van, g...   \n",
       "3  [torso, of, venus, vincent, van, gogh, 1853, 1...   \n",
       "4  [woman, with, a, mourning, shawl, vincent, van...   \n",
       "\n",
       "                                         PREP_TOKENS  \\\n",
       "0  [head, woman, vincent, van, gogh, 1853, 1890, ...   \n",
       "1  [head, woman, vincent, van, gogh, 1853, 1890, ...   \n",
       "2  [portrait, old, woman, vincent, van, gogh, 185...   \n",
       "3  [torso, venus, vincent, van, gogh, 1853, 1890,...   \n",
       "4  [woman, mourning, shawl, vincent, van, gogh, 1...   \n",
       "\n",
       "                                         BOWS_TOKENS  \\\n",
       "0  [(0, 1), (1, 1), (2, 1), (3, 1), (4, 2), (5, 1...   \n",
       "1  [(0, 1), (2, 1), (3, 1), (4, 2), (5, 1), (6, 1...   \n",
       "2  [(0, 1), (3, 1), (4, 2), (5, 1), (6, 1), (7, 1...   \n",
       "3  [(0, 1), (3, 1), (5, 1), (6, 1), (7, 1), (11, ...   \n",
       "4  [(0, 1), (3, 1), (4, 3), (5, 1), (6, 1), (7, 1...   \n",
       "\n",
       "                                          IDX_TOKENS  \\\n",
       "0  [39, 73, 70, 69, 38, 3, 5, 52, 49, 4, 53, 28, ...   \n",
       "1  [39, 73, 70, 69, 38, 3, 5, 52, 81, 4, 53, 28, ...   \n",
       "2  [151, 150, 73, 70, 69, 38, 3, 5, 127, 33, 4, 5...   \n",
       "3  [190, 193, 70, 69, 38, 3, 5, 55, 44, 160, 53, ...   \n",
       "4  [73, 205, 210, 70, 69, 38, 3, 5, 52, 48, 49, 4...   \n",
       "\n",
       "                                        TFIDF_TOKENS  \n",
       "0  [(0, 0.0014366751686058629), (1, 0.20742760148...  \n",
       "1  [(0, 0.0006632619049359525), (2, 0.10441989952...  \n",
       "2  [(0, 0.0007658221722692316), (4, 0.10636887288...  \n",
       "3  [(0, 0.0008712743083825235), (6, 0.00175770197...  \n",
       "4  [(0, 0.0006110115453988034), (4, 0.12729967560...  \n",
       "\n",
       "[5 rows x 55 columns]"
      ],
      "text/html": "<div>\n<style scoped>\n    .dataframe tbody tr th:only-of-type {\n        vertical-align: middle;\n    }\n\n    .dataframe tbody tr th {\n        vertical-align: top;\n    }\n\n    .dataframe thead th {\n        text-align: right;\n    }\n</style>\n<table border=\"1\" class=\"dataframe\">\n  <thead>\n    <tr style=\"text-align: right;\">\n      <th></th>\n      <th>ID</th>\n      <th>CORE_TEXT</th>\n      <th>EXT_TEXT</th>\n      <th>complementary colours</th>\n      <th>this torso of Venus</th>\n      <th>drew</th>\n      <th>Van Gogh wrote</th>\n      <th>standing torso of Venus</th>\n      <th>he wrote</th>\n      <th>The Potato Eaters</th>\n      <th>...</th>\n      <th>drawing</th>\n      <th>1890</th>\n      <th>cityscape</th>\n      <th>1881</th>\n      <th>Brussels</th>\n      <th>TOKENS</th>\n      <th>PREP_TOKENS</th>\n      <th>BOWS_TOKENS</th>\n      <th>IDX_TOKENS</th>\n      <th>TFIDF_TOKENS</th>\n    </tr>\n  </thead>\n  <tbody>\n    <tr>\n      <th>0</th>\n      <td>s0004V1962r</td>\n      <td>Head of a Woman Vincent van Gogh (1853 - 1890)...</td>\n      <td>F0388r JH0782 s0004V1962r 43.5 cm x 36.2 cm</td>\n      <td>localhost</td>\n      <td>localhost</td>\n      <td>localhost</td>\n      <td>localhost</td>\n      <td>localhost</td>\n      <td>localhost</td>\n      <td>localhost</td>\n      <td>...</td>\n      <td>localhost</td>\n      <td>localhost</td>\n      <td>localhost</td>\n      <td>localhost</td>\n      <td>localhost</td>\n      <td>[head, of, a, woman, vincent, van, gogh, 1853,...</td>\n      <td>[head, woman, vincent, van, gogh, 1853, 1890, ...</td>\n      <td>[(0, 1), (1, 1), (2, 1), (3, 1), (4, 2), (5, 1...</td>\n      <td>[39, 73, 70, 69, 38, 3, 5, 52, 49, 4, 53, 28, ...</td>\n      <td>[(0, 0.0014366751686058629), (1, 0.20742760148...</td>\n    </tr>\n    <tr>\n      <th>1</th>\n      <td>s0006V1962</td>\n      <td>Head of a Woman Vincent van Gogh (1853 - 1890)...</td>\n      <td>F0160 JH0722 s0006V1962 43.2 cm x 30.0 cm, 2.2...</td>\n      <td>https://www.vangoghmuseum.nl/en/stories/lookin...</td>\n      <td>localhost</td>\n      <td>localhost</td>\n      <td>localhost</td>\n      <td>localhost</td>\n      <td>localhost</td>\n      <td>localhost</td>\n      <td>...</td>\n      <td>localhost</td>\n      <td>localhost</td>\n      <td>localhost</td>\n      <td>localhost</td>\n      <td>localhost</td>\n      <td>[head, of, a, woman, vincent, van, gogh, 1853,...</td>\n      <td>[head, woman, vincent, van, gogh, 1853, 1890, ...</td>\n      <td>[(0, 1), (2, 1), (3, 1), (4, 2), (5, 1), (6, 1...</td>\n      <td>[39, 73, 70, 69, 38, 3, 5, 52, 81, 4, 53, 28, ...</td>\n      <td>[(0, 0.0006632619049359525), (2, 0.10441989952...</td>\n    </tr>\n    <tr>\n      <th>2</th>\n      <td>s0010V1962</td>\n      <td>Portrait of an Old Woman Vincent van Gogh (185...</td>\n      <td>F0174 JH0978 s0010V1962 50.5 cm x 39.8 cm, 68....</td>\n      <td>localhost</td>\n      <td>localhost</td>\n      <td>localhost</td>\n      <td>localhost</td>\n      <td>localhost</td>\n      <td>localhost</td>\n      <td>localhost</td>\n      <td>...</td>\n      <td>localhost</td>\n      <td>localhost</td>\n      <td>localhost</td>\n      <td>localhost</td>\n      <td>localhost</td>\n      <td>[portrait, of, an, old, woman, vincent, van, g...</td>\n      <td>[portrait, old, woman, vincent, van, gogh, 185...</td>\n      <td>[(0, 1), (3, 1), (4, 2), (5, 1), (6, 1), (7, 1...</td>\n      <td>[151, 150, 73, 70, 69, 38, 3, 5, 127, 33, 4, 5...</td>\n      <td>[(0, 0.0007658221722692316), (4, 0.10636887288...</td>\n    </tr>\n    <tr>\n      <th>3</th>\n      <td>s0056V1962</td>\n      <td>Torso of Venus Vincent van Gogh (1853 - 1890),...</td>\n      <td>F0216a JH1054 s0056V1962 46.0 cm x 38.0 cm, 55...</td>\n      <td>localhost</td>\n      <td>https://www.vangoghmuseum.nl/en/collection/s01...</td>\n      <td>localhost</td>\n      <td>localhost</td>\n      <td>localhost</td>\n      <td>localhost</td>\n      <td>localhost</td>\n      <td>...</td>\n      <td>localhost</td>\n      <td>localhost</td>\n      <td>localhost</td>\n      <td>localhost</td>\n      <td>localhost</td>\n      <td>[torso, of, venus, vincent, van, gogh, 1853, 1...</td>\n      <td>[torso, venus, vincent, van, gogh, 1853, 1890,...</td>\n      <td>[(0, 1), (3, 1), (5, 1), (6, 1), (7, 1), (11, ...</td>\n      <td>[190, 193, 70, 69, 38, 3, 5, 55, 44, 160, 53, ...</td>\n      <td>[(0, 0.0008712743083825235), (6, 0.00175770197...</td>\n    </tr>\n    <tr>\n      <th>4</th>\n      <td>s0058V1962</td>\n      <td>Woman with a Mourning Shawl Vincent van Gogh (...</td>\n      <td>F0161 JH0788 s0058V1962 45.5 cm x 33.0 cm, 60 ...</td>\n      <td>localhost</td>\n      <td>localhost</td>\n      <td>https://www.vangoghmuseum.nl/en/collection/d00...</td>\n      <td>localhost</td>\n      <td>localhost</td>\n      <td>localhost</td>\n      <td>localhost</td>\n      <td>...</td>\n      <td>localhost</td>\n      <td>localhost</td>\n      <td>localhost</td>\n      <td>localhost</td>\n      <td>localhost</td>\n      <td>[woman, with, a, mourning, shawl, vincent, van...</td>\n      <td>[woman, mourning, shawl, vincent, van, gogh, 1...</td>\n      <td>[(0, 1), (3, 1), (4, 3), (5, 1), (6, 1), (7, 1...</td>\n      <td>[73, 205, 210, 70, 69, 38, 3, 5, 52, 48, 49, 4...</td>\n      <td>[(0, 0.0006110115453988034), (4, 0.12729967560...</td>\n    </tr>\n  </tbody>\n</table>\n<p>5 rows × 55 columns</p>\n</div>"
     },
     "metadata": {},
     "execution_count": 61
    }
   ],
   "source": [
    "# checking everything is okey\n",
    "text_df.head()"
   ]
  },
  {
   "cell_type": "code",
   "execution_count": 64,
   "metadata": {
    "tags": []
   },
   "outputs": [
    {
     "output_type": "stream",
     "name": "stdout",
     "text": [
      "59 59 59 59 59 59 59 59 59\n"
     ]
    }
   ],
   "source": [
    "# creating the dense vector standar representantion of the text\n",
    "text_dvector = list()\n",
    "\n",
    "# iterating in each text with the tfidf word bag\n",
    "for t_idtokens, tfidf_tokens in zip(text_idxs, corpus_tfidf):\n",
    "    # print(\"===============================\")\n",
    "    # print(len(tidxs), len(ttfidf))\n",
    "    # print(type(tidxs), type(ttfidf))\n",
    "    # dense vector representation\n",
    "    tdvect = list()\n",
    "\n",
    "    # creating the dense representation for each text\n",
    "    for t_token in t_idtokens:\n",
    "\n",
    "        # transforming the tfidf into dict\n",
    "        tokens_dict = dict(tfidf_tokens)\n",
    "        \n",
    "        # looking for each word\n",
    "        if t_token in tokens_dict.keys():\n",
    "            temp = tokens_dict.get(t_token)\n",
    "            # appending std word representation into array\n",
    "            tdvect.append(temp)\n",
    "\n",
    "    # copying std dense vector into corpus column\n",
    "    ans = copy.deepcopy(tdvect)\n",
    "    text_dvector.append(ans)\n",
    "\n",
    "# checking the size of all columna\n",
    "print(len(text_dvector), len(corpus_tfidf), len(text_bows), len(text_idxs), len(text_lemmas), len(text_nsw_tokens), len(text_tokens), len(text_clean), len(text_corpus))\n",
    "\n",
    "# adding the dense representation into the dataframe\n",
    "text_df[\"STD_DVEC_TOKENS\"] = text_dvector"
   ]
  },
  {
   "cell_type": "code",
   "execution_count": 86,
   "metadata": {},
   "outputs": [
    {
     "output_type": "execute_result",
     "data": {
      "text/plain": [
       "array([[1., 1., 1., ..., 1., 1., 0.],\n",
       "       [1., 0., 0., ..., 0., 0., 0.],\n",
       "       [1., 1., 0., ..., 0., 0., 0.],\n",
       "       ...,\n",
       "       [0., 0., 0., ..., 0., 0., 1.],\n",
       "       [0., 0., 0., ..., 0., 0., 1.],\n",
       "       [0., 0., 0., ..., 0., 0., 2.]], dtype=float32)"
      ]
     },
     "metadata": {},
     "execution_count": 86
    }
   ],
   "source": [
    "# complete text rpresentation\n",
    "tf_dense_corpus = matutils.corpus2dense(text_bows, num_terms = len(vvg_dict.token2id), num_docs = len(corpus_tfidf))\n",
    "# text_df[\"STD_CVEC_TOKENS\"] = tf_dense_corpus\n",
    "tf_dense_corpus[0:]"
   ]
  },
  {
   "cell_type": "code",
   "execution_count": null,
   "metadata": {},
   "outputs": [],
   "source": [
    "tf_sparse_corpus = matutils.corpus2csc(corpus_tfidf)\n",
    "text_df[\"STD_SVEC_TOKENS\"] = tf_sparse_corpus"
   ]
  },
  {
   "cell_type": "code",
   "execution_count": 65,
   "metadata": {},
   "outputs": [
    {
     "output_type": "execute_result",
     "data": {
      "text/plain": [
       "            ID                                          CORE_TEXT  \\\n",
       "0  s0004V1962r  Head of a Woman Vincent van Gogh (1853 - 1890)...   \n",
       "1   s0006V1962  Head of a Woman Vincent van Gogh (1853 - 1890)...   \n",
       "2   s0010V1962  Portrait of an Old Woman Vincent van Gogh (185...   \n",
       "3   s0056V1962  Torso of Venus Vincent van Gogh (1853 - 1890),...   \n",
       "4   s0058V1962  Woman with a Mourning Shawl Vincent van Gogh (...   \n",
       "\n",
       "                                            EXT_TEXT  \\\n",
       "0        F0388r JH0782 s0004V1962r 43.5 cm x 36.2 cm   \n",
       "1  F0160 JH0722 s0006V1962 43.2 cm x 30.0 cm, 2.2...   \n",
       "2  F0174 JH0978 s0010V1962 50.5 cm x 39.8 cm, 68....   \n",
       "3  F0216a JH1054 s0056V1962 46.0 cm x 38.0 cm, 55...   \n",
       "4  F0161 JH0788 s0058V1962 45.5 cm x 33.0 cm, 60 ...   \n",
       "\n",
       "                               complementary colours  \\\n",
       "0                                          localhost   \n",
       "1  https://www.vangoghmuseum.nl/en/stories/lookin...   \n",
       "2                                          localhost   \n",
       "3                                          localhost   \n",
       "4                                          localhost   \n",
       "\n",
       "                                 this torso of Venus  \\\n",
       "0                                          localhost   \n",
       "1                                          localhost   \n",
       "2                                          localhost   \n",
       "3  https://www.vangoghmuseum.nl/en/collection/s01...   \n",
       "4                                          localhost   \n",
       "\n",
       "                                                drew Van Gogh wrote  \\\n",
       "0                                          localhost      localhost   \n",
       "1                                          localhost      localhost   \n",
       "2                                          localhost      localhost   \n",
       "3                                          localhost      localhost   \n",
       "4  https://www.vangoghmuseum.nl/en/collection/d00...      localhost   \n",
       "\n",
       "  standing torso of Venus   he wrote The Potato Eaters  ...       1890  \\\n",
       "0               localhost  localhost         localhost  ...  localhost   \n",
       "1               localhost  localhost         localhost  ...  localhost   \n",
       "2               localhost  localhost         localhost  ...  localhost   \n",
       "3               localhost  localhost         localhost  ...  localhost   \n",
       "4               localhost  localhost         localhost  ...  localhost   \n",
       "\n",
       "   cityscape       1881   Brussels  \\\n",
       "0  localhost  localhost  localhost   \n",
       "1  localhost  localhost  localhost   \n",
       "2  localhost  localhost  localhost   \n",
       "3  localhost  localhost  localhost   \n",
       "4  localhost  localhost  localhost   \n",
       "\n",
       "                                              TOKENS  \\\n",
       "0  [head, of, a, woman, vincent, van, gogh, 1853,...   \n",
       "1  [head, of, a, woman, vincent, van, gogh, 1853,...   \n",
       "2  [portrait, of, an, old, woman, vincent, van, g...   \n",
       "3  [torso, of, venus, vincent, van, gogh, 1853, 1...   \n",
       "4  [woman, with, a, mourning, shawl, vincent, van...   \n",
       "\n",
       "                                         PREP_TOKENS  \\\n",
       "0  [head, woman, vincent, van, gogh, 1853, 1890, ...   \n",
       "1  [head, woman, vincent, van, gogh, 1853, 1890, ...   \n",
       "2  [portrait, old, woman, vincent, van, gogh, 185...   \n",
       "3  [torso, venus, vincent, van, gogh, 1853, 1890,...   \n",
       "4  [woman, mourning, shawl, vincent, van, gogh, 1...   \n",
       "\n",
       "                                         BOWS_TOKENS  \\\n",
       "0  [(0, 1), (1, 1), (2, 1), (3, 1), (4, 2), (5, 1...   \n",
       "1  [(0, 1), (2, 1), (3, 1), (4, 2), (5, 1), (6, 1...   \n",
       "2  [(0, 1), (3, 1), (4, 2), (5, 1), (6, 1), (7, 1...   \n",
       "3  [(0, 1), (3, 1), (5, 1), (6, 1), (7, 1), (11, ...   \n",
       "4  [(0, 1), (3, 1), (4, 3), (5, 1), (6, 1), (7, 1...   \n",
       "\n",
       "                                          IDX_TOKENS  \\\n",
       "0  [39, 73, 70, 69, 38, 3, 5, 52, 49, 4, 53, 28, ...   \n",
       "1  [39, 73, 70, 69, 38, 3, 5, 52, 81, 4, 53, 28, ...   \n",
       "2  [151, 150, 73, 70, 69, 38, 3, 5, 127, 33, 4, 5...   \n",
       "3  [190, 193, 70, 69, 38, 3, 5, 55, 44, 160, 53, ...   \n",
       "4  [73, 205, 210, 70, 69, 38, 3, 5, 52, 48, 49, 4...   \n",
       "\n",
       "                                        TFIDF_TOKENS  \\\n",
       "0  [(0, 0.0014366751686058629), (1, 0.20742760148...   \n",
       "1  [(0, 0.0006632619049359525), (2, 0.10441989952...   \n",
       "2  [(0, 0.0007658221722692316), (4, 0.10636887288...   \n",
       "3  [(0, 0.0008712743083825235), (6, 0.00175770197...   \n",
       "4  [(0, 0.0006110115453988034), (4, 0.12729967560...   \n",
       "\n",
       "                                     STD_DVEC_TOKENS  \n",
       "0  [0.12089483268014274, 0.10457729123726997, 0.1...  \n",
       "1  [0.11162570186015741, 0.09655924305614885, 0.1...  \n",
       "2  [0.22113928023709148, 0.30323802477749107, 0.1...  \n",
       "3  [0.11027555366028634, 0.08752905610112195, 0.0...  \n",
       "4  [0.1334287674669934, 0.43723399354449305, 0.43...  \n",
       "\n",
       "[5 rows x 56 columns]"
      ],
      "text/html": "<div>\n<style scoped>\n    .dataframe tbody tr th:only-of-type {\n        vertical-align: middle;\n    }\n\n    .dataframe tbody tr th {\n        vertical-align: top;\n    }\n\n    .dataframe thead th {\n        text-align: right;\n    }\n</style>\n<table border=\"1\" class=\"dataframe\">\n  <thead>\n    <tr style=\"text-align: right;\">\n      <th></th>\n      <th>ID</th>\n      <th>CORE_TEXT</th>\n      <th>EXT_TEXT</th>\n      <th>complementary colours</th>\n      <th>this torso of Venus</th>\n      <th>drew</th>\n      <th>Van Gogh wrote</th>\n      <th>standing torso of Venus</th>\n      <th>he wrote</th>\n      <th>The Potato Eaters</th>\n      <th>...</th>\n      <th>1890</th>\n      <th>cityscape</th>\n      <th>1881</th>\n      <th>Brussels</th>\n      <th>TOKENS</th>\n      <th>PREP_TOKENS</th>\n      <th>BOWS_TOKENS</th>\n      <th>IDX_TOKENS</th>\n      <th>TFIDF_TOKENS</th>\n      <th>STD_DVEC_TOKENS</th>\n    </tr>\n  </thead>\n  <tbody>\n    <tr>\n      <th>0</th>\n      <td>s0004V1962r</td>\n      <td>Head of a Woman Vincent van Gogh (1853 - 1890)...</td>\n      <td>F0388r JH0782 s0004V1962r 43.5 cm x 36.2 cm</td>\n      <td>localhost</td>\n      <td>localhost</td>\n      <td>localhost</td>\n      <td>localhost</td>\n      <td>localhost</td>\n      <td>localhost</td>\n      <td>localhost</td>\n      <td>...</td>\n      <td>localhost</td>\n      <td>localhost</td>\n      <td>localhost</td>\n      <td>localhost</td>\n      <td>[head, of, a, woman, vincent, van, gogh, 1853,...</td>\n      <td>[head, woman, vincent, van, gogh, 1853, 1890, ...</td>\n      <td>[(0, 1), (1, 1), (2, 1), (3, 1), (4, 2), (5, 1...</td>\n      <td>[39, 73, 70, 69, 38, 3, 5, 52, 49, 4, 53, 28, ...</td>\n      <td>[(0, 0.0014366751686058629), (1, 0.20742760148...</td>\n      <td>[0.12089483268014274, 0.10457729123726997, 0.1...</td>\n    </tr>\n    <tr>\n      <th>1</th>\n      <td>s0006V1962</td>\n      <td>Head of a Woman Vincent van Gogh (1853 - 1890)...</td>\n      <td>F0160 JH0722 s0006V1962 43.2 cm x 30.0 cm, 2.2...</td>\n      <td>https://www.vangoghmuseum.nl/en/stories/lookin...</td>\n      <td>localhost</td>\n      <td>localhost</td>\n      <td>localhost</td>\n      <td>localhost</td>\n      <td>localhost</td>\n      <td>localhost</td>\n      <td>...</td>\n      <td>localhost</td>\n      <td>localhost</td>\n      <td>localhost</td>\n      <td>localhost</td>\n      <td>[head, of, a, woman, vincent, van, gogh, 1853,...</td>\n      <td>[head, woman, vincent, van, gogh, 1853, 1890, ...</td>\n      <td>[(0, 1), (2, 1), (3, 1), (4, 2), (5, 1), (6, 1...</td>\n      <td>[39, 73, 70, 69, 38, 3, 5, 52, 81, 4, 53, 28, ...</td>\n      <td>[(0, 0.0006632619049359525), (2, 0.10441989952...</td>\n      <td>[0.11162570186015741, 0.09655924305614885, 0.1...</td>\n    </tr>\n    <tr>\n      <th>2</th>\n      <td>s0010V1962</td>\n      <td>Portrait of an Old Woman Vincent van Gogh (185...</td>\n      <td>F0174 JH0978 s0010V1962 50.5 cm x 39.8 cm, 68....</td>\n      <td>localhost</td>\n      <td>localhost</td>\n      <td>localhost</td>\n      <td>localhost</td>\n      <td>localhost</td>\n      <td>localhost</td>\n      <td>localhost</td>\n      <td>...</td>\n      <td>localhost</td>\n      <td>localhost</td>\n      <td>localhost</td>\n      <td>localhost</td>\n      <td>[portrait, of, an, old, woman, vincent, van, g...</td>\n      <td>[portrait, old, woman, vincent, van, gogh, 185...</td>\n      <td>[(0, 1), (3, 1), (4, 2), (5, 1), (6, 1), (7, 1...</td>\n      <td>[151, 150, 73, 70, 69, 38, 3, 5, 127, 33, 4, 5...</td>\n      <td>[(0, 0.0007658221722692316), (4, 0.10636887288...</td>\n      <td>[0.22113928023709148, 0.30323802477749107, 0.1...</td>\n    </tr>\n    <tr>\n      <th>3</th>\n      <td>s0056V1962</td>\n      <td>Torso of Venus Vincent van Gogh (1853 - 1890),...</td>\n      <td>F0216a JH1054 s0056V1962 46.0 cm x 38.0 cm, 55...</td>\n      <td>localhost</td>\n      <td>https://www.vangoghmuseum.nl/en/collection/s01...</td>\n      <td>localhost</td>\n      <td>localhost</td>\n      <td>localhost</td>\n      <td>localhost</td>\n      <td>localhost</td>\n      <td>...</td>\n      <td>localhost</td>\n      <td>localhost</td>\n      <td>localhost</td>\n      <td>localhost</td>\n      <td>[torso, of, venus, vincent, van, gogh, 1853, 1...</td>\n      <td>[torso, venus, vincent, van, gogh, 1853, 1890,...</td>\n      <td>[(0, 1), (3, 1), (5, 1), (6, 1), (7, 1), (11, ...</td>\n      <td>[190, 193, 70, 69, 38, 3, 5, 55, 44, 160, 53, ...</td>\n      <td>[(0, 0.0008712743083825235), (6, 0.00175770197...</td>\n      <td>[0.11027555366028634, 0.08752905610112195, 0.0...</td>\n    </tr>\n    <tr>\n      <th>4</th>\n      <td>s0058V1962</td>\n      <td>Woman with a Mourning Shawl Vincent van Gogh (...</td>\n      <td>F0161 JH0788 s0058V1962 45.5 cm x 33.0 cm, 60 ...</td>\n      <td>localhost</td>\n      <td>localhost</td>\n      <td>https://www.vangoghmuseum.nl/en/collection/d00...</td>\n      <td>localhost</td>\n      <td>localhost</td>\n      <td>localhost</td>\n      <td>localhost</td>\n      <td>...</td>\n      <td>localhost</td>\n      <td>localhost</td>\n      <td>localhost</td>\n      <td>localhost</td>\n      <td>[woman, with, a, mourning, shawl, vincent, van...</td>\n      <td>[woman, mourning, shawl, vincent, van, gogh, 1...</td>\n      <td>[(0, 1), (3, 1), (4, 3), (5, 1), (6, 1), (7, 1...</td>\n      <td>[73, 205, 210, 70, 69, 38, 3, 5, 52, 48, 49, 4...</td>\n      <td>[(0, 0.0006110115453988034), (4, 0.12729967560...</td>\n      <td>[0.1334287674669934, 0.43723399354449305, 0.43...</td>\n    </tr>\n  </tbody>\n</table>\n<p>5 rows × 56 columns</p>\n</div>"
     },
     "metadata": {},
     "execution_count": 65
    }
   ],
   "source": [
    "# checking everything is okey\n",
    "text_df.head()"
   ]
  },
  {
   "cell_type": "code",
   "execution_count": 66,
   "metadata": {},
   "outputs": [
    {
     "output_type": "stream",
     "name": "stdout",
     "text": [
      "c:\\Users\\Felipe\\Documents\\GitHub\\sa-artea\\VVG-Gallery-StdDataProcessor\\Notebooks\\Data\\Std\\std-VVG-Gallery-Text-Data-Small.csv\n"
     ]
    }
   ],
   "source": [
    "# saving the CSV file into pandas\n",
    "# writing an existing CSV fileto update the dataframe\n",
    "target_fn = \"std-\" + work_fn\n",
    "fn_tpath = os.path.join(os.getcwd(), dataf, stdf, target_fn)\n",
    "print(fn_tpath)\n",
    "text_df.to_csv(fn_tpath,\n",
    "                sep=\",\",\n",
    "                index=False,\n",
    "                encoding=\"utf-8\",\n",
    "                mode=\"w\",\n",
    "                )"
   ]
  },
  {
   "cell_type": "code",
   "execution_count": 67,
   "metadata": {},
   "outputs": [],
   "source": [
    "# dont remember for what i did this\n",
    "# sim_index = gensim.similarities.SparseMatrixSimilarity(corpus_tfidf, num_features=len(vvg_dict))"
   ]
  }
 ]
}