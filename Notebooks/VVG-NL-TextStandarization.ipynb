{
 "metadata": {
  "language_info": {
   "codemirror_mode": {
    "name": "ipython",
    "version": 3
   },
   "file_extension": ".py",
   "mimetype": "text/x-python",
   "name": "python",
   "nbconvert_exporter": "python",
   "pygments_lexer": "ipython3",
   "version": "3.8.6-final"
  },
  "orig_nbformat": 2,
  "kernelspec": {
   "name": "python3",
   "display_name": "Python 3.8.6 64-bit",
   "metadata": {
    "interpreter": {
     "hash": "1baa965d5efe3ac65b79dfc60c0d706280b1da80fedb7760faf2759126c4f253"
    }
   }
  }
 },
 "nbformat": 4,
 "nbformat_minor": 2,
 "cells": [
  {
   "source": [
    "# VINCENT VAN GOGH STANDARD DATA TEXT PROCESS\n",
    "\n",
    "This script takes the gallery's text from the local data folder and process it to an standard representation with Natural Language Processing and Word2Vec methods.\n",
    "\n",
    "The process goes as follows:\n",
    "\n",
    "1. Load the CSV into a pandas DataFrame.\n",
    "2. Transform text columns into words lists.\n",
    "\n",
    "    1.1 Clear words in text list.\n",
    "    \n",
    "4. Remove unnecesary words from words list with the stop word dictionary.\n",
    "5. \n",
    "6. Transform URLs columns into standard categories.\n",
    "\n",
    "https://statsmaths.github.io/stat289-f18/solutions/tutorial19-gensim.html\n",
    "\n",
    "\n",
    "each TXT page as a record in the input representation of the model.\n",
    "2.\tRemoving unnecessary words with the Spanish stop dictionary.\n",
    "3.\tRecognizing a set of unique words in documents.\n",
    "4.\tTransforming the unique words into columns of the input model.\n",
    "5.\tVectorizing each word of the document by frequency of appearance (word2vec).\n",
    "\n",
    "**NOTE:** Because GitHub has limited storage capabilities and the digital archive data is private, the data in the folder _\\\\Data\\\\_ is just a sample for the code to work without errors."
   ],
   "cell_type": "markdown",
   "metadata": {}
  },
  {
   "cell_type": "code",
   "execution_count": 153,
   "metadata": {},
   "outputs": [
    {
     "output_type": "stream",
     "name": "stderr",
     "text": [
      "[nltk_data] Downloading package punkt to\n[nltk_data]     C:\\Users\\Felipe\\AppData\\Roaming\\nltk_data...\n[nltk_data]   Package punkt is already up-to-date!\n[nltk_data] Downloading package stopwords to\n[nltk_data]     C:\\Users\\Felipe\\AppData\\Roaming\\nltk_data...\n[nltk_data]   Package stopwords is already up-to-date!\n[nltk_data] Downloading package wordnet to\n[nltk_data]     C:\\Users\\Felipe\\AppData\\Roaming\\nltk_data...\n[nltk_data]   Package wordnet is already up-to-date!\n"
     ]
    },
    {
     "output_type": "execute_result",
     "data": {
      "text/plain": [
       "True"
      ]
     },
     "metadata": {},
     "execution_count": 153
    }
   ],
   "source": [
    "\"\"\"\n",
    "* Copyright 2020, Maestria de Humanidades Digitales,\n",
    "* Universidad de Los Andes\n",
    "*\n",
    "* Developed for the Msc graduation project in Digital Humanities\n",
    "*\n",
    "* This program is free software: you can redistribute it and/or modify\n",
    "* it under the terms of the GNU General Public License as published by\n",
    "* the Free Software Foundation, either version 3 of the License, or\n",
    "* (at your option) any later version.\n",
    "*\n",
    "* This program is distributed in the hope that it will be useful,\n",
    "* but WITHOUT ANY WARRANTY; without even the implied warranty of\n",
    "* MERCHANTABILITY or FITNESS FOR A PARTICULAR PURPOSE.  See the\n",
    "* GNU General Public License for more details.\n",
    "*\n",
    "* You should have received a copy of the GNU General Public License\n",
    "* along with this program.  If not, see <http://www.gnu.org/licenses/>.\n",
    "\"\"\"\n",
    "\n",
    "# ===============================\n",
    "# native python libraries\n",
    "# ===============================\n",
    "import os\n",
    "import copy\n",
    "import sys\n",
    "import csv\n",
    "import re\n",
    "import pprint\n",
    "\n",
    "# ===============================\n",
    "# extension python libraries\n",
    "# ===============================\n",
    "import pandas as pd\n",
    "import numpy as np\n",
    "import gensim\n",
    "from gensim import models\n",
    "import nltk\n",
    "from nltk.stem import WordNetLemmatizer\n",
    "from nltk.corpus import stopwords\n",
    "\n",
    "# downloading nlkt data\n",
    "nltk.download('punkt')\n",
    "nltk.download('stopwords')\n",
    "nltk.download('wordnet')\n",
    "\n",
    "\n",
    "# ===============================\n",
    "# developed python libraries\n",
    "# ===============================\n"
   ]
  },
  {
   "cell_type": "code",
   "execution_count": 154,
   "metadata": {},
   "outputs": [],
   "source": [
    "# notebook varlable definitions\n",
    "# root folder\n",
    "dataf = \"Data\"\n",
    "\n",
    "# subfolder with the OCR transcrived txt data\n",
    "prepf = \"Prep\"\n",
    "\n",
    "#  subfolder with the CSV files containing the ML pandas dataframe\n",
    "stdf = \"Std\"\n",
    "\n",
    "# dataframe file extension\n",
    "fext = \"csv\"\n",
    "\n",
    "# dictionary extension\n",
    "dext = \"dict\"\n",
    "\n",
    "# dataframe file name\n",
    "small_fn = \"VVG-Gallery-Text-Data-Small\" + \".\" + fext\n",
    "large_fn = \"VVG-Gallery-Text-Data-Large\" + \".\" + fext\n",
    "\n",
    "\n",
    "# regex for _TEXT\n",
    "text_re = u\"\\w+_TEXT\"\n",
    "\n",
    "# regex for ID\n",
    "id_re = u\"ID{1}\"\n",
    "\n",
    "# regex for others (URLs|Categories)\n",
    "cat_re = u\"\\b(?!(ID{1}|\\w+_TEXT))\\b(\\w+\\W+)+\"\n",
    "cat_re = u\"ID{1}(^\\w+( \\w+)*$)\"\n",
    "\n",
    "# default values\n",
    "# work_fn = small_fn\n",
    "work_fn = large_fn"
   ]
  },
  {
   "cell_type": "code",
   "execution_count": 155,
   "metadata": {},
   "outputs": [],
   "source": [
    "\n",
    "# default dataframe schema\n",
    "dfSchema =[\n",
    "    \"ID\",               # unique key for the text file\n",
    "    \"FILE_PATH\",        # text file local path\n",
    "    \"DOC_NAME\",         # name of the text original document\n",
    "    \"TEXT\",             # OCR extractec text\n",
    "    \"AUTHOR\",           # author of the document\n",
    "    \"LABEL\",            # learning target label, associated with the AUTHOR\n",
    "    \"CLEAN_TEXT\",       # cleaned text extracted from the document\n",
    "    \"SENTENCES\",        # text divided by sentences\n",
    "    \"NUM_SENTENCES\",    # number of sentences in the text\n",
    "    \"WORDS\",            # text divided by words\n",
    "    \"NUM_WORDS\",        # number of words in the text\n",
    "    \"TOKENS\",           # unique tokens extracted from the text\n",
    "    \"NUM_TOKENS\",       # number of unique of tokens in the text\n",
    "]"
   ]
  },
  {
   "cell_type": "code",
   "execution_count": 156,
   "metadata": {},
   "outputs": [
    {
     "output_type": "stream",
     "name": "stdout",
     "text": [
      "c:\\Users\\Felipe\\Documents\\GitHub\\sa-artea\\VVG-Gallery-StdDataProcessor\\Notebooks\\Data\\Prep\\VVG-Gallery-Text-Data-Large.csv\n"
     ]
    }
   ],
   "source": [
    "# loading the CSV file into pandas\n",
    "# read an existing CSV fileto update the dataframe\n",
    "fn_path = os.path.join(os.getcwd(), dataf, prepf, work_fn)\n",
    "print(fn_path)\n",
    "text_df = pd.read_csv(\n",
    "                fn_path,\n",
    "                sep=\",\",\n",
    "                encoding=\"utf-8\",\n",
    "                engine=\"python\",\n",
    "            )"
   ]
  },
  {
   "cell_type": "code",
   "execution_count": 157,
   "metadata": {},
   "outputs": [],
   "source": [
    "# getting the df columns\n",
    "df_cols = list(text_df)\n",
    "\n",
    "# getting the text columns\n",
    "text_r = re.compile(text_re)\n",
    "text_cols = list(filter(text_r.match, df_cols))\n",
    "\n",
    "# getting the ID column\n",
    "id_r = re.compile(id_re)\n",
    "id_cols = list(filter(id_r.match, df_cols))\n",
    "\n",
    "# getting the URLs/Category columns\n",
    "cat_r = re.compile(cat_re)\n",
    "cat_cols = list(filter(cat_r.match, df_cols))"
   ]
  },
  {
   "cell_type": "code",
   "execution_count": 158,
   "metadata": {},
   "outputs": [
    {
     "output_type": "stream",
     "name": "stdout",
     "text": [
      "964\n"
     ]
    }
   ],
   "source": [
    "# getting the original working text\n",
    "text_corpus = list(text_df[text_cols[0]])\n",
    "print(len(text_corpus))"
   ]
  },
  {
   "cell_type": "code",
   "execution_count": 159,
   "metadata": {},
   "outputs": [
    {
     "output_type": "stream",
     "name": "stdout",
     "text": [
      "964 964\n"
     ]
    }
   ],
   "source": [
    "# to working text\n",
    "text_clean = list()\n",
    "for text in text_corpus:\n",
    "    text = text.lower()\n",
    "    text_clean.append(text)\n",
    "\n",
    "print(len(text_clean), len(text_corpus))"
   ]
  },
  {
   "cell_type": "code",
   "execution_count": null,
   "metadata": {},
   "outputs": [],
   "source": []
  },
  {
   "cell_type": "code",
   "execution_count": 160,
   "metadata": {
    "tags": []
   },
   "outputs": [
    {
     "output_type": "stream",
     "name": "stdout",
     "text": [
      "964 964\n"
     ]
    }
   ],
   "source": [
    "# cleaning and preprocessing text for word2vec\n",
    "i = 0\n",
    "for i in range(0, len(text_clean)):\n",
    "    text = text_clean[i]\n",
    "    # removing special characters\n",
    "    text = re.sub(r\"\\W\", \" \", text)\n",
    "    # finding missing points between numbers\n",
    "    text = re.sub(r\"(\\d{1,3}) (\\d{1,2})\", r\"\\1.\\2\", text)\n",
    "    # removing excessive spaces\n",
    "    text = re.sub(r\"\\s+\", \" \", text)\n",
    "    text_clean[i] = text\n",
    "    i = i + 1\n",
    "\n",
    "print(len(text_clean), len(text_corpus))"
   ]
  },
  {
   "cell_type": "code",
   "execution_count": 161,
   "metadata": {},
   "outputs": [
    {
     "output_type": "stream",
     "name": "stdout",
     "text": [
      "964 964 964\n"
     ]
    }
   ],
   "source": [
    "# tokenising text\n",
    "text_tokens = list()\n",
    "\n",
    "for text in text_clean:\n",
    "    text = text.split()\n",
    "    text_tokens.append(text)\n",
    "    # print(text)\n",
    "\n",
    "print(len(text_tokens), len(text_clean), len(text_corpus))"
   ]
  },
  {
   "cell_type": "code",
   "execution_count": 162,
   "metadata": {},
   "outputs": [
    {
     "output_type": "stream",
     "name": "stdout",
     "text": [
      "964 964 964 964\n"
     ]
    }
   ],
   "source": [
    "# removing stopwords\n",
    "text_nsw_tokens = list()\n",
    "\n",
    "for tokens in text_tokens:\n",
    "\n",
    "    clear_tokens = list()\n",
    "\n",
    "    for token in tokens:\n",
    "        if not token in stopwords.words('english'):\n",
    "            clear_tokens.append(token)\n",
    "    \n",
    "    ttokens = copy.deepcopy(clear_tokens)\n",
    "    text_nsw_tokens.append(ttokens)\n",
    "    # print(clear_tokens)\n",
    "\n",
    "print(len(text_nsw_tokens), len(text_tokens), len(text_clean), len(text_corpus))"
   ]
  },
  {
   "cell_type": "code",
   "execution_count": 163,
   "metadata": {
    "tags": []
   },
   "outputs": [
    {
     "output_type": "stream",
     "name": "stdout",
     "text": [
      "964 964 964 964 964\n"
     ]
    }
   ],
   "source": [
    "# lematization of the text\n",
    "text_lemmas = list()\n",
    "token_lematizer = WordNetLemmatizer()\n",
    "\n",
    "for tokens in text_nsw_tokens:\n",
    "\n",
    "    lemma_tokens = list()\n",
    "\n",
    "    for token in tokens:\n",
    "        \n",
    "        ans = token_lematizer.lemmatize(token)\n",
    "        lemma_tokens.append(ans)\n",
    "\n",
    "    tlemmas = copy.deepcopy(lemma_tokens)\n",
    "    text_lemmas.append(tlemmas)\n",
    "\n",
    "print(len(text_lemmas), len(text_nsw_tokens), len(text_tokens), len(text_clean), len(text_corpus))"
   ]
  },
  {
   "cell_type": "code",
   "execution_count": 164,
   "metadata": {},
   "outputs": [],
   "source": [
    "text_df[\"TOKENS\"] = text_tokens\n",
    "text_df[\"PREP_TOKENS\"] = text_lemmas"
   ]
  },
  {
   "cell_type": "code",
   "execution_count": 165,
   "metadata": {},
   "outputs": [
    {
     "output_type": "execute_result",
     "data": {
      "text/plain": [
       "           ID                                          CORE_TEXT  \\\n",
       "0  s0005V1962  The Potato Eaters Vincent van Gogh (1853 - 189...   \n",
       "1  s0019V1962  Garden with Courting Couples: Square Saint-Pie...   \n",
       "2  s0022V1962  Self-Portrait as a Painter Vincent van Gogh (1...   \n",
       "3  s0027V1962  The Langlois Bridge Vincent van Gogh (1853 - 1...   \n",
       "4  s0029V1962  The Sower Vincent van Gogh (1853 - 1890), Arle...   \n",
       "\n",
       "                            EXT_TEXT  \\\n",
       "0  localhost F0082 JH0764 s0005V1962   \n",
       "1  localhost F0314 JH1258 s0019V1962   \n",
       "2  localhost F0522 JH1356 s0022V1962   \n",
       "3  localhost F0400 JH1371 s0027V1962   \n",
       "4  localhost F0451 JH1629 s0029V1962   \n",
       "\n",
       "                                            he wrote Van Gogh wrote  \\\n",
       "0  Van Gogh saw the Potato Eaters as a showpiece,...      localhost   \n",
       "1  Van Gogh called this sunny park scene the pain...      localhost   \n",
       "2  Van Gogh presented himself in this self-portra...      localhost   \n",
       "3  The sky was grey when Van Gogh painted this br...      localhost   \n",
       "4  Van Gogh had a special interest in sowers thro...      localhost   \n",
       "\n",
       "  complementary colours The Potato Eaters this torso of Venus       drew  \\\n",
       "0             localhost         localhost           localhost  localhost   \n",
       "1             localhost         localhost           localhost  localhost   \n",
       "2             localhost         localhost           localhost  localhost   \n",
       "3             localhost         localhost           localhost  localhost   \n",
       "4             localhost         localhost           localhost  localhost   \n",
       "\n",
       "  standing torso of Venus  ...    drawing       1884      heads    Antwerp  \\\n",
       "0               localhost  ...  localhost  localhost  localhost  localhost   \n",
       "1               localhost  ...  localhost  localhost  localhost  localhost   \n",
       "2               localhost  ...  localhost  localhost  localhost  localhost   \n",
       "3               localhost  ...  localhost  localhost  localhost  localhost   \n",
       "4               localhost  ...  localhost  localhost  localhost  localhost   \n",
       "\n",
       "        1886       nude 1881 Brussels  \\\n",
       "0  localhost  localhost  NaN      NaN   \n",
       "1  localhost  localhost  NaN      NaN   \n",
       "2  localhost  localhost  NaN      NaN   \n",
       "3  localhost  localhost  NaN      NaN   \n",
       "4  localhost  localhost  NaN      NaN   \n",
       "\n",
       "                                              TOKENS  \\\n",
       "0  [the, potato, eaters, vincent, van, gogh, 1853...   \n",
       "1  [garden, with, courting, couples, square, sain...   \n",
       "2  [self, portrait, as, a, painter, vincent, van,...   \n",
       "3  [the, langlois, bridge, vincent, van, gogh, 18...   \n",
       "4  [the, sower, vincent, van, gogh, 1853, 1890, a...   \n",
       "\n",
       "                                         PREP_TOKENS  \n",
       "0  [potato, eater, vincent, van, gogh, 1853, 1890...  \n",
       "1  [garden, courting, couple, square, saint, pier...  \n",
       "2  [self, portrait, painter, vincent, van, gogh, ...  \n",
       "3  [langlois, bridge, vincent, van, gogh, 1853, 1...  \n",
       "4  [sower, vincent, van, gogh, 1853, 1890, arles,...  \n",
       "\n",
       "[5 rows x 52 columns]"
      ],
      "text/html": "<div>\n<style scoped>\n    .dataframe tbody tr th:only-of-type {\n        vertical-align: middle;\n    }\n\n    .dataframe tbody tr th {\n        vertical-align: top;\n    }\n\n    .dataframe thead th {\n        text-align: right;\n    }\n</style>\n<table border=\"1\" class=\"dataframe\">\n  <thead>\n    <tr style=\"text-align: right;\">\n      <th></th>\n      <th>ID</th>\n      <th>CORE_TEXT</th>\n      <th>EXT_TEXT</th>\n      <th>he wrote</th>\n      <th>Van Gogh wrote</th>\n      <th>complementary colours</th>\n      <th>The Potato Eaters</th>\n      <th>this torso of Venus</th>\n      <th>drew</th>\n      <th>standing torso of Venus</th>\n      <th>...</th>\n      <th>drawing</th>\n      <th>1884</th>\n      <th>heads</th>\n      <th>Antwerp</th>\n      <th>1886</th>\n      <th>nude</th>\n      <th>1881</th>\n      <th>Brussels</th>\n      <th>TOKENS</th>\n      <th>PREP_TOKENS</th>\n    </tr>\n  </thead>\n  <tbody>\n    <tr>\n      <th>0</th>\n      <td>s0005V1962</td>\n      <td>The Potato Eaters Vincent van Gogh (1853 - 189...</td>\n      <td>localhost F0082 JH0764 s0005V1962</td>\n      <td>Van Gogh saw the Potato Eaters as a showpiece,...</td>\n      <td>localhost</td>\n      <td>localhost</td>\n      <td>localhost</td>\n      <td>localhost</td>\n      <td>localhost</td>\n      <td>localhost</td>\n      <td>...</td>\n      <td>localhost</td>\n      <td>localhost</td>\n      <td>localhost</td>\n      <td>localhost</td>\n      <td>localhost</td>\n      <td>localhost</td>\n      <td>NaN</td>\n      <td>NaN</td>\n      <td>[the, potato, eaters, vincent, van, gogh, 1853...</td>\n      <td>[potato, eater, vincent, van, gogh, 1853, 1890...</td>\n    </tr>\n    <tr>\n      <th>1</th>\n      <td>s0019V1962</td>\n      <td>Garden with Courting Couples: Square Saint-Pie...</td>\n      <td>localhost F0314 JH1258 s0019V1962</td>\n      <td>Van Gogh called this sunny park scene the pain...</td>\n      <td>localhost</td>\n      <td>localhost</td>\n      <td>localhost</td>\n      <td>localhost</td>\n      <td>localhost</td>\n      <td>localhost</td>\n      <td>...</td>\n      <td>localhost</td>\n      <td>localhost</td>\n      <td>localhost</td>\n      <td>localhost</td>\n      <td>localhost</td>\n      <td>localhost</td>\n      <td>NaN</td>\n      <td>NaN</td>\n      <td>[garden, with, courting, couples, square, sain...</td>\n      <td>[garden, courting, couple, square, saint, pier...</td>\n    </tr>\n    <tr>\n      <th>2</th>\n      <td>s0022V1962</td>\n      <td>Self-Portrait as a Painter Vincent van Gogh (1...</td>\n      <td>localhost F0522 JH1356 s0022V1962</td>\n      <td>Van Gogh presented himself in this self-portra...</td>\n      <td>localhost</td>\n      <td>localhost</td>\n      <td>localhost</td>\n      <td>localhost</td>\n      <td>localhost</td>\n      <td>localhost</td>\n      <td>...</td>\n      <td>localhost</td>\n      <td>localhost</td>\n      <td>localhost</td>\n      <td>localhost</td>\n      <td>localhost</td>\n      <td>localhost</td>\n      <td>NaN</td>\n      <td>NaN</td>\n      <td>[self, portrait, as, a, painter, vincent, van,...</td>\n      <td>[self, portrait, painter, vincent, van, gogh, ...</td>\n    </tr>\n    <tr>\n      <th>3</th>\n      <td>s0027V1962</td>\n      <td>The Langlois Bridge Vincent van Gogh (1853 - 1...</td>\n      <td>localhost F0400 JH1371 s0027V1962</td>\n      <td>The sky was grey when Van Gogh painted this br...</td>\n      <td>localhost</td>\n      <td>localhost</td>\n      <td>localhost</td>\n      <td>localhost</td>\n      <td>localhost</td>\n      <td>localhost</td>\n      <td>...</td>\n      <td>localhost</td>\n      <td>localhost</td>\n      <td>localhost</td>\n      <td>localhost</td>\n      <td>localhost</td>\n      <td>localhost</td>\n      <td>NaN</td>\n      <td>NaN</td>\n      <td>[the, langlois, bridge, vincent, van, gogh, 18...</td>\n      <td>[langlois, bridge, vincent, van, gogh, 1853, 1...</td>\n    </tr>\n    <tr>\n      <th>4</th>\n      <td>s0029V1962</td>\n      <td>The Sower Vincent van Gogh (1853 - 1890), Arle...</td>\n      <td>localhost F0451 JH1629 s0029V1962</td>\n      <td>Van Gogh had a special interest in sowers thro...</td>\n      <td>localhost</td>\n      <td>localhost</td>\n      <td>localhost</td>\n      <td>localhost</td>\n      <td>localhost</td>\n      <td>localhost</td>\n      <td>...</td>\n      <td>localhost</td>\n      <td>localhost</td>\n      <td>localhost</td>\n      <td>localhost</td>\n      <td>localhost</td>\n      <td>localhost</td>\n      <td>NaN</td>\n      <td>NaN</td>\n      <td>[the, sower, vincent, van, gogh, 1853, 1890, a...</td>\n      <td>[sower, vincent, van, gogh, 1853, 1890, arles,...</td>\n    </tr>\n  </tbody>\n</table>\n<p>5 rows × 52 columns</p>\n</div>"
     },
     "metadata": {},
     "execution_count": 165
    }
   ],
   "source": [
    "text_df.head()"
   ]
  },
  {
   "cell_type": "code",
   "execution_count": 166,
   "metadata": {},
   "outputs": [
    {
     "output_type": "stream",
     "name": "stdout",
     "text": [
      "Dictionary(1403 unique tokens: ['100', '114', '133', '1853', '1885']...)\nData\\Std\\VVG-Gallery-Text-Data-Large.dict\n"
     ]
    }
   ],
   "source": [
    "vvg_dict = gensim.corpora.Dictionary(text_lemmas)\n",
    "print(vvg_dict)\n",
    "work_dict = work_fn.split(\".\")\n",
    "work_dict = work_dict[0] + \".\" + dext\n",
    "dict_pfn = os.path.join(dataf, stdf, work_dict)\n",
    "print(dict_pfn)\n",
    "vvg_dict.save(dict_pfn) \n",
    "# os.path.join(\"Data\",\"VVG-gallery-text.dict\"))\n",
    "# pprint.pprint(vvg_dict.token2id)"
   ]
  },
  {
   "cell_type": "code",
   "execution_count": 167,
   "metadata": {
    "tags": []
   },
   "outputs": [
    {
     "output_type": "stream",
     "name": "stdout",
     "text": [
      "964 964 964 964 964 964 964\n"
     ]
    }
   ],
   "source": [
    "# text representation to numeric representation\n",
    "text_bows = list()\n",
    "text_idxs = list()\n",
    "\n",
    "for lemmas in text_lemmas:\n",
    "\n",
    "    # bow loose the order/semantic\n",
    "    t_bow = vvg_dict.doc2bow(lemmas, allow_update=True)\n",
    "    text_bows.append(t_bow)\n",
    "    # idz keeps the order/semantic\n",
    "    t_idx = vvg_dict.doc2idx(lemmas)\n",
    "    text_idxs.append(t_idx)\n",
    "\n",
    "print(len(text_bows), len(text_idxs), len(text_lemmas), len(text_nsw_tokens), len(text_tokens), len(text_clean), len(text_corpus))"
   ]
  },
  {
   "cell_type": "code",
   "execution_count": 168,
   "metadata": {},
   "outputs": [
    {
     "output_type": "stream",
     "name": "stdout",
     "text": [
      "964 964 964 964 964 964 964 964\n"
     ]
    }
   ],
   "source": [
    "# train the model\n",
    "tfidf = gensim.models.TfidfModel(text_idxs, dictionary=vvg_dict, normalize=True)\n",
    "corpus_tfidf = tfidf[text_bows]\n",
    "print(len(corpus_tfidf), len(text_bows), len(text_idxs), len(text_lemmas), len(text_nsw_tokens), len(text_tokens), len(text_clean), len(text_corpus))"
   ]
  },
  {
   "cell_type": "code",
   "execution_count": 169,
   "metadata": {},
   "outputs": [
    {
     "output_type": "stream",
     "name": "stdout",
     "text": [
      "<class 'pandas.core.frame.DataFrame'>\nRangeIndex: 964 entries, 0 to 963\nData columns (total 52 columns):\n #   Column                                                                                              Non-Null Count  Dtype  \n---  ------                                                                                              --------------  -----  \n 0   ID                                                                                                  964 non-null    object \n 1   CORE_TEXT                                                                                           964 non-null    object \n 2   EXT_TEXT                                                                                            964 non-null    object \n 3   he wrote                                                                                            257 non-null    object \n 4   Van Gogh wrote                                                                                      964 non-null    object \n 5   complementary colours                                                                               964 non-null    object \n 6   The Potato Eaters                                                                                   964 non-null    object \n 7   this torso of Venus                                                                                 964 non-null    object \n 8   drew                                                                                                964 non-null    object \n 9   standing torso of Venus                                                                             964 non-null    object \n 10  which he painted a number of times                                                                  964 non-null    object \n 11  He would use this technique more than once in his later work                                        964 non-null    object \n 12  Head of a Woman                                                                                     964 non-null    object \n 13  Head of a Man                                                                                       964 non-null    object \n 14  Head of a Woman 1                                                                                   964 non-null    object \n 15  Head of a Woman 2                                                                                   964 non-null    object \n 16  Head of a Woman 3                                                                                   964 non-null    object \n 17  Torso of Venus                                                                                      964 non-null    object \n 18  Horse                                                                                               964 non-null    object \n 19  Torso of Venus 1                                                                                    964 non-null    object \n 20  Male Torso                                                                                          964 non-null    object \n 21  Kneeling Ecorche                                                                                    964 non-null    object \n 22  Torso of Venus 2                                                                                    964 non-null    object \n 23  Portrait of a Prostitute                                                                            964 non-null    object \n 24  Head of an Old Man                                                                                  964 non-null    object \n 25  Head of a Woman 4                                                                                   964 non-null    object \n 26  Plaster Cast of a Womans Torso                                                                      964 non-null    object \n 27  Plaster Cast of a Womans Torso 1                                                                    964 non-null    object \n 28  Torso of Venus 3                                                                                    964 non-null    object \n 29  Woman Sewing                                                                                        964 non-null    object \n 30  Letter from Vincent van Gogh to Theo van Gogh with sketches of Head of a Woman and Head of a Woman  964 non-null    object \n 31  Head of a Prostitute                                                                                964 non-null    object \n 32  1885                                                                                                964 non-null    object \n 33  Nuenen                                                                                              964 non-null    object \n 34  painting                                                                                            964 non-null    object \n 35  1887                                                                                                964 non-null    object \n 36  Paris                                                                                               964 non-null    object \n 37  cityscape                                                                                           964 non-null    object \n 38  portrait                                                                                            964 non-null    object \n 39  still life                                                                                          964 non-null    object \n 40  1890                                                                                                964 non-null    object \n 41  animal art                                                                                          964 non-null    object \n 42  drawing                                                                                             964 non-null    object \n 43  1884                                                                                                964 non-null    object \n 44  heads                                                                                               964 non-null    object \n 45  Antwerp                                                                                             964 non-null    object \n 46  1886                                                                                                964 non-null    object \n 47  nude                                                                                                964 non-null    object \n 48  1881                                                                                                0 non-null      float64\n 49  Brussels                                                                                            0 non-null      float64\n 50  TOKENS                                                                                              964 non-null    object \n 51  PREP_TOKENS                                                                                         964 non-null    object \ndtypes: float64(2), object(50)\nmemory usage: 391.8+ KB\n"
     ]
    }
   ],
   "source": [
    "text_df.info()"
   ]
  },
  {
   "cell_type": "code",
   "execution_count": 170,
   "metadata": {},
   "outputs": [],
   "source": [
    "text_df[\"BOWS_TOKENS\"] = text_bows\n",
    "text_df[\"IDX_TOKENS\"] = text_idxs\n",
    "text_df[\"TFIDF_TOKENS\"] = corpus_tfidf"
   ]
  },
  {
   "cell_type": "code",
   "execution_count": 171,
   "metadata": {},
   "outputs": [
    {
     "output_type": "execute_result",
     "data": {
      "text/plain": [
       "           ID                                          CORE_TEXT  \\\n",
       "0  s0005V1962  The Potato Eaters Vincent van Gogh (1853 - 189...   \n",
       "1  s0019V1962  Garden with Courting Couples: Square Saint-Pie...   \n",
       "2  s0022V1962  Self-Portrait as a Painter Vincent van Gogh (1...   \n",
       "3  s0027V1962  The Langlois Bridge Vincent van Gogh (1853 - 1...   \n",
       "4  s0029V1962  The Sower Vincent van Gogh (1853 - 1890), Arle...   \n",
       "\n",
       "                            EXT_TEXT  \\\n",
       "0  localhost F0082 JH0764 s0005V1962   \n",
       "1  localhost F0314 JH1258 s0019V1962   \n",
       "2  localhost F0522 JH1356 s0022V1962   \n",
       "3  localhost F0400 JH1371 s0027V1962   \n",
       "4  localhost F0451 JH1629 s0029V1962   \n",
       "\n",
       "                                            he wrote Van Gogh wrote  \\\n",
       "0  Van Gogh saw the Potato Eaters as a showpiece,...      localhost   \n",
       "1  Van Gogh called this sunny park scene the pain...      localhost   \n",
       "2  Van Gogh presented himself in this self-portra...      localhost   \n",
       "3  The sky was grey when Van Gogh painted this br...      localhost   \n",
       "4  Van Gogh had a special interest in sowers thro...      localhost   \n",
       "\n",
       "  complementary colours The Potato Eaters this torso of Venus       drew  \\\n",
       "0             localhost         localhost           localhost  localhost   \n",
       "1             localhost         localhost           localhost  localhost   \n",
       "2             localhost         localhost           localhost  localhost   \n",
       "3             localhost         localhost           localhost  localhost   \n",
       "4             localhost         localhost           localhost  localhost   \n",
       "\n",
       "  standing torso of Venus  ...    Antwerp       1886       nude 1881 Brussels  \\\n",
       "0               localhost  ...  localhost  localhost  localhost  NaN      NaN   \n",
       "1               localhost  ...  localhost  localhost  localhost  NaN      NaN   \n",
       "2               localhost  ...  localhost  localhost  localhost  NaN      NaN   \n",
       "3               localhost  ...  localhost  localhost  localhost  NaN      NaN   \n",
       "4               localhost  ...  localhost  localhost  localhost  NaN      NaN   \n",
       "\n",
       "                                              TOKENS  \\\n",
       "0  [the, potato, eaters, vincent, van, gogh, 1853...   \n",
       "1  [garden, with, courting, couples, square, sain...   \n",
       "2  [self, portrait, as, a, painter, vincent, van,...   \n",
       "3  [the, langlois, bridge, vincent, van, gogh, 18...   \n",
       "4  [the, sower, vincent, van, gogh, 1853, 1890, a...   \n",
       "\n",
       "                                         PREP_TOKENS  \\\n",
       "0  [potato, eater, vincent, van, gogh, 1853, 1890...   \n",
       "1  [garden, courting, couple, square, saint, pier...   \n",
       "2  [self, portrait, painter, vincent, van, gogh, ...   \n",
       "3  [langlois, bridge, vincent, van, gogh, 1853, 1...   \n",
       "4  [sower, vincent, van, gogh, 1853, 1890, arles,...   \n",
       "\n",
       "                                         BOWS_TOKENS  \\\n",
       "0  [(0, 1), (1, 1), (2, 1), (3, 1), (4, 1), (5, 1...   \n",
       "1  [(3, 1), (5, 1), (7, 1), (9, 4), (10, 1), (12,...   \n",
       "2  [(3, 1), (5, 1), (7, 1), (9, 4), (10, 1), (12,...   \n",
       "3  [(3, 1), (5, 1), (7, 1), (9, 4), (10, 1), (12,...   \n",
       "4  [(3, 1), (5, 1), (7, 1), (9, 4), (10, 1), (12,...   \n",
       "\n",
       "                                          IDX_TOKENS  \\\n",
       "0  [18, 11, 21, 20, 13, 3, 5, 16, 8, 14, 4, 10, 1...   \n",
       "1  [30, 29, 28, 34, 33, 32, 21, 20, 13, 3, 5, 31,...   \n",
       "2  [44, 43, 42, 21, 20, 13, 3, 5, 31, 40, 25, 41,...   \n",
       "3  [51, 50, 21, 20, 13, 3, 5, 49, 52, 35, 10, 17,...   \n",
       "4  [58, 21, 20, 13, 3, 5, 49, 57, 35, 10, 17, 19,...   \n",
       "\n",
       "                                        TFIDF_TOKENS  \n",
       "0  [(0, 0.40324268615259634), (1, 0.4484853309269...  \n",
       "1  [(3, 0.0016704315719060568), (5, 0.00167043157...  \n",
       "2  [(3, 0.0021413680169537126), (5, 0.00214136801...  \n",
       "3  [(3, 0.0019726989955169234), (5, 0.00197269899...  \n",
       "4  [(3, 0.002496978648614098), (5, 0.002496978648...  \n",
       "\n",
       "[5 rows x 55 columns]"
      ],
      "text/html": "<div>\n<style scoped>\n    .dataframe tbody tr th:only-of-type {\n        vertical-align: middle;\n    }\n\n    .dataframe tbody tr th {\n        vertical-align: top;\n    }\n\n    .dataframe thead th {\n        text-align: right;\n    }\n</style>\n<table border=\"1\" class=\"dataframe\">\n  <thead>\n    <tr style=\"text-align: right;\">\n      <th></th>\n      <th>ID</th>\n      <th>CORE_TEXT</th>\n      <th>EXT_TEXT</th>\n      <th>he wrote</th>\n      <th>Van Gogh wrote</th>\n      <th>complementary colours</th>\n      <th>The Potato Eaters</th>\n      <th>this torso of Venus</th>\n      <th>drew</th>\n      <th>standing torso of Venus</th>\n      <th>...</th>\n      <th>Antwerp</th>\n      <th>1886</th>\n      <th>nude</th>\n      <th>1881</th>\n      <th>Brussels</th>\n      <th>TOKENS</th>\n      <th>PREP_TOKENS</th>\n      <th>BOWS_TOKENS</th>\n      <th>IDX_TOKENS</th>\n      <th>TFIDF_TOKENS</th>\n    </tr>\n  </thead>\n  <tbody>\n    <tr>\n      <th>0</th>\n      <td>s0005V1962</td>\n      <td>The Potato Eaters Vincent van Gogh (1853 - 189...</td>\n      <td>localhost F0082 JH0764 s0005V1962</td>\n      <td>Van Gogh saw the Potato Eaters as a showpiece,...</td>\n      <td>localhost</td>\n      <td>localhost</td>\n      <td>localhost</td>\n      <td>localhost</td>\n      <td>localhost</td>\n      <td>localhost</td>\n      <td>...</td>\n      <td>localhost</td>\n      <td>localhost</td>\n      <td>localhost</td>\n      <td>NaN</td>\n      <td>NaN</td>\n      <td>[the, potato, eaters, vincent, van, gogh, 1853...</td>\n      <td>[potato, eater, vincent, van, gogh, 1853, 1890...</td>\n      <td>[(0, 1), (1, 1), (2, 1), (3, 1), (4, 1), (5, 1...</td>\n      <td>[18, 11, 21, 20, 13, 3, 5, 16, 8, 14, 4, 10, 1...</td>\n      <td>[(0, 0.40324268615259634), (1, 0.4484853309269...</td>\n    </tr>\n    <tr>\n      <th>1</th>\n      <td>s0019V1962</td>\n      <td>Garden with Courting Couples: Square Saint-Pie...</td>\n      <td>localhost F0314 JH1258 s0019V1962</td>\n      <td>Van Gogh called this sunny park scene the pain...</td>\n      <td>localhost</td>\n      <td>localhost</td>\n      <td>localhost</td>\n      <td>localhost</td>\n      <td>localhost</td>\n      <td>localhost</td>\n      <td>...</td>\n      <td>localhost</td>\n      <td>localhost</td>\n      <td>localhost</td>\n      <td>NaN</td>\n      <td>NaN</td>\n      <td>[garden, with, courting, couples, square, sain...</td>\n      <td>[garden, courting, couple, square, saint, pier...</td>\n      <td>[(3, 1), (5, 1), (7, 1), (9, 4), (10, 1), (12,...</td>\n      <td>[30, 29, 28, 34, 33, 32, 21, 20, 13, 3, 5, 31,...</td>\n      <td>[(3, 0.0016704315719060568), (5, 0.00167043157...</td>\n    </tr>\n    <tr>\n      <th>2</th>\n      <td>s0022V1962</td>\n      <td>Self-Portrait as a Painter Vincent van Gogh (1...</td>\n      <td>localhost F0522 JH1356 s0022V1962</td>\n      <td>Van Gogh presented himself in this self-portra...</td>\n      <td>localhost</td>\n      <td>localhost</td>\n      <td>localhost</td>\n      <td>localhost</td>\n      <td>localhost</td>\n      <td>localhost</td>\n      <td>...</td>\n      <td>localhost</td>\n      <td>localhost</td>\n      <td>localhost</td>\n      <td>NaN</td>\n      <td>NaN</td>\n      <td>[self, portrait, as, a, painter, vincent, van,...</td>\n      <td>[self, portrait, painter, vincent, van, gogh, ...</td>\n      <td>[(3, 1), (5, 1), (7, 1), (9, 4), (10, 1), (12,...</td>\n      <td>[44, 43, 42, 21, 20, 13, 3, 5, 31, 40, 25, 41,...</td>\n      <td>[(3, 0.0021413680169537126), (5, 0.00214136801...</td>\n    </tr>\n    <tr>\n      <th>3</th>\n      <td>s0027V1962</td>\n      <td>The Langlois Bridge Vincent van Gogh (1853 - 1...</td>\n      <td>localhost F0400 JH1371 s0027V1962</td>\n      <td>The sky was grey when Van Gogh painted this br...</td>\n      <td>localhost</td>\n      <td>localhost</td>\n      <td>localhost</td>\n      <td>localhost</td>\n      <td>localhost</td>\n      <td>localhost</td>\n      <td>...</td>\n      <td>localhost</td>\n      <td>localhost</td>\n      <td>localhost</td>\n      <td>NaN</td>\n      <td>NaN</td>\n      <td>[the, langlois, bridge, vincent, van, gogh, 18...</td>\n      <td>[langlois, bridge, vincent, van, gogh, 1853, 1...</td>\n      <td>[(3, 1), (5, 1), (7, 1), (9, 4), (10, 1), (12,...</td>\n      <td>[51, 50, 21, 20, 13, 3, 5, 49, 52, 35, 10, 17,...</td>\n      <td>[(3, 0.0019726989955169234), (5, 0.00197269899...</td>\n    </tr>\n    <tr>\n      <th>4</th>\n      <td>s0029V1962</td>\n      <td>The Sower Vincent van Gogh (1853 - 1890), Arle...</td>\n      <td>localhost F0451 JH1629 s0029V1962</td>\n      <td>Van Gogh had a special interest in sowers thro...</td>\n      <td>localhost</td>\n      <td>localhost</td>\n      <td>localhost</td>\n      <td>localhost</td>\n      <td>localhost</td>\n      <td>localhost</td>\n      <td>...</td>\n      <td>localhost</td>\n      <td>localhost</td>\n      <td>localhost</td>\n      <td>NaN</td>\n      <td>NaN</td>\n      <td>[the, sower, vincent, van, gogh, 1853, 1890, a...</td>\n      <td>[sower, vincent, van, gogh, 1853, 1890, arles,...</td>\n      <td>[(3, 1), (5, 1), (7, 1), (9, 4), (10, 1), (12,...</td>\n      <td>[58, 21, 20, 13, 3, 5, 49, 57, 35, 10, 17, 19,...</td>\n      <td>[(3, 0.002496978648614098), (5, 0.002496978648...</td>\n    </tr>\n  </tbody>\n</table>\n<p>5 rows × 55 columns</p>\n</div>"
     },
     "metadata": {},
     "execution_count": 171
    }
   ],
   "source": [
    "# checking everything is okey\n",
    "text_df.head()"
   ]
  },
  {
   "cell_type": "code",
   "execution_count": 172,
   "metadata": {
    "tags": []
   },
   "outputs": [
    {
     "output_type": "stream",
     "name": "stdout",
     "text": [
      "964 964 964 964 964 964 964 964 964\n"
     ]
    }
   ],
   "source": [
    "# creating the dense vector standar representantion of the text\n",
    "text_dvector = list()\n",
    "\n",
    "# iterating in each text with the tfidf word bag\n",
    "for t_idtokens, tfidf_tokens in zip(text_idxs, corpus_tfidf):\n",
    "    # print(\"===============================\")\n",
    "    # print(len(tidxs), len(ttfidf))\n",
    "    # print(type(tidxs), type(ttfidf))\n",
    "    # dense vector representation\n",
    "    tdvect = list()\n",
    "\n",
    "    # creating the dense representation for each text\n",
    "    for t_token in t_idtokens:\n",
    "\n",
    "        # transforming the tfidf into dict\n",
    "        tokens_dict = dict(tfidf_tokens)\n",
    "        \n",
    "        # looking for each word\n",
    "        if t_token in tokens_dict.keys():\n",
    "            temp = tokens_dict.get(t_token)\n",
    "            # appending std word representation into array\n",
    "            tdvect.append(temp)\n",
    "\n",
    "    # copying std dense vector into corpus column\n",
    "    ans = copy.deepcopy(tdvect)\n",
    "    text_dvector.append(ans)\n",
    "\n",
    "# checking the size of all columna\n",
    "print(len(text_dvector), len(corpus_tfidf), len(text_bows), len(text_idxs), len(text_lemmas), len(text_nsw_tokens), len(text_tokens), len(text_clean), len(text_corpus))\n",
    "\n",
    "# adding the dense representation into the dataframe\n",
    "text_df[\"STD_DVEC_TOKENS\"] = text_dvector"
   ]
  },
  {
   "cell_type": "code",
   "execution_count": 173,
   "metadata": {},
   "outputs": [
    {
     "output_type": "execute_result",
     "data": {
      "text/plain": [
       "           ID                                          CORE_TEXT  \\\n",
       "0  s0005V1962  The Potato Eaters Vincent van Gogh (1853 - 189...   \n",
       "1  s0019V1962  Garden with Courting Couples: Square Saint-Pie...   \n",
       "2  s0022V1962  Self-Portrait as a Painter Vincent van Gogh (1...   \n",
       "3  s0027V1962  The Langlois Bridge Vincent van Gogh (1853 - 1...   \n",
       "4  s0029V1962  The Sower Vincent van Gogh (1853 - 1890), Arle...   \n",
       "\n",
       "                            EXT_TEXT  \\\n",
       "0  localhost F0082 JH0764 s0005V1962   \n",
       "1  localhost F0314 JH1258 s0019V1962   \n",
       "2  localhost F0522 JH1356 s0022V1962   \n",
       "3  localhost F0400 JH1371 s0027V1962   \n",
       "4  localhost F0451 JH1629 s0029V1962   \n",
       "\n",
       "                                            he wrote Van Gogh wrote  \\\n",
       "0  Van Gogh saw the Potato Eaters as a showpiece,...      localhost   \n",
       "1  Van Gogh called this sunny park scene the pain...      localhost   \n",
       "2  Van Gogh presented himself in this self-portra...      localhost   \n",
       "3  The sky was grey when Van Gogh painted this br...      localhost   \n",
       "4  Van Gogh had a special interest in sowers thro...      localhost   \n",
       "\n",
       "  complementary colours The Potato Eaters this torso of Venus       drew  \\\n",
       "0             localhost         localhost           localhost  localhost   \n",
       "1             localhost         localhost           localhost  localhost   \n",
       "2             localhost         localhost           localhost  localhost   \n",
       "3             localhost         localhost           localhost  localhost   \n",
       "4             localhost         localhost           localhost  localhost   \n",
       "\n",
       "  standing torso of Venus  ...       1886       nude 1881 Brussels  \\\n",
       "0               localhost  ...  localhost  localhost  NaN      NaN   \n",
       "1               localhost  ...  localhost  localhost  NaN      NaN   \n",
       "2               localhost  ...  localhost  localhost  NaN      NaN   \n",
       "3               localhost  ...  localhost  localhost  NaN      NaN   \n",
       "4               localhost  ...  localhost  localhost  NaN      NaN   \n",
       "\n",
       "                                              TOKENS  \\\n",
       "0  [the, potato, eaters, vincent, van, gogh, 1853...   \n",
       "1  [garden, with, courting, couples, square, sain...   \n",
       "2  [self, portrait, as, a, painter, vincent, van,...   \n",
       "3  [the, langlois, bridge, vincent, van, gogh, 18...   \n",
       "4  [the, sower, vincent, van, gogh, 1853, 1890, a...   \n",
       "\n",
       "                                         PREP_TOKENS  \\\n",
       "0  [potato, eater, vincent, van, gogh, 1853, 1890...   \n",
       "1  [garden, courting, couple, square, saint, pier...   \n",
       "2  [self, portrait, painter, vincent, van, gogh, ...   \n",
       "3  [langlois, bridge, vincent, van, gogh, 1853, 1...   \n",
       "4  [sower, vincent, van, gogh, 1853, 1890, arles,...   \n",
       "\n",
       "                                         BOWS_TOKENS  \\\n",
       "0  [(0, 1), (1, 1), (2, 1), (3, 1), (4, 1), (5, 1...   \n",
       "1  [(3, 1), (5, 1), (7, 1), (9, 4), (10, 1), (12,...   \n",
       "2  [(3, 1), (5, 1), (7, 1), (9, 4), (10, 1), (12,...   \n",
       "3  [(3, 1), (5, 1), (7, 1), (9, 4), (10, 1), (12,...   \n",
       "4  [(3, 1), (5, 1), (7, 1), (9, 4), (10, 1), (12,...   \n",
       "\n",
       "                                          IDX_TOKENS  \\\n",
       "0  [18, 11, 21, 20, 13, 3, 5, 16, 8, 14, 4, 10, 1...   \n",
       "1  [30, 29, 28, 34, 33, 32, 21, 20, 13, 3, 5, 31,...   \n",
       "2  [44, 43, 42, 21, 20, 13, 3, 5, 31, 40, 25, 41,...   \n",
       "3  [51, 50, 21, 20, 13, 3, 5, 49, 52, 35, 10, 17,...   \n",
       "4  [58, 21, 20, 13, 3, 5, 49, 57, 35, 10, 17, 19,...   \n",
       "\n",
       "                                        TFIDF_TOKENS  \\\n",
       "0  [(0, 0.40324268615259634), (1, 0.4484853309269...   \n",
       "1  [(3, 0.0016704315719060568), (5, 0.00167043157...   \n",
       "2  [(3, 0.0021413680169537126), (5, 0.00214136801...   \n",
       "3  [(3, 0.0019726989955169234), (5, 0.00197269899...   \n",
       "4  [(3, 0.002496978648614098), (5, 0.002496978648...   \n",
       "\n",
       "                                     STD_DVEC_TOKENS  \n",
       "0  [0.2562978554088656, 0.35800004137819563, 0.00...  \n",
       "1  [0.17370519076038676, 0.3630472868005495, 0.25...  \n",
       "2  [0.26248956382121424, 0.2017948634248733, 0.41...  \n",
       "3  [0.4287413085585919, 0.3073207033196817, 0.003...  \n",
       "4  [0.36082600862610664, 0.004993957297228196, 0....  \n",
       "\n",
       "[5 rows x 56 columns]"
      ],
      "text/html": "<div>\n<style scoped>\n    .dataframe tbody tr th:only-of-type {\n        vertical-align: middle;\n    }\n\n    .dataframe tbody tr th {\n        vertical-align: top;\n    }\n\n    .dataframe thead th {\n        text-align: right;\n    }\n</style>\n<table border=\"1\" class=\"dataframe\">\n  <thead>\n    <tr style=\"text-align: right;\">\n      <th></th>\n      <th>ID</th>\n      <th>CORE_TEXT</th>\n      <th>EXT_TEXT</th>\n      <th>he wrote</th>\n      <th>Van Gogh wrote</th>\n      <th>complementary colours</th>\n      <th>The Potato Eaters</th>\n      <th>this torso of Venus</th>\n      <th>drew</th>\n      <th>standing torso of Venus</th>\n      <th>...</th>\n      <th>1886</th>\n      <th>nude</th>\n      <th>1881</th>\n      <th>Brussels</th>\n      <th>TOKENS</th>\n      <th>PREP_TOKENS</th>\n      <th>BOWS_TOKENS</th>\n      <th>IDX_TOKENS</th>\n      <th>TFIDF_TOKENS</th>\n      <th>STD_DVEC_TOKENS</th>\n    </tr>\n  </thead>\n  <tbody>\n    <tr>\n      <th>0</th>\n      <td>s0005V1962</td>\n      <td>The Potato Eaters Vincent van Gogh (1853 - 189...</td>\n      <td>localhost F0082 JH0764 s0005V1962</td>\n      <td>Van Gogh saw the Potato Eaters as a showpiece,...</td>\n      <td>localhost</td>\n      <td>localhost</td>\n      <td>localhost</td>\n      <td>localhost</td>\n      <td>localhost</td>\n      <td>localhost</td>\n      <td>...</td>\n      <td>localhost</td>\n      <td>localhost</td>\n      <td>NaN</td>\n      <td>NaN</td>\n      <td>[the, potato, eaters, vincent, van, gogh, 1853...</td>\n      <td>[potato, eater, vincent, van, gogh, 1853, 1890...</td>\n      <td>[(0, 1), (1, 1), (2, 1), (3, 1), (4, 1), (5, 1...</td>\n      <td>[18, 11, 21, 20, 13, 3, 5, 16, 8, 14, 4, 10, 1...</td>\n      <td>[(0, 0.40324268615259634), (1, 0.4484853309269...</td>\n      <td>[0.2562978554088656, 0.35800004137819563, 0.00...</td>\n    </tr>\n    <tr>\n      <th>1</th>\n      <td>s0019V1962</td>\n      <td>Garden with Courting Couples: Square Saint-Pie...</td>\n      <td>localhost F0314 JH1258 s0019V1962</td>\n      <td>Van Gogh called this sunny park scene the pain...</td>\n      <td>localhost</td>\n      <td>localhost</td>\n      <td>localhost</td>\n      <td>localhost</td>\n      <td>localhost</td>\n      <td>localhost</td>\n      <td>...</td>\n      <td>localhost</td>\n      <td>localhost</td>\n      <td>NaN</td>\n      <td>NaN</td>\n      <td>[garden, with, courting, couples, square, sain...</td>\n      <td>[garden, courting, couple, square, saint, pier...</td>\n      <td>[(3, 1), (5, 1), (7, 1), (9, 4), (10, 1), (12,...</td>\n      <td>[30, 29, 28, 34, 33, 32, 21, 20, 13, 3, 5, 31,...</td>\n      <td>[(3, 0.0016704315719060568), (5, 0.00167043157...</td>\n      <td>[0.17370519076038676, 0.3630472868005495, 0.25...</td>\n    </tr>\n    <tr>\n      <th>2</th>\n      <td>s0022V1962</td>\n      <td>Self-Portrait as a Painter Vincent van Gogh (1...</td>\n      <td>localhost F0522 JH1356 s0022V1962</td>\n      <td>Van Gogh presented himself in this self-portra...</td>\n      <td>localhost</td>\n      <td>localhost</td>\n      <td>localhost</td>\n      <td>localhost</td>\n      <td>localhost</td>\n      <td>localhost</td>\n      <td>...</td>\n      <td>localhost</td>\n      <td>localhost</td>\n      <td>NaN</td>\n      <td>NaN</td>\n      <td>[self, portrait, as, a, painter, vincent, van,...</td>\n      <td>[self, portrait, painter, vincent, van, gogh, ...</td>\n      <td>[(3, 1), (5, 1), (7, 1), (9, 4), (10, 1), (12,...</td>\n      <td>[44, 43, 42, 21, 20, 13, 3, 5, 31, 40, 25, 41,...</td>\n      <td>[(3, 0.0021413680169537126), (5, 0.00214136801...</td>\n      <td>[0.26248956382121424, 0.2017948634248733, 0.41...</td>\n    </tr>\n    <tr>\n      <th>3</th>\n      <td>s0027V1962</td>\n      <td>The Langlois Bridge Vincent van Gogh (1853 - 1...</td>\n      <td>localhost F0400 JH1371 s0027V1962</td>\n      <td>The sky was grey when Van Gogh painted this br...</td>\n      <td>localhost</td>\n      <td>localhost</td>\n      <td>localhost</td>\n      <td>localhost</td>\n      <td>localhost</td>\n      <td>localhost</td>\n      <td>...</td>\n      <td>localhost</td>\n      <td>localhost</td>\n      <td>NaN</td>\n      <td>NaN</td>\n      <td>[the, langlois, bridge, vincent, van, gogh, 18...</td>\n      <td>[langlois, bridge, vincent, van, gogh, 1853, 1...</td>\n      <td>[(3, 1), (5, 1), (7, 1), (9, 4), (10, 1), (12,...</td>\n      <td>[51, 50, 21, 20, 13, 3, 5, 49, 52, 35, 10, 17,...</td>\n      <td>[(3, 0.0019726989955169234), (5, 0.00197269899...</td>\n      <td>[0.4287413085585919, 0.3073207033196817, 0.003...</td>\n    </tr>\n    <tr>\n      <th>4</th>\n      <td>s0029V1962</td>\n      <td>The Sower Vincent van Gogh (1853 - 1890), Arle...</td>\n      <td>localhost F0451 JH1629 s0029V1962</td>\n      <td>Van Gogh had a special interest in sowers thro...</td>\n      <td>localhost</td>\n      <td>localhost</td>\n      <td>localhost</td>\n      <td>localhost</td>\n      <td>localhost</td>\n      <td>localhost</td>\n      <td>...</td>\n      <td>localhost</td>\n      <td>localhost</td>\n      <td>NaN</td>\n      <td>NaN</td>\n      <td>[the, sower, vincent, van, gogh, 1853, 1890, a...</td>\n      <td>[sower, vincent, van, gogh, 1853, 1890, arles,...</td>\n      <td>[(3, 1), (5, 1), (7, 1), (9, 4), (10, 1), (12,...</td>\n      <td>[58, 21, 20, 13, 3, 5, 49, 57, 35, 10, 17, 19,...</td>\n      <td>[(3, 0.002496978648614098), (5, 0.002496978648...</td>\n      <td>[0.36082600862610664, 0.004993957297228196, 0....</td>\n    </tr>\n  </tbody>\n</table>\n<p>5 rows × 56 columns</p>\n</div>"
     },
     "metadata": {},
     "execution_count": 173
    }
   ],
   "source": [
    "# checking everything is okey\n",
    "text_df.head()"
   ]
  },
  {
   "cell_type": "code",
   "execution_count": 174,
   "metadata": {},
   "outputs": [
    {
     "output_type": "stream",
     "name": "stdout",
     "text": [
      "c:\\Users\\Felipe\\Documents\\GitHub\\sa-artea\\VVG-Gallery-StdDataProcessor\\Notebooks\\Data\\Std\\std-VVG-Gallery-Text-Data-Large.csv\n"
     ]
    }
   ],
   "source": [
    "# saving the CSV file into pandas\n",
    "# writing an existing CSV fileto update the dataframe\n",
    "target_fn = \"std-\" + work_fn\n",
    "fn_tpath = os.path.join(os.getcwd(), dataf, stdf, target_fn)\n",
    "print(fn_tpath)\n",
    "text_df.to_csv(fn_tpath,\n",
    "                sep=\",\",\n",
    "                index=False,\n",
    "                encoding=\"utf-8\",\n",
    "                mode=\"w\",\n",
    "                )"
   ]
  },
  {
   "cell_type": "code",
   "execution_count": 175,
   "metadata": {},
   "outputs": [],
   "source": [
    "# dont remember for what i did this\n",
    "# sim_index = gensim.similarities.SparseMatrixSimilarity(corpus_tfidf, num_features=len(vvg_dict))"
   ]
  }
 ]
}