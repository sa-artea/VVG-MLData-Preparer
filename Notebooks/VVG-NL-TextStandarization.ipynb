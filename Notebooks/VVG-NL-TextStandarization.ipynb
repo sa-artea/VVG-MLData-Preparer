{
 "metadata": {
  "language_info": {
   "codemirror_mode": {
    "name": "ipython",
    "version": 3
   },
   "file_extension": ".py",
   "mimetype": "text/x-python",
   "name": "python",
   "nbconvert_exporter": "python",
   "pygments_lexer": "ipython3",
   "version": "3.8.6-final"
  },
  "orig_nbformat": 2,
  "kernelspec": {
   "name": "python386jvsc74a57bd01baa965d5efe3ac65b79dfc60c0d706280b1da80fedb7760faf2759126c4f253",
   "display_name": "Python 3.8.6 64-bit"
  },
  "metadata": {
   "interpreter": {
    "hash": "1baa965d5efe3ac65b79dfc60c0d706280b1da80fedb7760faf2759126c4f253"
   }
  }
 },
 "nbformat": 4,
 "nbformat_minor": 2,
 "cells": [
  {
   "source": [
    "Word2Vec# VINCENT VAN GOGH STANDARD DATA TEXT PROCESS\n",
    "\n",
    "This script takes the gallery's text from the local data folder and process it to an standard representation with Natural Language Processing and Word2Vec methods.\n",
    "\n",
    "The process goes as follows:\n",
    "\n",
    "1. Load the CSV into a pandas DataFrame.\n",
    "2. Transform text columns into words lists.\n",
    "3. Clear the text to find tokens (remove stop words).\n",
    "4. Save corpus complete dictionary.\n",
    "4. Lemmatize the tokens to find stem words.\n",
    "5. Execute Bag of Words to find vector representation (doc2bow).\n",
    "6. Execute the mapping of tokens in the text to find vector representation (doc2idx).\n",
    "7. Execute the Word 2 Vect standarization process with tf-idf method (TF-IDF: Term Frequency - Inverse Document Frequency).\n",
    "8. Create the dense standard vector text representation.\n",
    "9. Save the the resulting CSV from pandas DataFrame\n",
    "\n",
    "The following Links were useful to create this proof of concept:\n",
    "\n",
    "- Gensim Word2Vec Tutorial, URL: https://www.kaggle.com/pierremegret/gensim-word2vec-tutorial#Getting-Started\n",
    "- Gensim Core Concepts, URL: https://radimrehurek.com/gensim/auto_examples/core/run_core_concepts.html\n",
    "- Document similarity queries, URL: https://radimrehurek.com/gensim/similarities/docsim.html\n",
    "- Tutorial 19: Text analysis with gensim, URL: https://statsmaths.github.io/stat289-f18/solutions/tutorial19-gensim.html\n",
    "- Gensim TF-IDF model, URL: https://radimrehurek.com/gensim/models/tfidfmodel.html?highlight=tfidfmodel#module-gensim.models.tfidfmodel\n",
    "- Gensim, Construct word<->id mappings, URL: https://radimrehurek.com/gensim/corpora/dictionary.html?highlight=doc2idx#gensim.corpora.dictionary.Dictionary.doc2idx\n",
    "- tensorflow, Word2Vec, URL: https://www.tensorflow.org/tutorials/text/word2vec\n",
    "- Introduction to Word Embeddings, URL: https://pub.towardsai.net/introduction-to-word-embedding-5ba5cf97d296\n",
    "- Python for NLP: Working with the Gensim Library (Part 1), URL: https://stackabuse.com/python-for-nlp-working-with-the-gensim-library-part-1/\n",
    "- Packt main github repository, URL: https://github.com/PacktPublishing\n"
   ],
   "cell_type": "markdown",
   "metadata": {}
  },
  {
   "cell_type": "code",
   "execution_count": 97,
   "metadata": {},
   "outputs": [
    {
     "output_type": "stream",
     "name": "stderr",
     "text": [
      "[nltk_data] Downloading package punkt to\n[nltk_data]     C:\\Users\\Felipe\\AppData\\Roaming\\nltk_data...\n[nltk_data]   Package punkt is already up-to-date!\n[nltk_data] Downloading package stopwords to\n[nltk_data]     C:\\Users\\Felipe\\AppData\\Roaming\\nltk_data...\n[nltk_data]   Package stopwords is already up-to-date!\n[nltk_data] Downloading package wordnet to\n[nltk_data]     C:\\Users\\Felipe\\AppData\\Roaming\\nltk_data...\n[nltk_data]   Package wordnet is already up-to-date!\n"
     ]
    },
    {
     "output_type": "execute_result",
     "data": {
      "text/plain": [
       "True"
      ]
     },
     "metadata": {},
     "execution_count": 97
    }
   ],
   "source": [
    "\"\"\"\n",
    "* Copyright 2020, Maestria de Humanidades Digitales,\n",
    "* Universidad de Los Andes\n",
    "*\n",
    "* Developed for the Msc graduation project in Digital Humanities\n",
    "*\n",
    "* This program is free software: you can redistribute it and/or modify\n",
    "* it under the terms of the GNU General Public License as published by\n",
    "* the Free Software Foundation, either version 3 of the License, or\n",
    "* (at your option) any later version.\n",
    "*\n",
    "* This program is distributed in the hope that it will be useful,\n",
    "* but WITHOUT ANY WARRANTY; without even the implied warranty of\n",
    "* MERCHANTABILITY or FITNESS FOR A PARTICULAR PURPOSE.  See the\n",
    "* GNU General Public License for more details.\n",
    "*\n",
    "* You should have received a copy of the GNU General Public License\n",
    "* along with this program.  If not, see <http://www.gnu.org/licenses/>.\n",
    "\"\"\"\n",
    "\n",
    "# ===============================\n",
    "# native python libraries\n",
    "# ===============================\n",
    "import os\n",
    "import copy\n",
    "import sys\n",
    "import csv\n",
    "import re\n",
    "import pprint\n",
    "\n",
    "# ===============================\n",
    "# extension python libraries\n",
    "# ===============================\n",
    "import pandas as pd\n",
    "import numpy as np\n",
    "import gensim\n",
    "from gensim import models\n",
    "from gensim import matutils\n",
    "from gensim import similarities\n",
    "import nltk\n",
    "from nltk.stem import WordNetLemmatizer\n",
    "from nltk.corpus import stopwords\n",
    "\n",
    "# downloading nlkt data\n",
    "nltk.download('punkt')\n",
    "nltk.download('stopwords')\n",
    "nltk.download('wordnet')\n",
    "\n",
    "\n",
    "# ===============================\n",
    "# developed python libraries\n",
    "# ===============================\n"
   ]
  },
  {
   "cell_type": "code",
   "execution_count": 98,
   "metadata": {},
   "outputs": [],
   "source": [
    "# notebook varlable definitions\n",
    "# root folder\n",
    "dataf = \"Data\"\n",
    "\n",
    "# subfolder with the OCR transcrived txt data\n",
    "prepf = \"Prep\"\n",
    "\n",
    "#  subfolder with the CSV files containing the ML pandas dataframe\n",
    "stdf = \"Std\"\n",
    "\n",
    "# dataframe file extension\n",
    "fext = \"csv\"\n",
    "\n",
    "# dictionary extension\n",
    "dext = \"dict\"\n",
    "\n",
    "# dataframe file name\n",
    "small_fn = \"VVG-Gallery-Text-Data-Small\" + \".\" + fext\n",
    "large_fn = \"VVG-Gallery-Text-Data-Large\" + \".\" + fext\n",
    "\n",
    "\n",
    "# regex for _TEXT\n",
    "text_re = u\"\\w+_TEXT\"\n",
    "\n",
    "# regex for ID\n",
    "id_re = u\"ID{1}\"\n",
    "\n",
    "# regex for others (URLs|Categories)\n",
    "cat_re = u\"\\b(?!(ID{1}|\\w+_TEXT))\\b(\\w+\\W+)+\"\n",
    "cat_re = u\"ID{1}(^\\w+( \\w+)*$)\"\n",
    "\n",
    "# default values\n",
    "work_fn = small_fn\n",
    "# work_fn = large_fn"
   ]
  },
  {
   "cell_type": "code",
   "execution_count": 99,
   "metadata": {},
   "outputs": [
    {
     "output_type": "stream",
     "name": "stdout",
     "text": [
      "c:\\Users\\Felipe\\Documents\\GitHub\\sa-artea\\VVG-Gallery-StdDataProcessor\n"
     ]
    }
   ],
   "source": [
    "root_folder = os.getcwd()\n",
    "root_folder = os.path.split(root_folder)[0]\n",
    "root_folder = os.path.normpath(root_folder)\n",
    "print(root_folder)"
   ]
  },
  {
   "cell_type": "code",
   "execution_count": 100,
   "metadata": {},
   "outputs": [
    {
     "output_type": "stream",
     "name": "stdout",
     "text": [
      "c:\\Users\\Felipe\\Documents\\GitHub\\sa-artea\\VVG-Gallery-StdDataProcessor\\Data\\Prep\\VVG-Gallery-Text-Data-Small.csv\n"
     ]
    }
   ],
   "source": [
    "# loading the CSV file into pandas\n",
    "# read an existing CSV fileto update the dataframe\n",
    "fn_path = os.path.join(root_folder, dataf, prepf, work_fn)\n",
    "print(fn_path)\n",
    "text_df = pd.read_csv(\n",
    "                fn_path,\n",
    "                sep=\",\",\n",
    "                encoding=\"utf-8\",\n",
    "                engine=\"python\",\n",
    "            )"
   ]
  },
  {
   "cell_type": "code",
   "execution_count": 101,
   "metadata": {},
   "outputs": [],
   "source": [
    "# getting the df columns\n",
    "df_cols = list(text_df)\n",
    "\n",
    "# getting the text columns\n",
    "text_r = re.compile(text_re)\n",
    "text_cols = list(filter(text_r.match, df_cols))\n",
    "\n",
    "# getting the ID column\n",
    "id_r = re.compile(id_re)\n",
    "id_cols = list(filter(id_r.match, df_cols))\n",
    "\n",
    "# getting the URLs/Category columns\n",
    "cat_r = re.compile(cat_re)\n",
    "cat_cols = list(filter(cat_r.match, df_cols))"
   ]
  },
  {
   "cell_type": "code",
   "execution_count": 102,
   "metadata": {},
   "outputs": [
    {
     "output_type": "stream",
     "name": "stdout",
     "text": [
      "59\n"
     ]
    }
   ],
   "source": [
    "# getting the original working text\n",
    "text_corpus = list(text_df[text_cols[0]])\n",
    "print(len(text_corpus))"
   ]
  },
  {
   "cell_type": "code",
   "execution_count": 103,
   "metadata": {},
   "outputs": [
    {
     "output_type": "stream",
     "name": "stdout",
     "text": [
      "59 59\n"
     ]
    }
   ],
   "source": [
    "# to working text\n",
    "text_clean = list()\n",
    "for text in text_corpus:\n",
    "    text = text.lower()\n",
    "    text_clean.append(text)\n",
    "\n",
    "print(len(text_clean), len(text_corpus))"
   ]
  },
  {
   "cell_type": "code",
   "execution_count": 104,
   "metadata": {
    "tags": []
   },
   "outputs": [
    {
     "output_type": "stream",
     "name": "stdout",
     "text": [
      "59 59\n"
     ]
    }
   ],
   "source": [
    "# cleaning and preprocessing text for word2vec\n",
    "i = 0\n",
    "for i in range(0, len(text_clean)):\n",
    "    text = text_clean[i]\n",
    "    # removing special characters\n",
    "    text = re.sub(r\"\\W\", \" \", text)\n",
    "    # finding missing points between numbers\n",
    "    text = re.sub(r\"(\\d{1,3}) (\\d{1,2})\", r\"\\1.\\2\", text)\n",
    "    # removing excessive spaces\n",
    "    text = re.sub(r\"\\s+\", \" \", text)\n",
    "    text_clean[i] = text\n",
    "    i = i + 1\n",
    "\n",
    "print(len(text_clean), len(text_corpus))"
   ]
  },
  {
   "cell_type": "code",
   "execution_count": 105,
   "metadata": {},
   "outputs": [
    {
     "output_type": "stream",
     "name": "stdout",
     "text": [
      "59 59 59\n"
     ]
    }
   ],
   "source": [
    "# tokenising text\n",
    "text_tokens = list()\n",
    "\n",
    "for text in text_clean:\n",
    "    text = text.split()\n",
    "    text_tokens.append(text)\n",
    "    # print(text)\n",
    "\n",
    "print(len(text_tokens), len(text_clean), len(text_corpus))"
   ]
  },
  {
   "cell_type": "code",
   "execution_count": 106,
   "metadata": {},
   "outputs": [
    {
     "output_type": "stream",
     "name": "stdout",
     "text": [
      "59 59 59 59\n"
     ]
    }
   ],
   "source": [
    "# removing stopwords\n",
    "text_nsw_tokens = list()\n",
    "\n",
    "for tokens in text_tokens:\n",
    "\n",
    "    clear_tokens = list()\n",
    "\n",
    "    for token in tokens:\n",
    "        if not token in stopwords.words('english'):\n",
    "            clear_tokens.append(token)\n",
    "    \n",
    "    ttokens = copy.deepcopy(clear_tokens)\n",
    "    text_nsw_tokens.append(ttokens)\n",
    "    # print(clear_tokens)\n",
    "\n",
    "print(len(text_nsw_tokens), len(text_tokens), len(text_clean), len(text_corpus))"
   ]
  },
  {
   "cell_type": "code",
   "execution_count": 107,
   "metadata": {
    "tags": []
   },
   "outputs": [
    {
     "output_type": "stream",
     "name": "stdout",
     "text": [
      "59 59 59 59 59\n"
     ]
    }
   ],
   "source": [
    "# lematization of the text\n",
    "text_lemmas = list()\n",
    "token_lematizer = WordNetLemmatizer()\n",
    "\n",
    "for tokens in text_nsw_tokens:\n",
    "\n",
    "    lemma_tokens = list()\n",
    "\n",
    "    for token in tokens:\n",
    "        \n",
    "        ans = token_lematizer.lemmatize(token)\n",
    "        lemma_tokens.append(ans)\n",
    "\n",
    "    tlemmas = copy.deepcopy(lemma_tokens)\n",
    "    text_lemmas.append(tlemmas)\n",
    "\n",
    "print(len(text_lemmas), len(text_nsw_tokens), len(text_tokens), len(text_clean), len(text_corpus))"
   ]
  },
  {
   "cell_type": "code",
   "execution_count": 108,
   "metadata": {},
   "outputs": [],
   "source": [
    "text_df[\"TOKENS\"] = text_tokens\n",
    "text_df[\"PREP_TOKENS\"] = text_lemmas"
   ]
  },
  {
   "cell_type": "code",
   "execution_count": 109,
   "metadata": {},
   "outputs": [
    {
     "output_type": "execute_result",
     "data": {
      "text/plain": [
       "            ID F-number JH-number  \\\n",
       "0  s0004V1962r   F0388r    JH0782   \n",
       "1   s0006V1962    F0160    JH0722   \n",
       "2   s0010V1962    F0174    JH0978   \n",
       "3   s0056V1962   F0216a    JH1054   \n",
       "4   s0058V1962    F0161    JH0788   \n",
       "\n",
       "                                           CORE_TEXT  \\\n",
       "0  Head of a Woman Vincent van Gogh (1853 - 1890)...   \n",
       "1  Head of a Woman Vincent van Gogh (1853 - 1890)...   \n",
       "2  Portrait of an Old Woman Vincent van Gogh (185...   \n",
       "3  Torso of Venus Vincent van Gogh (1853 - 1890),...   \n",
       "4  Woman with a Mourning Shawl Vincent van Gogh (...   \n",
       "\n",
       "                                               heads  \\\n",
       "0  https://vangoghmuseum.nl/en/collection?Genre=h...   \n",
       "1  https://vangoghmuseum.nl/en/collection?Genre=h...   \n",
       "2                                          localhost   \n",
       "3                                          localhost   \n",
       "4  https://vangoghmuseum.nl/en/collection?Genre=h...   \n",
       "\n",
       "                                     Head of a Woman  \\\n",
       "0                                          localhost   \n",
       "1  https://vangoghmuseum.nl/en/collection/s0072V1962   \n",
       "2                                          localhost   \n",
       "3                                          localhost   \n",
       "4                                          localhost   \n",
       "\n",
       "                                       Head of a Man  \\\n",
       "0                                          localhost   \n",
       "1  https://vangoghmuseum.nl/en/collection/s0069V1962   \n",
       "2                                          localhost   \n",
       "3                                          localhost   \n",
       "4                                          localhost   \n",
       "\n",
       "                                   Head of a Woman 1  \\\n",
       "0                                          localhost   \n",
       "1  https://vangoghmuseum.nl/en/collection/s0139V1962   \n",
       "2                                          localhost   \n",
       "3                                          localhost   \n",
       "4                                          localhost   \n",
       "\n",
       "                                   Head of a Woman 2  \\\n",
       "0                                          localhost   \n",
       "1  https://vangoghmuseum.nl/en/collection/s0062V1962   \n",
       "2                                          localhost   \n",
       "3                                          localhost   \n",
       "4                                          localhost   \n",
       "\n",
       "                                   Head of a Woman 3  ...  \\\n",
       "0                                          localhost  ...   \n",
       "1  https://vangoghmuseum.nl/en/collection/s0084V1962  ...   \n",
       "2                                          localhost  ...   \n",
       "3                                          localhost  ...   \n",
       "4                                          localhost  ...   \n",
       "\n",
       "                                               1885  \\\n",
       "0  https://vangoghmuseum.nl/en/collection?Date=1885   \n",
       "1  https://vangoghmuseum.nl/en/collection?Date=1885   \n",
       "2  https://vangoghmuseum.nl/en/collection?Date=1885   \n",
       "3                                         localhost   \n",
       "4  https://vangoghmuseum.nl/en/collection?Date=1885   \n",
       "\n",
       "                                               1886       1887       1890  \\\n",
       "0                                         localhost  localhost  localhost   \n",
       "1                                         localhost  localhost  localhost   \n",
       "2                                         localhost  localhost  localhost   \n",
       "3  https://vangoghmuseum.nl/en/collection?Date=1886  localhost  localhost   \n",
       "4                                         localhost  localhost  localhost   \n",
       "\n",
       "                                              Nuenen  \\\n",
       "0  https://vangoghmuseum.nl/en/collection?Place=N...   \n",
       "1  https://vangoghmuseum.nl/en/collection?Place=N...   \n",
       "2                                          localhost   \n",
       "3                                          localhost   \n",
       "4  https://vangoghmuseum.nl/en/collection?Place=N...   \n",
       "\n",
       "                                             Antwerp  \\\n",
       "0                                          localhost   \n",
       "1                                          localhost   \n",
       "2  https://vangoghmuseum.nl/en/collection?Place=A...   \n",
       "3                                          localhost   \n",
       "4                                          localhost   \n",
       "\n",
       "                                               Paris   Brussels  \\\n",
       "0                                          localhost  localhost   \n",
       "1                                          localhost  localhost   \n",
       "2                                          localhost  localhost   \n",
       "3  https://vangoghmuseum.nl/en/collection?Place=P...  localhost   \n",
       "4                                          localhost  localhost   \n",
       "\n",
       "                                              TOKENS  \\\n",
       "0  [head, of, a, woman, vincent, van, gogh, 1853,...   \n",
       "1  [head, of, a, woman, vincent, van, gogh, 1853,...   \n",
       "2  [portrait, of, an, old, woman, vincent, van, g...   \n",
       "3  [torso, of, venus, vincent, van, gogh, 1853, 1...   \n",
       "4  [woman, with, a, mourning, shawl, vincent, van...   \n",
       "\n",
       "                                         PREP_TOKENS  \n",
       "0  [head, woman, vincent, van, gogh, 1853, 1890, ...  \n",
       "1  [head, woman, vincent, van, gogh, 1853, 1890, ...  \n",
       "2  [portrait, old, woman, vincent, van, gogh, 185...  \n",
       "3  [torso, venus, vincent, van, gogh, 1853, 1890,...  \n",
       "4  [woman, mourning, shawl, vincent, van, gogh, 1...  \n",
       "\n",
       "[5 rows x 53 columns]"
      ],
      "text/html": "<div>\n<style scoped>\n    .dataframe tbody tr th:only-of-type {\n        vertical-align: middle;\n    }\n\n    .dataframe tbody tr th {\n        vertical-align: top;\n    }\n\n    .dataframe thead th {\n        text-align: right;\n    }\n</style>\n<table border=\"1\" class=\"dataframe\">\n  <thead>\n    <tr style=\"text-align: right;\">\n      <th></th>\n      <th>ID</th>\n      <th>F-number</th>\n      <th>JH-number</th>\n      <th>CORE_TEXT</th>\n      <th>heads</th>\n      <th>Head of a Woman</th>\n      <th>Head of a Man</th>\n      <th>Head of a Woman 1</th>\n      <th>Head of a Woman 2</th>\n      <th>Head of a Woman 3</th>\n      <th>...</th>\n      <th>1885</th>\n      <th>1886</th>\n      <th>1887</th>\n      <th>1890</th>\n      <th>Nuenen</th>\n      <th>Antwerp</th>\n      <th>Paris</th>\n      <th>Brussels</th>\n      <th>TOKENS</th>\n      <th>PREP_TOKENS</th>\n    </tr>\n  </thead>\n  <tbody>\n    <tr>\n      <th>0</th>\n      <td>s0004V1962r</td>\n      <td>F0388r</td>\n      <td>JH0782</td>\n      <td>Head of a Woman Vincent van Gogh (1853 - 1890)...</td>\n      <td>https://vangoghmuseum.nl/en/collection?Genre=h...</td>\n      <td>localhost</td>\n      <td>localhost</td>\n      <td>localhost</td>\n      <td>localhost</td>\n      <td>localhost</td>\n      <td>...</td>\n      <td>https://vangoghmuseum.nl/en/collection?Date=1885</td>\n      <td>localhost</td>\n      <td>localhost</td>\n      <td>localhost</td>\n      <td>https://vangoghmuseum.nl/en/collection?Place=N...</td>\n      <td>localhost</td>\n      <td>localhost</td>\n      <td>localhost</td>\n      <td>[head, of, a, woman, vincent, van, gogh, 1853,...</td>\n      <td>[head, woman, vincent, van, gogh, 1853, 1890, ...</td>\n    </tr>\n    <tr>\n      <th>1</th>\n      <td>s0006V1962</td>\n      <td>F0160</td>\n      <td>JH0722</td>\n      <td>Head of a Woman Vincent van Gogh (1853 - 1890)...</td>\n      <td>https://vangoghmuseum.nl/en/collection?Genre=h...</td>\n      <td>https://vangoghmuseum.nl/en/collection/s0072V1962</td>\n      <td>https://vangoghmuseum.nl/en/collection/s0069V1962</td>\n      <td>https://vangoghmuseum.nl/en/collection/s0139V1962</td>\n      <td>https://vangoghmuseum.nl/en/collection/s0062V1962</td>\n      <td>https://vangoghmuseum.nl/en/collection/s0084V1962</td>\n      <td>...</td>\n      <td>https://vangoghmuseum.nl/en/collection?Date=1885</td>\n      <td>localhost</td>\n      <td>localhost</td>\n      <td>localhost</td>\n      <td>https://vangoghmuseum.nl/en/collection?Place=N...</td>\n      <td>localhost</td>\n      <td>localhost</td>\n      <td>localhost</td>\n      <td>[head, of, a, woman, vincent, van, gogh, 1853,...</td>\n      <td>[head, woman, vincent, van, gogh, 1853, 1890, ...</td>\n    </tr>\n    <tr>\n      <th>2</th>\n      <td>s0010V1962</td>\n      <td>F0174</td>\n      <td>JH0978</td>\n      <td>Portrait of an Old Woman Vincent van Gogh (185...</td>\n      <td>localhost</td>\n      <td>localhost</td>\n      <td>localhost</td>\n      <td>localhost</td>\n      <td>localhost</td>\n      <td>localhost</td>\n      <td>...</td>\n      <td>https://vangoghmuseum.nl/en/collection?Date=1885</td>\n      <td>localhost</td>\n      <td>localhost</td>\n      <td>localhost</td>\n      <td>localhost</td>\n      <td>https://vangoghmuseum.nl/en/collection?Place=A...</td>\n      <td>localhost</td>\n      <td>localhost</td>\n      <td>[portrait, of, an, old, woman, vincent, van, g...</td>\n      <td>[portrait, old, woman, vincent, van, gogh, 185...</td>\n    </tr>\n    <tr>\n      <th>3</th>\n      <td>s0056V1962</td>\n      <td>F0216a</td>\n      <td>JH1054</td>\n      <td>Torso of Venus Vincent van Gogh (1853 - 1890),...</td>\n      <td>localhost</td>\n      <td>localhost</td>\n      <td>localhost</td>\n      <td>localhost</td>\n      <td>localhost</td>\n      <td>localhost</td>\n      <td>...</td>\n      <td>localhost</td>\n      <td>https://vangoghmuseum.nl/en/collection?Date=1886</td>\n      <td>localhost</td>\n      <td>localhost</td>\n      <td>localhost</td>\n      <td>localhost</td>\n      <td>https://vangoghmuseum.nl/en/collection?Place=P...</td>\n      <td>localhost</td>\n      <td>[torso, of, venus, vincent, van, gogh, 1853, 1...</td>\n      <td>[torso, venus, vincent, van, gogh, 1853, 1890,...</td>\n    </tr>\n    <tr>\n      <th>4</th>\n      <td>s0058V1962</td>\n      <td>F0161</td>\n      <td>JH0788</td>\n      <td>Woman with a Mourning Shawl Vincent van Gogh (...</td>\n      <td>https://vangoghmuseum.nl/en/collection?Genre=h...</td>\n      <td>localhost</td>\n      <td>localhost</td>\n      <td>localhost</td>\n      <td>localhost</td>\n      <td>localhost</td>\n      <td>...</td>\n      <td>https://vangoghmuseum.nl/en/collection?Date=1885</td>\n      <td>localhost</td>\n      <td>localhost</td>\n      <td>localhost</td>\n      <td>https://vangoghmuseum.nl/en/collection?Place=N...</td>\n      <td>localhost</td>\n      <td>localhost</td>\n      <td>localhost</td>\n      <td>[woman, with, a, mourning, shawl, vincent, van...</td>\n      <td>[woman, mourning, shawl, vincent, van, gogh, 1...</td>\n    </tr>\n  </tbody>\n</table>\n<p>5 rows × 53 columns</p>\n</div>"
     },
     "metadata": {},
     "execution_count": 109
    }
   ],
   "source": [
    "text_df.head()"
   ]
  },
  {
   "cell_type": "code",
   "execution_count": 110,
   "metadata": {},
   "outputs": [
    {
     "output_type": "stream",
     "name": "stdout",
     "text": [
      "Dictionary(706 unique tokens: ['1', '11', '16', '1853', '1885']...)\nc:\\Users\\Felipe\\Documents\\GitHub\\sa-artea\\VVG-Gallery-StdDataProcessor\\Data\\Std\\VVG-Gallery-Text-Data-Small.dict\n"
     ]
    }
   ],
   "source": [
    "# saving gesim words dictionary\n",
    "vvg_dict = gensim.corpora.Dictionary(text_lemmas)\n",
    "print(vvg_dict)\n",
    "work_dict = work_fn.split(\".\")\n",
    "work_dict = work_dict[0] + \".\" + dext\n",
    "dict_pfn = os.path.join(root_folder, dataf, stdf, work_dict)\n",
    "print(dict_pfn)\n",
    "vvg_dict.save(dict_pfn) \n",
    "# os.path.join(\"Data\",\"VVG-gallery-text.dict\"))\n",
    "# pprint.pprint(vvg_dict.token2id)"
   ]
  },
  {
   "cell_type": "code",
   "execution_count": 111,
   "metadata": {
    "tags": []
   },
   "outputs": [
    {
     "output_type": "stream",
     "name": "stdout",
     "text": [
      "59 59 59 59 59 59 59\n"
     ]
    }
   ],
   "source": [
    "# text representation to numeric representation\n",
    "text_bows = list()\n",
    "text_idxs = list()\n",
    "\n",
    "for lemmas in text_lemmas:\n",
    "\n",
    "    # bow loose the order/semantic\n",
    "    t_bow = vvg_dict.doc2bow(lemmas, allow_update=True)\n",
    "    text_bows.append(t_bow)\n",
    "    # idz keeps the order/semantic\n",
    "    t_idx = vvg_dict.doc2idx(lemmas)\n",
    "    text_idxs.append(t_idx)\n",
    "\n",
    "print(len(text_bows), len(text_idxs), len(text_lemmas), len(text_nsw_tokens), len(text_tokens), len(text_clean), len(text_corpus))"
   ]
  },
  {
   "cell_type": "code",
   "execution_count": 112,
   "metadata": {},
   "outputs": [
    {
     "output_type": "stream",
     "name": "stdout",
     "text": [
      "59 59 59 59 59 59 59 59\n"
     ]
    }
   ],
   "source": [
    "# train the model\n",
    "tfidf = gensim.models.TfidfModel(text_idxs, dictionary=vvg_dict, normalize=True)\n",
    "corpus_tfidf = tfidf[text_bows]\n",
    "print(len(corpus_tfidf), len(text_bows), len(text_idxs), len(text_lemmas), len(text_nsw_tokens), len(text_tokens), len(text_clean), len(text_corpus))"
   ]
  },
  {
   "cell_type": "code",
   "execution_count": 113,
   "metadata": {},
   "outputs": [
    {
     "output_type": "stream",
     "name": "stdout",
     "text": [
      "<class 'pandas.core.frame.DataFrame'>\nRangeIndex: 59 entries, 0 to 58\nData columns (total 53 columns):\n #   Column                                                                                              Non-Null Count  Dtype \n---  ------                                                                                              --------------  ----- \n 0   ID                                                                                                  59 non-null     object\n 1   F-number                                                                                            59 non-null     object\n 2   JH-number                                                                                           59 non-null     object\n 3   CORE_TEXT                                                                                           59 non-null     object\n 4   heads                                                                                               59 non-null     object\n 5   Head of a Woman                                                                                     59 non-null     object\n 6   Head of a Man                                                                                       59 non-null     object\n 7   Head of a Woman 1                                                                                   59 non-null     object\n 8   Head of a Woman 2                                                                                   59 non-null     object\n 9   Head of a Woman 3                                                                                   59 non-null     object\n 10  Head of a Woman 4                                                                                   59 non-null     object\n 11  Head of a Prostitute                                                                                59 non-null     object\n 12  Head of an Old Man                                                                                  59 non-null     object\n 13  Torso of Venus                                                                                      59 non-null     object\n 14  Torso of Venus 1                                                                                    59 non-null     object\n 15  Torso of Venus 2                                                                                    59 non-null     object\n 16  Torso of Venus 3                                                                                    59 non-null     object\n 17  this torso of Venus                                                                                 59 non-null     object\n 18  standing torso of Venus                                                                             59 non-null     object\n 19  Plaster Cast of a Womans Torso                                                                      59 non-null     object\n 20  Plaster Cast of a Womans Torso 1                                                                    59 non-null     object\n 21  Male Torso                                                                                          59 non-null     object\n 22  drawing                                                                                             59 non-null     object\n 23  painting                                                                                            59 non-null     object\n 24  portrait                                                                                            59 non-null     object\n 25  still life                                                                                          59 non-null     object\n 26  nude                                                                                                59 non-null     object\n 27  cityscape                                                                                           59 non-null     object\n 28  animal art                                                                                          59 non-null     object\n 29  Horse                                                                                               59 non-null     object\n 30  Kneeling Ecorche                                                                                    59 non-null     object\n 31  Portrait of a Prostitute                                                                            59 non-null     object\n 32  Woman Sewing                                                                                        59 non-null     object\n 33  The Potato Eaters                                                                                   59 non-null     object\n 34  Letter from Vincent van Gogh to Theo van Gogh with sketches of Head of a Woman and Head of a Woman  59 non-null     object\n 35  Van Gogh wrote                                                                                      59 non-null     object\n 36  he wrote                                                                                            59 non-null     object\n 37  drew                                                                                                59 non-null     object\n 38  complementary colours                                                                               59 non-null     object\n 39  which he painted a number of times                                                                  59 non-null     object\n 40  He would use this technique more than once in his later work                                        59 non-null     object\n 41  1881                                                                                                59 non-null     object\n 42  1884                                                                                                59 non-null     object\n 43  1885                                                                                                59 non-null     object\n 44  1886                                                                                                59 non-null     object\n 45  1887                                                                                                59 non-null     object\n 46  1890                                                                                                59 non-null     object\n 47  Nuenen                                                                                              59 non-null     object\n 48  Antwerp                                                                                             59 non-null     object\n 49  Paris                                                                                               59 non-null     object\n 50  Brussels                                                                                            59 non-null     object\n 51  TOKENS                                                                                              59 non-null     object\n 52  PREP_TOKENS                                                                                         59 non-null     object\ndtypes: object(53)\nmemory usage: 24.6+ KB\n"
     ]
    }
   ],
   "source": [
    "text_df.info()"
   ]
  },
  {
   "cell_type": "code",
   "execution_count": 114,
   "metadata": {},
   "outputs": [
    {
     "output_type": "stream",
     "name": "stderr",
     "text": [
      "C:\\Program Files\\Python38\\lib\\site-packages\\numpy\\core\\_asarray.py:83: VisibleDeprecationWarning: Creating an ndarray from ragged nested sequences (which is a list-or-tuple of lists-or-tuples-or ndarrays with different lengths or shapes) is deprecated. If you meant to do this, you must specify 'dtype=object' when creating the ndarray\n  return array(a, dtype, copy=False, order=order)\n"
     ]
    }
   ],
   "source": [
    "text_df[\"BOWS_TOKENS\"] = text_bows\n",
    "text_df[\"IDX_TOKENS\"] = text_idxs\n",
    "text_df[\"TFIDF_TOKENS\"] = corpus_tfidf"
   ]
  },
  {
   "cell_type": "code",
   "execution_count": 115,
   "metadata": {},
   "outputs": [
    {
     "output_type": "execute_result",
     "data": {
      "text/plain": [
       "            ID F-number JH-number  \\\n",
       "0  s0004V1962r   F0388r    JH0782   \n",
       "1   s0006V1962    F0160    JH0722   \n",
       "2   s0010V1962    F0174    JH0978   \n",
       "3   s0056V1962   F0216a    JH1054   \n",
       "4   s0058V1962    F0161    JH0788   \n",
       "\n",
       "                                           CORE_TEXT  \\\n",
       "0  Head of a Woman Vincent van Gogh (1853 - 1890)...   \n",
       "1  Head of a Woman Vincent van Gogh (1853 - 1890)...   \n",
       "2  Portrait of an Old Woman Vincent van Gogh (185...   \n",
       "3  Torso of Venus Vincent van Gogh (1853 - 1890),...   \n",
       "4  Woman with a Mourning Shawl Vincent van Gogh (...   \n",
       "\n",
       "                                               heads  \\\n",
       "0  https://vangoghmuseum.nl/en/collection?Genre=h...   \n",
       "1  https://vangoghmuseum.nl/en/collection?Genre=h...   \n",
       "2                                          localhost   \n",
       "3                                          localhost   \n",
       "4  https://vangoghmuseum.nl/en/collection?Genre=h...   \n",
       "\n",
       "                                     Head of a Woman  \\\n",
       "0                                          localhost   \n",
       "1  https://vangoghmuseum.nl/en/collection/s0072V1962   \n",
       "2                                          localhost   \n",
       "3                                          localhost   \n",
       "4                                          localhost   \n",
       "\n",
       "                                       Head of a Man  \\\n",
       "0                                          localhost   \n",
       "1  https://vangoghmuseum.nl/en/collection/s0069V1962   \n",
       "2                                          localhost   \n",
       "3                                          localhost   \n",
       "4                                          localhost   \n",
       "\n",
       "                                   Head of a Woman 1  \\\n",
       "0                                          localhost   \n",
       "1  https://vangoghmuseum.nl/en/collection/s0139V1962   \n",
       "2                                          localhost   \n",
       "3                                          localhost   \n",
       "4                                          localhost   \n",
       "\n",
       "                                   Head of a Woman 2  \\\n",
       "0                                          localhost   \n",
       "1  https://vangoghmuseum.nl/en/collection/s0062V1962   \n",
       "2                                          localhost   \n",
       "3                                          localhost   \n",
       "4                                          localhost   \n",
       "\n",
       "                                   Head of a Woman 3  ...       1890  \\\n",
       "0                                          localhost  ...  localhost   \n",
       "1  https://vangoghmuseum.nl/en/collection/s0084V1962  ...  localhost   \n",
       "2                                          localhost  ...  localhost   \n",
       "3                                          localhost  ...  localhost   \n",
       "4                                          localhost  ...  localhost   \n",
       "\n",
       "                                              Nuenen  \\\n",
       "0  https://vangoghmuseum.nl/en/collection?Place=N...   \n",
       "1  https://vangoghmuseum.nl/en/collection?Place=N...   \n",
       "2                                          localhost   \n",
       "3                                          localhost   \n",
       "4  https://vangoghmuseum.nl/en/collection?Place=N...   \n",
       "\n",
       "                                             Antwerp  \\\n",
       "0                                          localhost   \n",
       "1                                          localhost   \n",
       "2  https://vangoghmuseum.nl/en/collection?Place=A...   \n",
       "3                                          localhost   \n",
       "4                                          localhost   \n",
       "\n",
       "                                               Paris   Brussels  \\\n",
       "0                                          localhost  localhost   \n",
       "1                                          localhost  localhost   \n",
       "2                                          localhost  localhost   \n",
       "3  https://vangoghmuseum.nl/en/collection?Place=P...  localhost   \n",
       "4                                          localhost  localhost   \n",
       "\n",
       "                                              TOKENS  \\\n",
       "0  [head, of, a, woman, vincent, van, gogh, 1853,...   \n",
       "1  [head, of, a, woman, vincent, van, gogh, 1853,...   \n",
       "2  [portrait, of, an, old, woman, vincent, van, g...   \n",
       "3  [torso, of, venus, vincent, van, gogh, 1853, 1...   \n",
       "4  [woman, with, a, mourning, shawl, vincent, van...   \n",
       "\n",
       "                                         PREP_TOKENS  \\\n",
       "0  [head, woman, vincent, van, gogh, 1853, 1890, ...   \n",
       "1  [head, woman, vincent, van, gogh, 1853, 1890, ...   \n",
       "2  [portrait, old, woman, vincent, van, gogh, 185...   \n",
       "3  [torso, venus, vincent, van, gogh, 1853, 1890,...   \n",
       "4  [woman, mourning, shawl, vincent, van, gogh, 1...   \n",
       "\n",
       "                                         BOWS_TOKENS  \\\n",
       "0  [(0, 1), (1, 1), (2, 1), (3, 1), (4, 2), (5, 1...   \n",
       "1  [(0, 1), (2, 1), (3, 1), (4, 2), (5, 1), (6, 1...   \n",
       "2  [(0, 1), (3, 1), (4, 2), (5, 1), (6, 1), (7, 1...   \n",
       "3  [(0, 1), (3, 1), (5, 1), (6, 1), (7, 1), (11, ...   \n",
       "4  [(0, 1), (3, 1), (4, 3), (5, 1), (6, 1), (7, 1...   \n",
       "\n",
       "                                          IDX_TOKENS  \\\n",
       "0  [40, 75, 72, 71, 39, 3, 5, 53, 50, 4, 55, 28, ...   \n",
       "1  [40, 75, 72, 71, 39, 3, 5, 53, 86, 4, 55, 28, ...   \n",
       "2  [158, 157, 75, 72, 71, 39, 3, 5, 134, 34, 4, 5...   \n",
       "3  [199, 202, 72, 71, 39, 3, 5, 57, 45, 167, 55, ...   \n",
       "4  [75, 216, 221, 72, 71, 39, 3, 5, 53, 49, 50, 4...   \n",
       "\n",
       "                                        TFIDF_TOKENS  \n",
       "0  [(0, 0.0011508133237598573), (1, 0.16615478065...  \n",
       "1  [(0, 0.0005869350817641851), (2, 0.09240347109...  \n",
       "2  [(0, 0.0006803745665232497), (4, 0.09450062743...  \n",
       "3  [(0, 0.0007665841860884459), (6, 0.00154650093...  \n",
       "4  [(0, 0.0005759968318188212), (4, 0.12000462248...  \n",
       "\n",
       "[5 rows x 56 columns]"
      ],
      "text/html": "<div>\n<style scoped>\n    .dataframe tbody tr th:only-of-type {\n        vertical-align: middle;\n    }\n\n    .dataframe tbody tr th {\n        vertical-align: top;\n    }\n\n    .dataframe thead th {\n        text-align: right;\n    }\n</style>\n<table border=\"1\" class=\"dataframe\">\n  <thead>\n    <tr style=\"text-align: right;\">\n      <th></th>\n      <th>ID</th>\n      <th>F-number</th>\n      <th>JH-number</th>\n      <th>CORE_TEXT</th>\n      <th>heads</th>\n      <th>Head of a Woman</th>\n      <th>Head of a Man</th>\n      <th>Head of a Woman 1</th>\n      <th>Head of a Woman 2</th>\n      <th>Head of a Woman 3</th>\n      <th>...</th>\n      <th>1890</th>\n      <th>Nuenen</th>\n      <th>Antwerp</th>\n      <th>Paris</th>\n      <th>Brussels</th>\n      <th>TOKENS</th>\n      <th>PREP_TOKENS</th>\n      <th>BOWS_TOKENS</th>\n      <th>IDX_TOKENS</th>\n      <th>TFIDF_TOKENS</th>\n    </tr>\n  </thead>\n  <tbody>\n    <tr>\n      <th>0</th>\n      <td>s0004V1962r</td>\n      <td>F0388r</td>\n      <td>JH0782</td>\n      <td>Head of a Woman Vincent van Gogh (1853 - 1890)...</td>\n      <td>https://vangoghmuseum.nl/en/collection?Genre=h...</td>\n      <td>localhost</td>\n      <td>localhost</td>\n      <td>localhost</td>\n      <td>localhost</td>\n      <td>localhost</td>\n      <td>...</td>\n      <td>localhost</td>\n      <td>https://vangoghmuseum.nl/en/collection?Place=N...</td>\n      <td>localhost</td>\n      <td>localhost</td>\n      <td>localhost</td>\n      <td>[head, of, a, woman, vincent, van, gogh, 1853,...</td>\n      <td>[head, woman, vincent, van, gogh, 1853, 1890, ...</td>\n      <td>[(0, 1), (1, 1), (2, 1), (3, 1), (4, 2), (5, 1...</td>\n      <td>[40, 75, 72, 71, 39, 3, 5, 53, 50, 4, 55, 28, ...</td>\n      <td>[(0, 0.0011508133237598573), (1, 0.16615478065...</td>\n    </tr>\n    <tr>\n      <th>1</th>\n      <td>s0006V1962</td>\n      <td>F0160</td>\n      <td>JH0722</td>\n      <td>Head of a Woman Vincent van Gogh (1853 - 1890)...</td>\n      <td>https://vangoghmuseum.nl/en/collection?Genre=h...</td>\n      <td>https://vangoghmuseum.nl/en/collection/s0072V1962</td>\n      <td>https://vangoghmuseum.nl/en/collection/s0069V1962</td>\n      <td>https://vangoghmuseum.nl/en/collection/s0139V1962</td>\n      <td>https://vangoghmuseum.nl/en/collection/s0062V1962</td>\n      <td>https://vangoghmuseum.nl/en/collection/s0084V1962</td>\n      <td>...</td>\n      <td>localhost</td>\n      <td>https://vangoghmuseum.nl/en/collection?Place=N...</td>\n      <td>localhost</td>\n      <td>localhost</td>\n      <td>localhost</td>\n      <td>[head, of, a, woman, vincent, van, gogh, 1853,...</td>\n      <td>[head, woman, vincent, van, gogh, 1853, 1890, ...</td>\n      <td>[(0, 1), (2, 1), (3, 1), (4, 2), (5, 1), (6, 1...</td>\n      <td>[40, 75, 72, 71, 39, 3, 5, 53, 86, 4, 55, 28, ...</td>\n      <td>[(0, 0.0005869350817641851), (2, 0.09240347109...</td>\n    </tr>\n    <tr>\n      <th>2</th>\n      <td>s0010V1962</td>\n      <td>F0174</td>\n      <td>JH0978</td>\n      <td>Portrait of an Old Woman Vincent van Gogh (185...</td>\n      <td>localhost</td>\n      <td>localhost</td>\n      <td>localhost</td>\n      <td>localhost</td>\n      <td>localhost</td>\n      <td>localhost</td>\n      <td>...</td>\n      <td>localhost</td>\n      <td>localhost</td>\n      <td>https://vangoghmuseum.nl/en/collection?Place=A...</td>\n      <td>localhost</td>\n      <td>localhost</td>\n      <td>[portrait, of, an, old, woman, vincent, van, g...</td>\n      <td>[portrait, old, woman, vincent, van, gogh, 185...</td>\n      <td>[(0, 1), (3, 1), (4, 2), (5, 1), (6, 1), (7, 1...</td>\n      <td>[158, 157, 75, 72, 71, 39, 3, 5, 134, 34, 4, 5...</td>\n      <td>[(0, 0.0006803745665232497), (4, 0.09450062743...</td>\n    </tr>\n    <tr>\n      <th>3</th>\n      <td>s0056V1962</td>\n      <td>F0216a</td>\n      <td>JH1054</td>\n      <td>Torso of Venus Vincent van Gogh (1853 - 1890),...</td>\n      <td>localhost</td>\n      <td>localhost</td>\n      <td>localhost</td>\n      <td>localhost</td>\n      <td>localhost</td>\n      <td>localhost</td>\n      <td>...</td>\n      <td>localhost</td>\n      <td>localhost</td>\n      <td>localhost</td>\n      <td>https://vangoghmuseum.nl/en/collection?Place=P...</td>\n      <td>localhost</td>\n      <td>[torso, of, venus, vincent, van, gogh, 1853, 1...</td>\n      <td>[torso, venus, vincent, van, gogh, 1853, 1890,...</td>\n      <td>[(0, 1), (3, 1), (5, 1), (6, 1), (7, 1), (11, ...</td>\n      <td>[199, 202, 72, 71, 39, 3, 5, 57, 45, 167, 55, ...</td>\n      <td>[(0, 0.0007665841860884459), (6, 0.00154650093...</td>\n    </tr>\n    <tr>\n      <th>4</th>\n      <td>s0058V1962</td>\n      <td>F0161</td>\n      <td>JH0788</td>\n      <td>Woman with a Mourning Shawl Vincent van Gogh (...</td>\n      <td>https://vangoghmuseum.nl/en/collection?Genre=h...</td>\n      <td>localhost</td>\n      <td>localhost</td>\n      <td>localhost</td>\n      <td>localhost</td>\n      <td>localhost</td>\n      <td>...</td>\n      <td>localhost</td>\n      <td>https://vangoghmuseum.nl/en/collection?Place=N...</td>\n      <td>localhost</td>\n      <td>localhost</td>\n      <td>localhost</td>\n      <td>[woman, with, a, mourning, shawl, vincent, van...</td>\n      <td>[woman, mourning, shawl, vincent, van, gogh, 1...</td>\n      <td>[(0, 1), (3, 1), (4, 3), (5, 1), (6, 1), (7, 1...</td>\n      <td>[75, 216, 221, 72, 71, 39, 3, 5, 53, 49, 50, 4...</td>\n      <td>[(0, 0.0005759968318188212), (4, 0.12000462248...</td>\n    </tr>\n  </tbody>\n</table>\n<p>5 rows × 56 columns</p>\n</div>"
     },
     "metadata": {},
     "execution_count": 115
    }
   ],
   "source": [
    "# checking everything is okey\n",
    "text_df.head()"
   ]
  },
  {
   "cell_type": "code",
   "execution_count": 116,
   "metadata": {
    "tags": []
   },
   "outputs": [
    {
     "output_type": "stream",
     "name": "stdout",
     "text": [
      "59 59 59 59 59 59 59 59 59\n"
     ]
    }
   ],
   "source": [
    "# creating the dense vector standar representantion of the text\n",
    "text_dvector = list()\n",
    "\n",
    "# iterating in each text with the tfidf word bag\n",
    "for t_idtokens, tfidf_tokens in zip(text_idxs, corpus_tfidf):\n",
    "    # print(\"===============================\")\n",
    "    # print(len(tidxs), len(ttfidf))\n",
    "    # print(type(tidxs), type(ttfidf))\n",
    "    # dense vector representation\n",
    "    tdvect = list()\n",
    "\n",
    "    # creating the dense representation for each text\n",
    "    for t_token in t_idtokens:\n",
    "\n",
    "        # transforming the tfidf into dict\n",
    "        tokens_dict = dict(tfidf_tokens)\n",
    "        \n",
    "        # looking for each word\n",
    "        if t_token in tokens_dict.keys():\n",
    "            temp = tokens_dict.get(t_token)\n",
    "            # appending std word representation into array\n",
    "            tdvect.append(temp)\n",
    "\n",
    "    # copying std dense vector into corpus column\n",
    "    ans = copy.deepcopy(tdvect)\n",
    "    text_dvector.append(ans)\n",
    "\n",
    "# checking the size of all columna\n",
    "print(len(text_dvector), len(corpus_tfidf), len(text_bows), len(text_idxs), len(text_lemmas), len(text_nsw_tokens), len(text_tokens), len(text_clean), len(text_corpus))\n",
    "\n",
    "# adding the dense representation into the dataframe\n",
    "text_df[\"STD_DVEC_TOKENS\"] = text_dvector"
   ]
  },
  {
   "cell_type": "code",
   "execution_count": 117,
   "metadata": {},
   "outputs": [
    {
     "output_type": "execute_result",
     "data": {
      "text/plain": [
       "array([[1., 1., 1., ..., 1., 1., 0.],\n",
       "       [1., 0., 0., ..., 0., 0., 0.],\n",
       "       [1., 1., 0., ..., 0., 0., 0.],\n",
       "       ...,\n",
       "       [0., 0., 0., ..., 0., 0., 1.],\n",
       "       [0., 0., 0., ..., 0., 0., 2.],\n",
       "       [0., 0., 0., ..., 0., 0., 1.]], dtype=float32)"
      ]
     },
     "metadata": {},
     "execution_count": 117
    }
   ],
   "source": [
    "# complete text rpresentation\n",
    "tf_dense_corpus = matutils.corpus2dense(text_bows, num_terms = len(vvg_dict.token2id), num_docs = len(corpus_tfidf))\n",
    "# text_df[\"STD_CVEC_TOKENS\"] = tf_dense_corpus\n",
    "tf_dense_corpus[0:]"
   ]
  },
  {
   "cell_type": "code",
   "execution_count": 118,
   "metadata": {},
   "outputs": [],
   "source": [
    "tf_sparse_corpus = matutils.corpus2csc(corpus_tfidf)\n",
    "text_df[\"STD_SVEC_TOKENS\"] = tf_sparse_corpus"
   ]
  },
  {
   "cell_type": "code",
   "execution_count": 119,
   "metadata": {},
   "outputs": [
    {
     "output_type": "execute_result",
     "data": {
      "text/plain": [
       "            ID F-number JH-number  \\\n",
       "0  s0004V1962r   F0388r    JH0782   \n",
       "1   s0006V1962    F0160    JH0722   \n",
       "2   s0010V1962    F0174    JH0978   \n",
       "3   s0056V1962   F0216a    JH1054   \n",
       "4   s0058V1962    F0161    JH0788   \n",
       "\n",
       "                                           CORE_TEXT  \\\n",
       "0  Head of a Woman Vincent van Gogh (1853 - 1890)...   \n",
       "1  Head of a Woman Vincent van Gogh (1853 - 1890)...   \n",
       "2  Portrait of an Old Woman Vincent van Gogh (185...   \n",
       "3  Torso of Venus Vincent van Gogh (1853 - 1890),...   \n",
       "4  Woman with a Mourning Shawl Vincent van Gogh (...   \n",
       "\n",
       "                                               heads  \\\n",
       "0  https://vangoghmuseum.nl/en/collection?Genre=h...   \n",
       "1  https://vangoghmuseum.nl/en/collection?Genre=h...   \n",
       "2                                          localhost   \n",
       "3                                          localhost   \n",
       "4  https://vangoghmuseum.nl/en/collection?Genre=h...   \n",
       "\n",
       "                                     Head of a Woman  \\\n",
       "0                                          localhost   \n",
       "1  https://vangoghmuseum.nl/en/collection/s0072V1962   \n",
       "2                                          localhost   \n",
       "3                                          localhost   \n",
       "4                                          localhost   \n",
       "\n",
       "                                       Head of a Man  \\\n",
       "0                                          localhost   \n",
       "1  https://vangoghmuseum.nl/en/collection/s0069V1962   \n",
       "2                                          localhost   \n",
       "3                                          localhost   \n",
       "4                                          localhost   \n",
       "\n",
       "                                   Head of a Woman 1  \\\n",
       "0                                          localhost   \n",
       "1  https://vangoghmuseum.nl/en/collection/s0139V1962   \n",
       "2                                          localhost   \n",
       "3                                          localhost   \n",
       "4                                          localhost   \n",
       "\n",
       "                                   Head of a Woman 2  \\\n",
       "0                                          localhost   \n",
       "1  https://vangoghmuseum.nl/en/collection/s0062V1962   \n",
       "2                                          localhost   \n",
       "3                                          localhost   \n",
       "4                                          localhost   \n",
       "\n",
       "                                   Head of a Woman 3  ...  \\\n",
       "0                                          localhost  ...   \n",
       "1  https://vangoghmuseum.nl/en/collection/s0084V1962  ...   \n",
       "2                                          localhost  ...   \n",
       "3                                          localhost  ...   \n",
       "4                                          localhost  ...   \n",
       "\n",
       "                                             Antwerp  \\\n",
       "0                                          localhost   \n",
       "1                                          localhost   \n",
       "2  https://vangoghmuseum.nl/en/collection?Place=A...   \n",
       "3                                          localhost   \n",
       "4                                          localhost   \n",
       "\n",
       "                                               Paris   Brussels  \\\n",
       "0                                          localhost  localhost   \n",
       "1                                          localhost  localhost   \n",
       "2                                          localhost  localhost   \n",
       "3  https://vangoghmuseum.nl/en/collection?Place=P...  localhost   \n",
       "4                                          localhost  localhost   \n",
       "\n",
       "                                              TOKENS  \\\n",
       "0  [head, of, a, woman, vincent, van, gogh, 1853,...   \n",
       "1  [head, of, a, woman, vincent, van, gogh, 1853,...   \n",
       "2  [portrait, of, an, old, woman, vincent, van, g...   \n",
       "3  [torso, of, venus, vincent, van, gogh, 1853, 1...   \n",
       "4  [woman, with, a, mourning, shawl, vincent, van...   \n",
       "\n",
       "                                         PREP_TOKENS  \\\n",
       "0  [head, woman, vincent, van, gogh, 1853, 1890, ...   \n",
       "1  [head, woman, vincent, van, gogh, 1853, 1890, ...   \n",
       "2  [portrait, old, woman, vincent, van, gogh, 185...   \n",
       "3  [torso, venus, vincent, van, gogh, 1853, 1890,...   \n",
       "4  [woman, mourning, shawl, vincent, van, gogh, 1...   \n",
       "\n",
       "                                         BOWS_TOKENS  \\\n",
       "0  [(0, 1), (1, 1), (2, 1), (3, 1), (4, 2), (5, 1...   \n",
       "1  [(0, 1), (2, 1), (3, 1), (4, 2), (5, 1), (6, 1...   \n",
       "2  [(0, 1), (3, 1), (4, 2), (5, 1), (6, 1), (7, 1...   \n",
       "3  [(0, 1), (3, 1), (5, 1), (6, 1), (7, 1), (11, ...   \n",
       "4  [(0, 1), (3, 1), (4, 3), (5, 1), (6, 1), (7, 1...   \n",
       "\n",
       "                                          IDX_TOKENS  \\\n",
       "0  [40, 75, 72, 71, 39, 3, 5, 53, 50, 4, 55, 28, ...   \n",
       "1  [40, 75, 72, 71, 39, 3, 5, 53, 86, 4, 55, 28, ...   \n",
       "2  [158, 157, 75, 72, 71, 39, 3, 5, 134, 34, 4, 5...   \n",
       "3  [199, 202, 72, 71, 39, 3, 5, 57, 45, 167, 55, ...   \n",
       "4  [75, 216, 221, 72, 71, 39, 3, 5, 53, 49, 50, 4...   \n",
       "\n",
       "                                        TFIDF_TOKENS  \\\n",
       "0  [(0, 0.0011508133237598573), (1, 0.16615478065...   \n",
       "1  [(0, 0.0005869350817641851), (2, 0.09240347109...   \n",
       "2  [(0, 0.0006803745665232497), (4, 0.09450062743...   \n",
       "3  [(0, 0.0007665841860884459), (6, 0.00154650093...   \n",
       "4  [(0, 0.0005759968318188212), (4, 0.12000462248...   \n",
       "\n",
       "                                     STD_DVEC_TOKENS  \\\n",
       "0  [0.09683983357005808, 0.08376906815710529, 0.0...   \n",
       "1  [0.09878004444504114, 0.0854474028984391, 0.09...   \n",
       "2  [0.19646537718638926, 0.2694038474362948, 0.14...   \n",
       "3  [0.09702512140528875, 0.07701178559360168, 0.0...   \n",
       "4  [0.12578247974727863, 0.41217780079874106, 0.4...   \n",
       "\n",
       "                                     STD_SVEC_TOKENS  \n",
       "0    (0, 0)\\t0.0011508133237598573\\n  (1, 0)\\t0.1...  \n",
       "1    (0, 0)\\t0.0011508133237598573\\n  (1, 0)\\t0.1...  \n",
       "2    (0, 0)\\t0.0011508133237598573\\n  (1, 0)\\t0.1...  \n",
       "3    (0, 0)\\t0.0011508133237598573\\n  (1, 0)\\t0.1...  \n",
       "4    (0, 0)\\t0.0011508133237598573\\n  (1, 0)\\t0.1...  \n",
       "\n",
       "[5 rows x 58 columns]"
      ],
      "text/html": "<div>\n<style scoped>\n    .dataframe tbody tr th:only-of-type {\n        vertical-align: middle;\n    }\n\n    .dataframe tbody tr th {\n        vertical-align: top;\n    }\n\n    .dataframe thead th {\n        text-align: right;\n    }\n</style>\n<table border=\"1\" class=\"dataframe\">\n  <thead>\n    <tr style=\"text-align: right;\">\n      <th></th>\n      <th>ID</th>\n      <th>F-number</th>\n      <th>JH-number</th>\n      <th>CORE_TEXT</th>\n      <th>heads</th>\n      <th>Head of a Woman</th>\n      <th>Head of a Man</th>\n      <th>Head of a Woman 1</th>\n      <th>Head of a Woman 2</th>\n      <th>Head of a Woman 3</th>\n      <th>...</th>\n      <th>Antwerp</th>\n      <th>Paris</th>\n      <th>Brussels</th>\n      <th>TOKENS</th>\n      <th>PREP_TOKENS</th>\n      <th>BOWS_TOKENS</th>\n      <th>IDX_TOKENS</th>\n      <th>TFIDF_TOKENS</th>\n      <th>STD_DVEC_TOKENS</th>\n      <th>STD_SVEC_TOKENS</th>\n    </tr>\n  </thead>\n  <tbody>\n    <tr>\n      <th>0</th>\n      <td>s0004V1962r</td>\n      <td>F0388r</td>\n      <td>JH0782</td>\n      <td>Head of a Woman Vincent van Gogh (1853 - 1890)...</td>\n      <td>https://vangoghmuseum.nl/en/collection?Genre=h...</td>\n      <td>localhost</td>\n      <td>localhost</td>\n      <td>localhost</td>\n      <td>localhost</td>\n      <td>localhost</td>\n      <td>...</td>\n      <td>localhost</td>\n      <td>localhost</td>\n      <td>localhost</td>\n      <td>[head, of, a, woman, vincent, van, gogh, 1853,...</td>\n      <td>[head, woman, vincent, van, gogh, 1853, 1890, ...</td>\n      <td>[(0, 1), (1, 1), (2, 1), (3, 1), (4, 2), (5, 1...</td>\n      <td>[40, 75, 72, 71, 39, 3, 5, 53, 50, 4, 55, 28, ...</td>\n      <td>[(0, 0.0011508133237598573), (1, 0.16615478065...</td>\n      <td>[0.09683983357005808, 0.08376906815710529, 0.0...</td>\n      <td>(0, 0)\\t0.0011508133237598573\\n  (1, 0)\\t0.1...</td>\n    </tr>\n    <tr>\n      <th>1</th>\n      <td>s0006V1962</td>\n      <td>F0160</td>\n      <td>JH0722</td>\n      <td>Head of a Woman Vincent van Gogh (1853 - 1890)...</td>\n      <td>https://vangoghmuseum.nl/en/collection?Genre=h...</td>\n      <td>https://vangoghmuseum.nl/en/collection/s0072V1962</td>\n      <td>https://vangoghmuseum.nl/en/collection/s0069V1962</td>\n      <td>https://vangoghmuseum.nl/en/collection/s0139V1962</td>\n      <td>https://vangoghmuseum.nl/en/collection/s0062V1962</td>\n      <td>https://vangoghmuseum.nl/en/collection/s0084V1962</td>\n      <td>...</td>\n      <td>localhost</td>\n      <td>localhost</td>\n      <td>localhost</td>\n      <td>[head, of, a, woman, vincent, van, gogh, 1853,...</td>\n      <td>[head, woman, vincent, van, gogh, 1853, 1890, ...</td>\n      <td>[(0, 1), (2, 1), (3, 1), (4, 2), (5, 1), (6, 1...</td>\n      <td>[40, 75, 72, 71, 39, 3, 5, 53, 86, 4, 55, 28, ...</td>\n      <td>[(0, 0.0005869350817641851), (2, 0.09240347109...</td>\n      <td>[0.09878004444504114, 0.0854474028984391, 0.09...</td>\n      <td>(0, 0)\\t0.0011508133237598573\\n  (1, 0)\\t0.1...</td>\n    </tr>\n    <tr>\n      <th>2</th>\n      <td>s0010V1962</td>\n      <td>F0174</td>\n      <td>JH0978</td>\n      <td>Portrait of an Old Woman Vincent van Gogh (185...</td>\n      <td>localhost</td>\n      <td>localhost</td>\n      <td>localhost</td>\n      <td>localhost</td>\n      <td>localhost</td>\n      <td>localhost</td>\n      <td>...</td>\n      <td>https://vangoghmuseum.nl/en/collection?Place=A...</td>\n      <td>localhost</td>\n      <td>localhost</td>\n      <td>[portrait, of, an, old, woman, vincent, van, g...</td>\n      <td>[portrait, old, woman, vincent, van, gogh, 185...</td>\n      <td>[(0, 1), (3, 1), (4, 2), (5, 1), (6, 1), (7, 1...</td>\n      <td>[158, 157, 75, 72, 71, 39, 3, 5, 134, 34, 4, 5...</td>\n      <td>[(0, 0.0006803745665232497), (4, 0.09450062743...</td>\n      <td>[0.19646537718638926, 0.2694038474362948, 0.14...</td>\n      <td>(0, 0)\\t0.0011508133237598573\\n  (1, 0)\\t0.1...</td>\n    </tr>\n    <tr>\n      <th>3</th>\n      <td>s0056V1962</td>\n      <td>F0216a</td>\n      <td>JH1054</td>\n      <td>Torso of Venus Vincent van Gogh (1853 - 1890),...</td>\n      <td>localhost</td>\n      <td>localhost</td>\n      <td>localhost</td>\n      <td>localhost</td>\n      <td>localhost</td>\n      <td>localhost</td>\n      <td>...</td>\n      <td>localhost</td>\n      <td>https://vangoghmuseum.nl/en/collection?Place=P...</td>\n      <td>localhost</td>\n      <td>[torso, of, venus, vincent, van, gogh, 1853, 1...</td>\n      <td>[torso, venus, vincent, van, gogh, 1853, 1890,...</td>\n      <td>[(0, 1), (3, 1), (5, 1), (6, 1), (7, 1), (11, ...</td>\n      <td>[199, 202, 72, 71, 39, 3, 5, 57, 45, 167, 55, ...</td>\n      <td>[(0, 0.0007665841860884459), (6, 0.00154650093...</td>\n      <td>[0.09702512140528875, 0.07701178559360168, 0.0...</td>\n      <td>(0, 0)\\t0.0011508133237598573\\n  (1, 0)\\t0.1...</td>\n    </tr>\n    <tr>\n      <th>4</th>\n      <td>s0058V1962</td>\n      <td>F0161</td>\n      <td>JH0788</td>\n      <td>Woman with a Mourning Shawl Vincent van Gogh (...</td>\n      <td>https://vangoghmuseum.nl/en/collection?Genre=h...</td>\n      <td>localhost</td>\n      <td>localhost</td>\n      <td>localhost</td>\n      <td>localhost</td>\n      <td>localhost</td>\n      <td>...</td>\n      <td>localhost</td>\n      <td>localhost</td>\n      <td>localhost</td>\n      <td>[woman, with, a, mourning, shawl, vincent, van...</td>\n      <td>[woman, mourning, shawl, vincent, van, gogh, 1...</td>\n      <td>[(0, 1), (3, 1), (4, 3), (5, 1), (6, 1), (7, 1...</td>\n      <td>[75, 216, 221, 72, 71, 39, 3, 5, 53, 49, 50, 4...</td>\n      <td>[(0, 0.0005759968318188212), (4, 0.12000462248...</td>\n      <td>[0.12578247974727863, 0.41217780079874106, 0.4...</td>\n      <td>(0, 0)\\t0.0011508133237598573\\n  (1, 0)\\t0.1...</td>\n    </tr>\n  </tbody>\n</table>\n<p>5 rows × 58 columns</p>\n</div>"
     },
     "metadata": {},
     "execution_count": 119
    }
   ],
   "source": [
    "# checking everything is okey\n",
    "text_df.head()"
   ]
  },
  {
   "cell_type": "code",
   "execution_count": 120,
   "metadata": {},
   "outputs": [
    {
     "output_type": "stream",
     "name": "stdout",
     "text": [
      "c:\\Users\\Felipe\\Documents\\GitHub\\sa-artea\\VVG-Gallery-StdDataProcessor\\Data\\Std\\std-VVG-Gallery-Text-Data-Small.csv\n"
     ]
    }
   ],
   "source": [
    "# saving the CSV file into pandas\n",
    "# writing an existing CSV fileto update the dataframe\n",
    "target_fn = \"std-\" + work_fn\n",
    "fn_tpath = os.path.join(root_folder, dataf, stdf, target_fn)\n",
    "print(fn_tpath)\n",
    "text_df.to_csv(fn_tpath,\n",
    "                sep=\",\",\n",
    "                index=False,\n",
    "                encoding=\"utf-8\",\n",
    "                mode=\"w\",\n",
    "                )"
   ]
  },
  {
   "cell_type": "code",
   "execution_count": 121,
   "metadata": {},
   "outputs": [],
   "source": [
    "# dont remember for what i did this\n",
    "# sim_index = gensim.similarities.SparseMatrixSimilarity(corpus_tfidf, num_features=len(vvg_dict))"
   ]
  }
 ]
}