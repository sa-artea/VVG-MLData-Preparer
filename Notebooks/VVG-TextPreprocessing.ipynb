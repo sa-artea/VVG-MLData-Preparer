{
 "metadata": {
  "language_info": {
   "codemirror_mode": {
    "name": "ipython",
    "version": 3
   },
   "file_extension": ".py",
   "mimetype": "text/x-python",
   "name": "python",
   "nbconvert_exporter": "python",
   "pygments_lexer": "ipython3",
   "version": "3.8.6-final"
  },
  "orig_nbformat": 2,
  "kernelspec": {
   "name": "python386jvsc74a57bd01baa965d5efe3ac65b79dfc60c0d706280b1da80fedb7760faf2759126c4f253",
   "display_name": "Python 3.8.6 64-bit"
  },
  "metadata": {
   "interpreter": {
    "hash": "1baa965d5efe3ac65b79dfc60c0d706280b1da80fedb7760faf2759126c4f253"
   }
  }
 },
 "nbformat": 4,
 "nbformat_minor": 2,
 "cells": [
  {
   "source": [
    "Word2Vec# VINCENT VAN GOGH STANDARD DATA TEXT PROCESS\n",
    "\n",
    "This script takes the gallery's text from the local data folder and process it to an standard representation with Natural Language Processing and Word2Vec methods.\n",
    "\n",
    "The process goes as follows:\n",
    "\n",
    "1. Load the CSV into a pandas DataFrame.\n",
    "2. Transform text columns into words lists.\n",
    "3. Clear the text to find tokens (remove stop words).\n",
    "4. Save corpus complete dictionary.\n",
    "4. Lemmatize the tokens to find stem words.\n",
    "5. Execute Bag of Words to find vector representation (doc2bow).\n",
    "6. Execute the mapping of tokens in the text to find vector representation (doc2idx).\n",
    "7. Execute the Word 2 Vect standarization process with tf-idf method (TF-IDF: Term Frequency - Inverse Document Frequency).\n",
    "8. Create the dense standard vector text representation.\n",
    "9. Save the the resulting CSV from pandas DataFrame\n",
    "\n",
    "The following Links were useful to create this proof of concept:\n",
    "\n",
    "- Gensim Word2Vec Tutorial, URL: https://www.kaggle.com/pierremegret/gensim-word2vec-tutorial#Getting-Started\n",
    "- Gensim Core Concepts, URL: https://radimrehurek.com/gensim/auto_examples/core/run_core_concepts.html\n",
    "- Document similarity queries, URL: https://radimrehurek.com/gensim/similarities/docsim.html\n",
    "- Tutorial 19: Text analysis with gensim, URL: https://statsmaths.github.io/stat289-f18/solutions/tutorial19-gensim.html\n",
    "- Gensim TF-IDF model, URL: https://radimrehurek.com/gensim/models/tfidfmodel.html?highlight=tfidfmodel#module-gensim.models.tfidfmodel\n",
    "- Gensim, Construct word<->id mappings, URL: https://radimrehurek.com/gensim/corpora/dictionary.html?highlight=doc2idx#gensim.corpora.dictionary.Dictionary.doc2idx\n",
    "- tensorflow, Word2Vec, URL: https://www.tensorflow.org/tutorials/text/word2vec\n",
    "- Introduction to Word Embeddings, URL: https://pub.towardsai.net/introduction-to-word-embedding-5ba5cf97d296\n",
    "- Python for NLP: Working with the Gensim Library (Part 1), URL: https://stackabuse.com/python-for-nlp-working-with-the-gensim-library-part-1/\n",
    "- Packt main github repository, URL: https://github.com/PacktPublishing\n",
    "- Regex Complement, URL: https://stackoverflow.com/questions/3977455/how-do-i-turn-any-regex-into-an-complement-of-itself-without-complex-hand-editin\n"
   ],
   "cell_type": "markdown",
   "metadata": {}
  },
  {
   "cell_type": "code",
   "execution_count": 2,
   "metadata": {},
   "outputs": [
    {
     "output_type": "stream",
     "name": "stderr",
     "text": [
      "[nltk_data] Downloading package punkt to\n[nltk_data]     C:\\Users\\Felipe\\AppData\\Roaming\\nltk_data...\n[nltk_data]   Package punkt is already up-to-date!\n[nltk_data] Downloading package stopwords to\n[nltk_data]     C:\\Users\\Felipe\\AppData\\Roaming\\nltk_data...\n[nltk_data]   Package stopwords is already up-to-date!\n[nltk_data] Downloading package wordnet to\n[nltk_data]     C:\\Users\\Felipe\\AppData\\Roaming\\nltk_data...\n[nltk_data]   Package wordnet is already up-to-date!\n"
     ]
    },
    {
     "output_type": "execute_result",
     "data": {
      "text/plain": [
       "True"
      ]
     },
     "metadata": {},
     "execution_count": 2
    }
   ],
   "source": [
    "\"\"\"\n",
    "* Copyright 2020, Maestria de Humanidades Digitales,\n",
    "* Universidad de Los Andes\n",
    "*\n",
    "* Developed for the Msc graduation project in Digital Humanities\n",
    "*\n",
    "* This program is free software: you can redistribute it and/or modify\n",
    "* it under the terms of the GNU General Public License as published by\n",
    "* the Free Software Foundation, either version 3 of the License, or\n",
    "* (at your option) any later version.\n",
    "*\n",
    "* This program is distributed in the hope that it will be useful,\n",
    "* but WITHOUT ANY WARRANTY; without even the implied warranty of\n",
    "* MERCHANTABILITY or FITNESS FOR A PARTICULAR PURPOSE.  See the\n",
    "* GNU General Public License for more details.\n",
    "*\n",
    "* You should have received a copy of the GNU General Public License\n",
    "* along with this program.  If not, see <http://www.gnu.org/licenses/>.\n",
    "\"\"\"\n",
    "\n",
    "# ===============================\n",
    "# native python libraries\n",
    "# ===============================\n",
    "import os\n",
    "import copy\n",
    "import sys\n",
    "import csv\n",
    "import re\n",
    "import pprint\n",
    "import datetime\n",
    "\n",
    "# ===============================\n",
    "# extension python libraries\n",
    "# ===============================\n",
    "import pandas as pd\n",
    "from pandas_profiling import ProfileReport\n",
    "import numpy as np\n",
    "import gensim\n",
    "from gensim import models\n",
    "from gensim import matutils\n",
    "from gensim import similarities\n",
    "import nltk\n",
    "from nltk.stem import WordNetLemmatizer\n",
    "from nltk.corpus import stopwords\n",
    "\n",
    "# downloading nlkt data\n",
    "nltk.download('punkt')\n",
    "nltk.download('stopwords')\n",
    "nltk.download('wordnet')\n",
    "\n",
    "\n",
    "# ===============================\n",
    "# developed python libraries\n",
    "# ===============================\n"
   ]
  },
  {
   "cell_type": "code",
   "execution_count": 3,
   "metadata": {},
   "outputs": [],
   "source": [
    "# notebook varlable definitions\n",
    "# root folder\n",
    "dataf = \"Data\"\n",
    "\n",
    "# subfolder with the OCR transcrived txt data\n",
    "prepf = \"Prep\"\n",
    "\n",
    "#  subfolder with the CSV files containing the ML pandas dataframe\n",
    "stdf = \"Std\"\n",
    "\n",
    "# subfolder for reports\n",
    "reportf = \"Reports\"\n",
    "\n",
    "# dataframe file extension\n",
    "fext = \"csv\"\n",
    "\n",
    "# dictionary extension\n",
    "dext = \"dict\"\n",
    "\n",
    "# dataframe file name\n",
    "small_fn = \"VVG-Gallery-Text-Data-Small\" + \".\" + fext\n",
    "large_fn = \"VVG-Gallery-Text-Data-Large\" + \".\" + fext\n",
    "\n",
    "# report names\n",
    "str_date = datetime.date.today().strftime(\"%d-%b-%Y\")\n",
    "small_report = \"VVG-TextData-Report-Small-\" + str_date + \".\" + \"html\"\n",
    "large_report = \"VVG-TextData-Report-Large-\" + str_date + \".\" + \"html\"\n",
    "\n",
    "\n",
    "# columns i reallry need\n",
    "# 'ID', 'F-number', 'JH-number', 'creator-date', 'creator-place', 'Dimensions', 'details', 'credits', 'CORE_TEXT'\n",
    "\n",
    "# regex for _TEXT\n",
    "text_re = u\"(\\w+_TEXT)\"\n",
    "\n",
    "# regex for ID\n",
    "in_re = u\"((ID{1})|([A-Z]+-number){1,3}|^(creator){1,3}|(Dimensions)|(details)|(credits))\"\n",
    "\n",
    "# regex for others (URLs|Categories)\n",
    "# For example, if you match numeric strings as [0-9]*, to match the entire string you'd prepend ^ and append $, but to use this technique to find the complement you'd need to write ^(?!^[0-9]*$).*$ - and the usual concatenation of such a negated regex is, as far as I can tell, undoable.\n",
    "cat_re = u\"^(?!^((\\w+_TEXT)|((ID{1})|([A-Z]+-number){1,3}|^(creator-\\w+){1,3}|(Dimensions)|(details)|(credits)))*$).*$\"\n",
    "# cat_re = u\"(\\w+_TEXT)|((ID{1})|([A-Z]+-number){1,3}|^(creator){1,3}|(Dimensions)|(details)|(credits))\"\n",
    "# cat_re = u\"ID{1}(^\\w+( \\w+)*$)\"\n",
    "\n",
    "# default values\n",
    "work_fn, work_report = small_fn, small_report\n",
    "# work_fn, work_report = large_fn, large_report"
   ]
  },
  {
   "cell_type": "code",
   "execution_count": 4,
   "metadata": {},
   "outputs": [
    {
     "output_type": "stream",
     "name": "stdout",
     "text": [
      "c:\\Users\\Felipe\\Documents\\GitHub\\sa-artea\\VVG-MLData-Preparer\n"
     ]
    }
   ],
   "source": [
    "root_folder = os.getcwd()\n",
    "root_folder = os.path.split(root_folder)[0]\n",
    "root_folder = os.path.normpath(root_folder)\n",
    "print(root_folder)"
   ]
  },
  {
   "cell_type": "code",
   "execution_count": 5,
   "metadata": {},
   "outputs": [
    {
     "output_type": "stream",
     "name": "stdout",
     "text": [
      "c:\\Users\\Felipe\\Documents\\GitHub\\sa-artea\\VVG-MLData-Preparer\\Data\\Prep\\VVG-Gallery-Text-Data-Small.csv\n"
     ]
    }
   ],
   "source": [
    "# loading the CSV file into pandas\n",
    "# read an existing CSV fileto update the dataframe\n",
    "fn_path = os.path.join(root_folder, dataf, prepf, work_fn)\n",
    "print(fn_path)\n",
    "text_df = pd.read_csv(\n",
    "                fn_path,\n",
    "                sep=\",\",\n",
    "                encoding=\"utf-8\",\n",
    "                engine=\"python\",\n",
    "            )"
   ]
  },
  {
   "cell_type": "code",
   "execution_count": 6,
   "metadata": {},
   "outputs": [
    {
     "output_type": "stream",
     "name": "stdout",
     "text": [
      "<class 'pandas.core.frame.DataFrame'>\nRangeIndex: 59 entries, 0 to 58\nData columns (total 56 columns):\n #   Column                                                                                              Non-Null Count  Dtype \n---  ------                                                                                              --------------  ----- \n 0   ID                                                                                                  59 non-null     object\n 1   F-number                                                                                            59 non-null     object\n 2   JH-number                                                                                           59 non-null     object\n 3   creator-date                                                                                        59 non-null     object\n 4   creator-place                                                                                       59 non-null     object\n 5   Dimensions                                                                                          59 non-null     object\n 6   details                                                                                             59 non-null     object\n 7   credits                                                                                             59 non-null     object\n 8   CORE_TEXT                                                                                           59 non-null     object\n 9   heads                                                                                               59 non-null     object\n 10  Head of a Woman                                                                                     59 non-null     object\n 11  Head of a Man                                                                                       59 non-null     object\n 12  Head of a Woman 1                                                                                   59 non-null     object\n 13  Head of a Woman 2                                                                                   59 non-null     object\n 14  Head of a Woman 3                                                                                   59 non-null     object\n 15  Head of a Woman 4                                                                                   59 non-null     object\n 16  Head of a Prostitute                                                                                59 non-null     object\n 17  Head of an Old Man                                                                                  59 non-null     object\n 18  Torso of Venus                                                                                      59 non-null     object\n 19  Torso of Venus 1                                                                                    59 non-null     object\n 20  Torso of Venus 2                                                                                    59 non-null     object\n 21  Torso of Venus 3                                                                                    59 non-null     object\n 22  this torso of Venus                                                                                 59 non-null     object\n 23  standing torso of Venus                                                                             59 non-null     object\n 24  Plaster Cast of a Womans Torso                                                                      59 non-null     object\n 25  Plaster Cast of a Womans Torso 1                                                                    59 non-null     object\n 26  Male Torso                                                                                          59 non-null     object\n 27  drawing                                                                                             59 non-null     object\n 28  painting                                                                                            59 non-null     object\n 29  portrait                                                                                            59 non-null     object\n 30  still life                                                                                          59 non-null     object\n 31  nude                                                                                                59 non-null     object\n 32  cityscape                                                                                           59 non-null     object\n 33  animal art                                                                                          59 non-null     object\n 34  Horse                                                                                               59 non-null     object\n 35  Kneeling Ecorche                                                                                    59 non-null     object\n 36  Portrait of a Prostitute                                                                            59 non-null     object\n 37  Woman Sewing                                                                                        59 non-null     object\n 38  The Potato Eaters                                                                                   59 non-null     object\n 39  Letter from Vincent van Gogh to Theo van Gogh with sketches of Head of a Woman and Head of a Woman  59 non-null     object\n 40  Van Gogh wrote                                                                                      59 non-null     object\n 41  he wrote                                                                                            59 non-null     object\n 42  drew                                                                                                59 non-null     object\n 43  complementary colours                                                                               59 non-null     object\n 44  which he painted a number of times                                                                  59 non-null     object\n 45  He would use this technique more than once in his later work                                        59 non-null     object\n 46  1881                                                                                                59 non-null     object\n 47  1884                                                                                                59 non-null     object\n 48  1885                                                                                                59 non-null     object\n 49  1886                                                                                                59 non-null     object\n 50  1887                                                                                                59 non-null     object\n 51  1890                                                                                                59 non-null     object\n 52  Nuenen                                                                                              59 non-null     object\n 53  Antwerp                                                                                             59 non-null     object\n 54  Paris                                                                                               59 non-null     object\n 55  Brussels                                                                                            59 non-null     object\ndtypes: object(56)\nmemory usage: 25.9+ KB\n"
     ]
    }
   ],
   "source": [
    "text_df = pd.DataFrame(text_df)\n",
    "text_df.info()"
   ]
  },
  {
   "cell_type": "code",
   "execution_count": 13,
   "metadata": {},
   "outputs": [
    {
     "output_type": "execute_result",
     "data": {
      "text/plain": [
       "            ID F-number JH-number    creator-date creator-place  \\\n",
       "0  s0004V1962r   F0388r    JH0782        May 1885        Nuenen   \n",
       "1   s0006V1962    F0160    JH0722      April 1885        Nuenen   \n",
       "2   s0010V1962    F0174    JH0978   December 1885       Antwerp   \n",
       "3   s0056V1962   F0216a    JH1054       June 1886         Paris   \n",
       "4   s0058V1962    F0161    JH0788  March-May 1885        Nuenen   \n",
       "\n",
       "                                          Dimensions           details  \\\n",
       "0                                  43.5 cm x 36.2 cm     oil on canvas   \n",
       "1  43.2 cm x 30.0 cm, 2.2 cm x 59.0 cm, 46.2 cm x...     oil on canvas   \n",
       "2               50.5 cm x 39.8 cm, 68.1 cm x 57.7 cm     oil on canvas   \n",
       "3               46.0 cm x 38.0 cm, 55.1 cm x 46.5 cm  oil on cardboard   \n",
       "4                   45.5 cm x 33.0 cm, 60 cm x 48 cm     oil on canvas   \n",
       "\n",
       "                                             credits  \\\n",
       "0  Van Gogh Museum, Amsterdam (Vincent van Gogh F...   \n",
       "1  Van Gogh Museum, Amsterdam (Vincent van Gogh F...   \n",
       "2  Van Gogh Museum, Amsterdam (Vincent van Gogh F...   \n",
       "3  Van Gogh Museum, Amsterdam (Vincent van Gogh F...   \n",
       "4  Van Gogh Museum, Amsterdam (Vincent van Gogh F...   \n",
       "\n",
       "                                           CORE_TEXT       1881  ...  \\\n",
       "0  Head of a Woman  With his brother Theo van Gog...  localhost  ...   \n",
       "1  Head of a Woman This woman is Gordina de Groot...  localhost  ...   \n",
       "2  Portrait of an Old Woman The old womans grey h...  localhost  ...   \n",
       "3  Torso of Venus Van Gogh was thorough in everyt...  localhost  ...   \n",
       "4  Woman with a Mourning Shawl Here, Van Gogh was...  localhost  ...   \n",
       "\n",
       "                                                drew   he wrote  \\\n",
       "0                                          localhost  localhost   \n",
       "1                                          localhost  localhost   \n",
       "2                                          localhost  localhost   \n",
       "3                                          localhost  localhost   \n",
       "4  https://www.vangoghmuseum.nl/en/collection/d00...  localhost   \n",
       "\n",
       "                                               heads  \\\n",
       "0  https://vangoghmuseum.nl/en/collection?Genre=h...   \n",
       "1  https://vangoghmuseum.nl/en/collection?Genre=h...   \n",
       "2                                          localhost   \n",
       "3                                          localhost   \n",
       "4  https://vangoghmuseum.nl/en/collection?Genre=h...   \n",
       "\n",
       "                                                nude  \\\n",
       "0                                          localhost   \n",
       "1                                          localhost   \n",
       "2                                          localhost   \n",
       "3  https://vangoghmuseum.nl/en/collection?Genre=nude   \n",
       "4                                          localhost   \n",
       "\n",
       "                                            painting  \\\n",
       "0  https://vangoghmuseum.nl/en/collection?Type=pa...   \n",
       "1  https://vangoghmuseum.nl/en/collection?Type=pa...   \n",
       "2  https://vangoghmuseum.nl/en/collection?Type=pa...   \n",
       "3  https://vangoghmuseum.nl/en/collection?Type=pa...   \n",
       "4  https://vangoghmuseum.nl/en/collection?Type=pa...   \n",
       "\n",
       "                                            portrait standing torso of Venus  \\\n",
       "0                                          localhost               localhost   \n",
       "1                                          localhost               localhost   \n",
       "2  https://vangoghmuseum.nl/en/collection?Genre=p...               localhost   \n",
       "3                                          localhost               localhost   \n",
       "4                                          localhost               localhost   \n",
       "\n",
       "                                          still life  \\\n",
       "0                                          localhost   \n",
       "1                                          localhost   \n",
       "2                                          localhost   \n",
       "3  https://vangoghmuseum.nl/en/collection?Genre=s...   \n",
       "4                                          localhost   \n",
       "\n",
       "                                 this torso of Venus  \\\n",
       "0                                          localhost   \n",
       "1                                          localhost   \n",
       "2                                          localhost   \n",
       "3  https://www.vangoghmuseum.nl/en/collection/s01...   \n",
       "4                                          localhost   \n",
       "\n",
       "  which he painted a number of times  \n",
       "0                          localhost  \n",
       "1                          localhost  \n",
       "2                          localhost  \n",
       "3                          localhost  \n",
       "4                          localhost  \n",
       "\n",
       "[5 rows x 56 columns]"
      ],
      "text/html": "<div>\n<style scoped>\n    .dataframe tbody tr th:only-of-type {\n        vertical-align: middle;\n    }\n\n    .dataframe tbody tr th {\n        vertical-align: top;\n    }\n\n    .dataframe thead th {\n        text-align: right;\n    }\n</style>\n<table border=\"1\" class=\"dataframe\">\n  <thead>\n    <tr style=\"text-align: right;\">\n      <th></th>\n      <th>ID</th>\n      <th>F-number</th>\n      <th>JH-number</th>\n      <th>creator-date</th>\n      <th>creator-place</th>\n      <th>Dimensions</th>\n      <th>details</th>\n      <th>credits</th>\n      <th>CORE_TEXT</th>\n      <th>1881</th>\n      <th>...</th>\n      <th>drew</th>\n      <th>he wrote</th>\n      <th>heads</th>\n      <th>nude</th>\n      <th>painting</th>\n      <th>portrait</th>\n      <th>standing torso of Venus</th>\n      <th>still life</th>\n      <th>this torso of Venus</th>\n      <th>which he painted a number of times</th>\n    </tr>\n  </thead>\n  <tbody>\n    <tr>\n      <th>0</th>\n      <td>s0004V1962r</td>\n      <td>F0388r</td>\n      <td>JH0782</td>\n      <td>May 1885</td>\n      <td>Nuenen</td>\n      <td>43.5 cm x 36.2 cm</td>\n      <td>oil on canvas</td>\n      <td>Van Gogh Museum, Amsterdam (Vincent van Gogh F...</td>\n      <td>Head of a Woman  With his brother Theo van Gog...</td>\n      <td>localhost</td>\n      <td>...</td>\n      <td>localhost</td>\n      <td>localhost</td>\n      <td>https://vangoghmuseum.nl/en/collection?Genre=h...</td>\n      <td>localhost</td>\n      <td>https://vangoghmuseum.nl/en/collection?Type=pa...</td>\n      <td>localhost</td>\n      <td>localhost</td>\n      <td>localhost</td>\n      <td>localhost</td>\n      <td>localhost</td>\n    </tr>\n    <tr>\n      <th>1</th>\n      <td>s0006V1962</td>\n      <td>F0160</td>\n      <td>JH0722</td>\n      <td>April 1885</td>\n      <td>Nuenen</td>\n      <td>43.2 cm x 30.0 cm, 2.2 cm x 59.0 cm, 46.2 cm x...</td>\n      <td>oil on canvas</td>\n      <td>Van Gogh Museum, Amsterdam (Vincent van Gogh F...</td>\n      <td>Head of a Woman This woman is Gordina de Groot...</td>\n      <td>localhost</td>\n      <td>...</td>\n      <td>localhost</td>\n      <td>localhost</td>\n      <td>https://vangoghmuseum.nl/en/collection?Genre=h...</td>\n      <td>localhost</td>\n      <td>https://vangoghmuseum.nl/en/collection?Type=pa...</td>\n      <td>localhost</td>\n      <td>localhost</td>\n      <td>localhost</td>\n      <td>localhost</td>\n      <td>localhost</td>\n    </tr>\n    <tr>\n      <th>2</th>\n      <td>s0010V1962</td>\n      <td>F0174</td>\n      <td>JH0978</td>\n      <td>December 1885</td>\n      <td>Antwerp</td>\n      <td>50.5 cm x 39.8 cm, 68.1 cm x 57.7 cm</td>\n      <td>oil on canvas</td>\n      <td>Van Gogh Museum, Amsterdam (Vincent van Gogh F...</td>\n      <td>Portrait of an Old Woman The old womans grey h...</td>\n      <td>localhost</td>\n      <td>...</td>\n      <td>localhost</td>\n      <td>localhost</td>\n      <td>localhost</td>\n      <td>localhost</td>\n      <td>https://vangoghmuseum.nl/en/collection?Type=pa...</td>\n      <td>https://vangoghmuseum.nl/en/collection?Genre=p...</td>\n      <td>localhost</td>\n      <td>localhost</td>\n      <td>localhost</td>\n      <td>localhost</td>\n    </tr>\n    <tr>\n      <th>3</th>\n      <td>s0056V1962</td>\n      <td>F0216a</td>\n      <td>JH1054</td>\n      <td>June 1886</td>\n      <td>Paris</td>\n      <td>46.0 cm x 38.0 cm, 55.1 cm x 46.5 cm</td>\n      <td>oil on cardboard</td>\n      <td>Van Gogh Museum, Amsterdam (Vincent van Gogh F...</td>\n      <td>Torso of Venus Van Gogh was thorough in everyt...</td>\n      <td>localhost</td>\n      <td>...</td>\n      <td>localhost</td>\n      <td>localhost</td>\n      <td>localhost</td>\n      <td>https://vangoghmuseum.nl/en/collection?Genre=nude</td>\n      <td>https://vangoghmuseum.nl/en/collection?Type=pa...</td>\n      <td>localhost</td>\n      <td>localhost</td>\n      <td>https://vangoghmuseum.nl/en/collection?Genre=s...</td>\n      <td>https://www.vangoghmuseum.nl/en/collection/s01...</td>\n      <td>localhost</td>\n    </tr>\n    <tr>\n      <th>4</th>\n      <td>s0058V1962</td>\n      <td>F0161</td>\n      <td>JH0788</td>\n      <td>March-May 1885</td>\n      <td>Nuenen</td>\n      <td>45.5 cm x 33.0 cm, 60 cm x 48 cm</td>\n      <td>oil on canvas</td>\n      <td>Van Gogh Museum, Amsterdam (Vincent van Gogh F...</td>\n      <td>Woman with a Mourning Shawl Here, Van Gogh was...</td>\n      <td>localhost</td>\n      <td>...</td>\n      <td>https://www.vangoghmuseum.nl/en/collection/d00...</td>\n      <td>localhost</td>\n      <td>https://vangoghmuseum.nl/en/collection?Genre=h...</td>\n      <td>localhost</td>\n      <td>https://vangoghmuseum.nl/en/collection?Type=pa...</td>\n      <td>localhost</td>\n      <td>localhost</td>\n      <td>localhost</td>\n      <td>localhost</td>\n      <td>localhost</td>\n    </tr>\n  </tbody>\n</table>\n<p>5 rows × 56 columns</p>\n</div>"
     },
     "metadata": {},
     "execution_count": 13
    }
   ],
   "source": [
    "text_df.head(5)"
   ]
  },
  {
   "cell_type": "code",
   "execution_count": 8,
   "metadata": {},
   "outputs": [],
   "source": [
    "# getting the df columns\n",
    "df_cols = list(text_df.columns.values)\n",
    "\n",
    "# getting the text columns\n",
    "text_r = re.compile(text_re)\n",
    "text_cols = list(filter(text_r.match, df_cols))\n",
    "\n",
    "# getting the ID column\n",
    "in_r = re.compile(in_re)\n",
    "in_cols = list(filter(in_r.match, df_cols))\n",
    "\n",
    "# getting the URLs/Category columns\n",
    "cat_r = re.compile(cat_re)\n",
    "cat_cols = list(filter(cat_r.match, df_cols))\n",
    "cat_cols = sorted(cat_cols, reverse=False) # .sort(key=str)\n",
    "df_cols = in_cols + text_cols + cat_cols"
   ]
  },
  {
   "cell_type": "code",
   "execution_count": 9,
   "metadata": {},
   "outputs": [
    {
     "output_type": "stream",
     "name": "stdout",
     "text": [
      "df columns:\n ['ID', 'F-number', 'JH-number', 'creator-date', 'creator-place', 'Dimensions', 'details', 'credits', 'CORE_TEXT', '1881', '1884', '1885', '1886', '1887', '1890', 'Antwerp', 'Brussels', 'He would use this technique more than once in his later work', 'Head of a Man', 'Head of a Prostitute', 'Head of a Woman', 'Head of a Woman 1', 'Head of a Woman 2', 'Head of a Woman 3', 'Head of a Woman 4', 'Head of an Old Man', 'Horse', 'Kneeling Ecorche', 'Letter from Vincent van Gogh to Theo van Gogh with sketches of Head of a Woman and Head of a Woman', 'Male Torso', 'Nuenen', 'Paris', 'Plaster Cast of a Womans Torso', 'Plaster Cast of a Womans Torso 1', 'Portrait of a Prostitute', 'The Potato Eaters', 'Torso of Venus', 'Torso of Venus 1', 'Torso of Venus 2', 'Torso of Venus 3', 'Van Gogh wrote', 'Woman Sewing', 'animal art', 'cityscape', 'complementary colours', 'drawing', 'drew', 'he wrote', 'heads', 'nude', 'painting', 'portrait', 'standing torso of Venus', 'still life', 'this torso of Venus', 'which he painted a number of times']\ntext column:\n ['CORE_TEXT']\nin columns:\n ['ID', 'F-number', 'JH-number', 'creator-date', 'creator-place', 'Dimensions', 'details', 'credits']\ncategory columns:\n ['1881', '1884', '1885', '1886', '1887', '1890', 'Antwerp', 'Brussels', 'He would use this technique more than once in his later work', 'Head of a Man', 'Head of a Prostitute', 'Head of a Woman', 'Head of a Woman 1', 'Head of a Woman 2', 'Head of a Woman 3', 'Head of a Woman 4', 'Head of an Old Man', 'Horse', 'Kneeling Ecorche', 'Letter from Vincent van Gogh to Theo van Gogh with sketches of Head of a Woman and Head of a Woman', 'Male Torso', 'Nuenen', 'Paris', 'Plaster Cast of a Womans Torso', 'Plaster Cast of a Womans Torso 1', 'Portrait of a Prostitute', 'The Potato Eaters', 'Torso of Venus', 'Torso of Venus 1', 'Torso of Venus 2', 'Torso of Venus 3', 'Van Gogh wrote', 'Woman Sewing', 'animal art', 'cityscape', 'complementary colours', 'drawing', 'drew', 'he wrote', 'heads', 'nude', 'painting', 'portrait', 'standing torso of Venus', 'still life', 'this torso of Venus', 'which he painted a number of times']\nordered df columns:\n ['ID', 'F-number', 'JH-number', 'creator-date', 'creator-place', 'Dimensions', 'details', 'credits', 'CORE_TEXT', '1881', '1884', '1885', '1886', '1887', '1890', 'Antwerp', 'Brussels', 'He would use this technique more than once in his later work', 'Head of a Man', 'Head of a Prostitute', 'Head of a Woman', 'Head of a Woman 1', 'Head of a Woman 2', 'Head of a Woman 3', 'Head of a Woman 4', 'Head of an Old Man', 'Horse', 'Kneeling Ecorche', 'Letter from Vincent van Gogh to Theo van Gogh with sketches of Head of a Woman and Head of a Woman', 'Male Torso', 'Nuenen', 'Paris', 'Plaster Cast of a Womans Torso', 'Plaster Cast of a Womans Torso 1', 'Portrait of a Prostitute', 'The Potato Eaters', 'Torso of Venus', 'Torso of Venus 1', 'Torso of Venus 2', 'Torso of Venus 3', 'Van Gogh wrote', 'Woman Sewing', 'animal art', 'cityscape', 'complementary colours', 'drawing', 'drew', 'he wrote', 'heads', 'nude', 'painting', 'portrait', 'standing torso of Venus', 'still life', 'this torso of Venus', 'which he painted a number of times']\n"
     ]
    }
   ],
   "source": [
    "print(\"df columns:\\n\", df_cols)\n",
    "print(\"text column:\\n\", text_cols)\n",
    "print(\"in columns:\\n\", in_cols)\n",
    "print(\"category columns:\\n\", cat_cols)\n",
    "print(\"ordered df columns:\\n\", df_cols)"
   ]
  },
  {
   "cell_type": "code",
   "execution_count": 10,
   "metadata": {},
   "outputs": [
    {
     "output_type": "stream",
     "name": "stdout",
     "text": [
      "<class 'pandas.core.frame.DataFrame'>\nRangeIndex: 59 entries, 0 to 58\nData columns (total 56 columns):\n #   Column                                                                                              Non-Null Count  Dtype \n---  ------                                                                                              --------------  ----- \n 0   ID                                                                                                  59 non-null     object\n 1   F-number                                                                                            59 non-null     object\n 2   JH-number                                                                                           59 non-null     object\n 3   creator-date                                                                                        59 non-null     object\n 4   creator-place                                                                                       59 non-null     object\n 5   Dimensions                                                                                          59 non-null     object\n 6   details                                                                                             59 non-null     object\n 7   credits                                                                                             59 non-null     object\n 8   CORE_TEXT                                                                                           59 non-null     object\n 9   1881                                                                                                59 non-null     object\n 10  1884                                                                                                59 non-null     object\n 11  1885                                                                                                59 non-null     object\n 12  1886                                                                                                59 non-null     object\n 13  1887                                                                                                59 non-null     object\n 14  1890                                                                                                59 non-null     object\n 15  Antwerp                                                                                             59 non-null     object\n 16  Brussels                                                                                            59 non-null     object\n 17  He would use this technique more than once in his later work                                        59 non-null     object\n 18  Head of a Man                                                                                       59 non-null     object\n 19  Head of a Prostitute                                                                                59 non-null     object\n 20  Head of a Woman                                                                                     59 non-null     object\n 21  Head of a Woman 1                                                                                   59 non-null     object\n 22  Head of a Woman 2                                                                                   59 non-null     object\n 23  Head of a Woman 3                                                                                   59 non-null     object\n 24  Head of a Woman 4                                                                                   59 non-null     object\n 25  Head of an Old Man                                                                                  59 non-null     object\n 26  Horse                                                                                               59 non-null     object\n 27  Kneeling Ecorche                                                                                    59 non-null     object\n 28  Letter from Vincent van Gogh to Theo van Gogh with sketches of Head of a Woman and Head of a Woman  59 non-null     object\n 29  Male Torso                                                                                          59 non-null     object\n 30  Nuenen                                                                                              59 non-null     object\n 31  Paris                                                                                               59 non-null     object\n 32  Plaster Cast of a Womans Torso                                                                      59 non-null     object\n 33  Plaster Cast of a Womans Torso 1                                                                    59 non-null     object\n 34  Portrait of a Prostitute                                                                            59 non-null     object\n 35  The Potato Eaters                                                                                   59 non-null     object\n 36  Torso of Venus                                                                                      59 non-null     object\n 37  Torso of Venus 1                                                                                    59 non-null     object\n 38  Torso of Venus 2                                                                                    59 non-null     object\n 39  Torso of Venus 3                                                                                    59 non-null     object\n 40  Van Gogh wrote                                                                                      59 non-null     object\n 41  Woman Sewing                                                                                        59 non-null     object\n 42  animal art                                                                                          59 non-null     object\n 43  cityscape                                                                                           59 non-null     object\n 44  complementary colours                                                                               59 non-null     object\n 45  drawing                                                                                             59 non-null     object\n 46  drew                                                                                                59 non-null     object\n 47  he wrote                                                                                            59 non-null     object\n 48  heads                                                                                               59 non-null     object\n 49  nude                                                                                                59 non-null     object\n 50  painting                                                                                            59 non-null     object\n 51  portrait                                                                                            59 non-null     object\n 52  standing torso of Venus                                                                             59 non-null     object\n 53  still life                                                                                          59 non-null     object\n 54  this torso of Venus                                                                                 59 non-null     object\n 55  which he painted a number of times                                                                  59 non-null     object\ndtypes: object(56)\nmemory usage: 25.9+ KB\n"
     ]
    }
   ],
   "source": [
    "text_df = text_df.reindex(columns=df_cols)\n",
    "text_df.info()"
   ]
  },
  {
   "cell_type": "code",
   "execution_count": 14,
   "metadata": {},
   "outputs": [],
   "source": [
    "# pandas profile\n",
    "profile = ProfileReport(text_df, title=\"Pandas Profiling Report\", explorative=True, dark_mode=True)"
   ]
  },
  {
   "cell_type": "code",
   "execution_count": 18,
   "metadata": {},
   "outputs": [
    {
     "output_type": "stream",
     "name": "stderr",
     "text": [
      "Export report to file:   0%|          | 0/1 [00:00<?, ?it/s]\n"
     ]
    },
    {
     "output_type": "error",
     "ename": "FileNotFoundError",
     "evalue": "[Errno 2] No such file or directory: 'c:\\\\Users\\\\Felipe\\\\Documents\\\\GitHub\\\\sa-artea\\\\VVG-MLData-Preparer\\\\Reports\\\\VVG-TextData-Report-Small-13-Apr-2021.html'",
     "traceback": [
      "\u001b[1;31m---------------------------------------------------------------------------\u001b[0m",
      "\u001b[1;31mFileNotFoundError\u001b[0m                         Traceback (most recent call last)",
      "\u001b[1;32m<ipython-input-18-c07879819df5>\u001b[0m in \u001b[0;36m<module>\u001b[1;34m\u001b[0m\n\u001b[0;32m      1\u001b[0m \u001b[0mrfp\u001b[0m \u001b[1;33m=\u001b[0m \u001b[0mos\u001b[0m\u001b[1;33m.\u001b[0m\u001b[0mpath\u001b[0m\u001b[1;33m.\u001b[0m\u001b[0mjoin\u001b[0m\u001b[1;33m(\u001b[0m\u001b[0mroot_folder\u001b[0m\u001b[1;33m,\u001b[0m \u001b[0mreportf\u001b[0m\u001b[1;33m,\u001b[0m \u001b[0msmall_report\u001b[0m\u001b[1;33m)\u001b[0m\u001b[1;33m\u001b[0m\u001b[1;33m\u001b[0m\u001b[0m\n\u001b[0;32m      2\u001b[0m \u001b[1;31m# print(rfp)\u001b[0m\u001b[1;33m\u001b[0m\u001b[1;33m\u001b[0m\u001b[1;33m\u001b[0m\u001b[0m\n\u001b[1;32m----> 3\u001b[1;33m \u001b[0mprofile\u001b[0m\u001b[1;33m.\u001b[0m\u001b[0mto_file\u001b[0m\u001b[1;33m(\u001b[0m\u001b[0mrfp\u001b[0m\u001b[1;33m)\u001b[0m\u001b[1;33m\u001b[0m\u001b[1;33m\u001b[0m\u001b[0m\n\u001b[0m",
      "\u001b[1;32mC:\\Program Files\\Python38\\lib\\site-packages\\pandas_profiling\\profile_report.py\u001b[0m in \u001b[0;36mto_file\u001b[1;34m(self, output_file, silent)\u001b[0m\n\u001b[0;32m    290\u001b[0m             \u001b[0mtotal\u001b[0m\u001b[1;33m=\u001b[0m\u001b[1;36m1\u001b[0m\u001b[1;33m,\u001b[0m \u001b[0mdesc\u001b[0m\u001b[1;33m=\u001b[0m\u001b[1;34m\"Export report to file\"\u001b[0m\u001b[1;33m,\u001b[0m \u001b[0mdisable\u001b[0m\u001b[1;33m=\u001b[0m\u001b[0mdisable_progress_bar\u001b[0m\u001b[1;33m\u001b[0m\u001b[1;33m\u001b[0m\u001b[0m\n\u001b[0;32m    291\u001b[0m         ) as pbar:\n\u001b[1;32m--> 292\u001b[1;33m             \u001b[0moutput_file\u001b[0m\u001b[1;33m.\u001b[0m\u001b[0mwrite_text\u001b[0m\u001b[1;33m(\u001b[0m\u001b[0mdata\u001b[0m\u001b[1;33m,\u001b[0m \u001b[0mencoding\u001b[0m\u001b[1;33m=\u001b[0m\u001b[1;34m\"utf-8\"\u001b[0m\u001b[1;33m)\u001b[0m\u001b[1;33m\u001b[0m\u001b[1;33m\u001b[0m\u001b[0m\n\u001b[0m\u001b[0;32m    293\u001b[0m             \u001b[0mpbar\u001b[0m\u001b[1;33m.\u001b[0m\u001b[0mupdate\u001b[0m\u001b[1;33m(\u001b[0m\u001b[1;33m)\u001b[0m\u001b[1;33m\u001b[0m\u001b[1;33m\u001b[0m\u001b[0m\n\u001b[0;32m    294\u001b[0m \u001b[1;33m\u001b[0m\u001b[0m\n",
      "\u001b[1;32mC:\\Program Files\\Python38\\lib\\pathlib.py\u001b[0m in \u001b[0;36mwrite_text\u001b[1;34m(self, data, encoding, errors)\u001b[0m\n\u001b[0;32m   1252\u001b[0m             raise TypeError('data must be str, not %s' %\n\u001b[0;32m   1253\u001b[0m                             data.__class__.__name__)\n\u001b[1;32m-> 1254\u001b[1;33m         \u001b[1;32mwith\u001b[0m \u001b[0mself\u001b[0m\u001b[1;33m.\u001b[0m\u001b[0mopen\u001b[0m\u001b[1;33m(\u001b[0m\u001b[0mmode\u001b[0m\u001b[1;33m=\u001b[0m\u001b[1;34m'w'\u001b[0m\u001b[1;33m,\u001b[0m \u001b[0mencoding\u001b[0m\u001b[1;33m=\u001b[0m\u001b[0mencoding\u001b[0m\u001b[1;33m,\u001b[0m \u001b[0merrors\u001b[0m\u001b[1;33m=\u001b[0m\u001b[0merrors\u001b[0m\u001b[1;33m)\u001b[0m \u001b[1;32mas\u001b[0m \u001b[0mf\u001b[0m\u001b[1;33m:\u001b[0m\u001b[1;33m\u001b[0m\u001b[1;33m\u001b[0m\u001b[0m\n\u001b[0m\u001b[0;32m   1255\u001b[0m             \u001b[1;32mreturn\u001b[0m \u001b[0mf\u001b[0m\u001b[1;33m.\u001b[0m\u001b[0mwrite\u001b[0m\u001b[1;33m(\u001b[0m\u001b[0mdata\u001b[0m\u001b[1;33m)\u001b[0m\u001b[1;33m\u001b[0m\u001b[1;33m\u001b[0m\u001b[0m\n\u001b[0;32m   1256\u001b[0m \u001b[1;33m\u001b[0m\u001b[0m\n",
      "\u001b[1;32mC:\\Program Files\\Python38\\lib\\pathlib.py\u001b[0m in \u001b[0;36mopen\u001b[1;34m(self, mode, buffering, encoding, errors, newline)\u001b[0m\n\u001b[0;32m   1219\u001b[0m         \u001b[1;32mif\u001b[0m \u001b[0mself\u001b[0m\u001b[1;33m.\u001b[0m\u001b[0m_closed\u001b[0m\u001b[1;33m:\u001b[0m\u001b[1;33m\u001b[0m\u001b[1;33m\u001b[0m\u001b[0m\n\u001b[0;32m   1220\u001b[0m             \u001b[0mself\u001b[0m\u001b[1;33m.\u001b[0m\u001b[0m_raise_closed\u001b[0m\u001b[1;33m(\u001b[0m\u001b[1;33m)\u001b[0m\u001b[1;33m\u001b[0m\u001b[1;33m\u001b[0m\u001b[0m\n\u001b[1;32m-> 1221\u001b[1;33m         return io.open(self, mode, buffering, encoding, errors, newline,\n\u001b[0m\u001b[0;32m   1222\u001b[0m                        opener=self._opener)\n\u001b[0;32m   1223\u001b[0m \u001b[1;33m\u001b[0m\u001b[0m\n",
      "\u001b[1;32mC:\\Program Files\\Python38\\lib\\pathlib.py\u001b[0m in \u001b[0;36m_opener\u001b[1;34m(self, name, flags, mode)\u001b[0m\n\u001b[0;32m   1075\u001b[0m     \u001b[1;32mdef\u001b[0m \u001b[0m_opener\u001b[0m\u001b[1;33m(\u001b[0m\u001b[0mself\u001b[0m\u001b[1;33m,\u001b[0m \u001b[0mname\u001b[0m\u001b[1;33m,\u001b[0m \u001b[0mflags\u001b[0m\u001b[1;33m,\u001b[0m \u001b[0mmode\u001b[0m\u001b[1;33m=\u001b[0m\u001b[1;36m0o666\u001b[0m\u001b[1;33m)\u001b[0m\u001b[1;33m:\u001b[0m\u001b[1;33m\u001b[0m\u001b[1;33m\u001b[0m\u001b[0m\n\u001b[0;32m   1076\u001b[0m         \u001b[1;31m# A stub for the opener argument to built-in open()\u001b[0m\u001b[1;33m\u001b[0m\u001b[1;33m\u001b[0m\u001b[1;33m\u001b[0m\u001b[0m\n\u001b[1;32m-> 1077\u001b[1;33m         \u001b[1;32mreturn\u001b[0m \u001b[0mself\u001b[0m\u001b[1;33m.\u001b[0m\u001b[0m_accessor\u001b[0m\u001b[1;33m.\u001b[0m\u001b[0mopen\u001b[0m\u001b[1;33m(\u001b[0m\u001b[0mself\u001b[0m\u001b[1;33m,\u001b[0m \u001b[0mflags\u001b[0m\u001b[1;33m,\u001b[0m \u001b[0mmode\u001b[0m\u001b[1;33m)\u001b[0m\u001b[1;33m\u001b[0m\u001b[1;33m\u001b[0m\u001b[0m\n\u001b[0m\u001b[0;32m   1078\u001b[0m \u001b[1;33m\u001b[0m\u001b[0m\n\u001b[0;32m   1079\u001b[0m     \u001b[1;32mdef\u001b[0m \u001b[0m_raw_open\u001b[0m\u001b[1;33m(\u001b[0m\u001b[0mself\u001b[0m\u001b[1;33m,\u001b[0m \u001b[0mflags\u001b[0m\u001b[1;33m,\u001b[0m \u001b[0mmode\u001b[0m\u001b[1;33m=\u001b[0m\u001b[1;36m0o777\u001b[0m\u001b[1;33m)\u001b[0m\u001b[1;33m:\u001b[0m\u001b[1;33m\u001b[0m\u001b[1;33m\u001b[0m\u001b[0m\n",
      "\u001b[1;31mFileNotFoundError\u001b[0m: [Errno 2] No such file or directory: 'c:\\\\Users\\\\Felipe\\\\Documents\\\\GitHub\\\\sa-artea\\\\VVG-MLData-Preparer\\\\Reports\\\\VVG-TextData-Report-Small-13-Apr-2021.html'"
     ]
    }
   ],
   "source": [
    "rfp = os.path.join(root_folder, reportf, small_report)\n",
    "# print(rfp)\n",
    "profile.to_file(rfp)"
   ]
  },
  {
   "cell_type": "code",
   "execution_count": 15,
   "metadata": {},
   "outputs": [
    {
     "output_type": "error",
     "ename": "AttributeError",
     "evalue": "'DataFrame' object has no attribute 'phik_matrix'",
     "traceback": [
      "\u001b[1;31m---------------------------------------------------------------------------\u001b[0m",
      "\u001b[1;31mAttributeError\u001b[0m                            Traceback (most recent call last)",
      "\u001b[1;32m<ipython-input-15-9bfaacf87c6f>\u001b[0m in \u001b[0;36m<module>\u001b[1;34m\u001b[0m\n\u001b[0;32m      1\u001b[0m \u001b[1;31m# calculating correlation phik\u001b[0m\u001b[1;33m\u001b[0m\u001b[1;33m\u001b[0m\u001b[1;33m\u001b[0m\u001b[0m\n\u001b[1;32m----> 2\u001b[1;33m \u001b[0mphik_overview\u001b[0m \u001b[1;33m=\u001b[0m \u001b[0mtext_df\u001b[0m\u001b[1;33m.\u001b[0m\u001b[0mphik_matrix\u001b[0m\u001b[1;33m(\u001b[0m\u001b[1;33m)\u001b[0m\u001b[1;31m#(interval_cols=interval_cols)\u001b[0m\u001b[1;33m\u001b[0m\u001b[1;33m\u001b[0m\u001b[0m\n\u001b[0m\u001b[0;32m      3\u001b[0m \u001b[0mphik_overview\u001b[0m\u001b[1;33m\u001b[0m\u001b[1;33m\u001b[0m\u001b[0m\n\u001b[0;32m      4\u001b[0m \u001b[1;31m# yo necesito escojer... las que mas influyen en mis variables objetivo (p >= 0.95) y que sean independientes entre si (p ~= 0.0)\u001b[0m\u001b[1;33m\u001b[0m\u001b[1;33m\u001b[0m\u001b[1;33m\u001b[0m\u001b[0m\n",
      "\u001b[1;32mC:\\Program Files\\Python38\\lib\\site-packages\\pandas\\core\\generic.py\u001b[0m in \u001b[0;36m__getattr__\u001b[1;34m(self, name)\u001b[0m\n\u001b[0;32m   5463\u001b[0m             \u001b[1;32mif\u001b[0m \u001b[0mself\u001b[0m\u001b[1;33m.\u001b[0m\u001b[0m_info_axis\u001b[0m\u001b[1;33m.\u001b[0m\u001b[0m_can_hold_identifiers_and_holds_name\u001b[0m\u001b[1;33m(\u001b[0m\u001b[0mname\u001b[0m\u001b[1;33m)\u001b[0m\u001b[1;33m:\u001b[0m\u001b[1;33m\u001b[0m\u001b[1;33m\u001b[0m\u001b[0m\n\u001b[0;32m   5464\u001b[0m                 \u001b[1;32mreturn\u001b[0m \u001b[0mself\u001b[0m\u001b[1;33m[\u001b[0m\u001b[0mname\u001b[0m\u001b[1;33m]\u001b[0m\u001b[1;33m\u001b[0m\u001b[1;33m\u001b[0m\u001b[0m\n\u001b[1;32m-> 5465\u001b[1;33m             \u001b[1;32mreturn\u001b[0m \u001b[0mobject\u001b[0m\u001b[1;33m.\u001b[0m\u001b[0m__getattribute__\u001b[0m\u001b[1;33m(\u001b[0m\u001b[0mself\u001b[0m\u001b[1;33m,\u001b[0m \u001b[0mname\u001b[0m\u001b[1;33m)\u001b[0m\u001b[1;33m\u001b[0m\u001b[1;33m\u001b[0m\u001b[0m\n\u001b[0m\u001b[0;32m   5466\u001b[0m \u001b[1;33m\u001b[0m\u001b[0m\n\u001b[0;32m   5467\u001b[0m     \u001b[1;32mdef\u001b[0m \u001b[0m__setattr__\u001b[0m\u001b[1;33m(\u001b[0m\u001b[0mself\u001b[0m\u001b[1;33m,\u001b[0m \u001b[0mname\u001b[0m\u001b[1;33m:\u001b[0m \u001b[0mstr\u001b[0m\u001b[1;33m,\u001b[0m \u001b[0mvalue\u001b[0m\u001b[1;33m)\u001b[0m \u001b[1;33m->\u001b[0m \u001b[1;32mNone\u001b[0m\u001b[1;33m:\u001b[0m\u001b[1;33m\u001b[0m\u001b[1;33m\u001b[0m\u001b[0m\n",
      "\u001b[1;31mAttributeError\u001b[0m: 'DataFrame' object has no attribute 'phik_matrix'"
     ]
    }
   ],
   "source": [
    "# calculating correlation phik\n",
    "phik_overview = text_df.phik_matrix()#(interval_cols=interval_cols)\n",
    "phik_overview\n",
    "# yo necesito escojer... las que mas influyen en mis variables objetivo (p >= 0.95) y que sean independientes entre si (p ~= 0.0)"
   ]
  },
  {
   "cell_type": "code",
   "execution_count": null,
   "metadata": {},
   "outputs": [],
   "source": [
    "# Create correlation matrix\n",
    "# corr_matrix = df.corr().abs()\n",
    "upper = phik_overview.abs()\n",
    "valuable_cols = in_cols + text_cols\n",
    "# Select upper triangle of correlation matrix\n",
    "upper = upper.where(np.triu(np.ones(upper.shape), k=1).astype(np.bool))\n",
    "upper"
   ]
  },
  {
   "cell_type": "code",
   "execution_count": null,
   "metadata": {},
   "outputs": [],
   "source": [
    "\n",
    "# Find index of feature columns with correlation greater than 0.95\n",
    "to_drop = list()\n",
    "\n",
    "for column in upper.columns:\n",
    "    row = upper[column]\n",
    "    row = np.array(row)\n",
    "    row = row[~np.isnan(row)]\n",
    "\n",
    "    if len(row) > 0:\n",
    "        cor_count = 0\n",
    "        ncor_count = 0\n",
    "        for data in row:\n",
    "\n",
    "            if data >= 0.95:\n",
    "                cor_count = cor_count + 1\n",
    "            else:\n",
    "                ncor_count = ncor_count + 1\n",
    "            \n",
    "            ans = cor_count -ncor_count\n",
    "        if ans > 0 and (column not in to_drop):\n",
    "            to_drop.append(column)\n",
    "        # if avg > 0.50 and (column not in to_drop) and (column not in valuable_cols):\n",
    "        #     to_drop.append(column)\n",
    "        # # print(column, col)\n",
    "\n",
    "# to_drop = [column for column in upper.columns if (np.average(upper[column]) > 0.2)]\n",
    "# print(len(to_drop))\n",
    "print(to_drop)\n",
    "# upper"
   ]
  },
  {
   "cell_type": "code",
   "execution_count": null,
   "metadata": {
    "tags": []
   },
   "outputs": [],
   "source": [
    "# dropping correlected ones\n",
    "threshold = 0.95\n",
    "# list of columns\n",
    "phik_cols = list(phik_overview.columns.values)\n",
    "print(phik_cols)\n",
    "\n",
    "for col in phik_cols:\n",
    "    # get the phik values\n",
    "    tdata = phik_overview[col].values\n",
    "    # transform to list to operate.\n",
    "    tdata = list(tdata)\n",
    "    # remove the phik own value\n",
    "    index = phik_cols.index(col)\n",
    "    tdata.pop(index)\n",
    "    # trandform to np.series to operate fast\n",
    "    tdata = np.asarray(tdata)\n",
    "    avg_phik = np.average(tdata)\n",
    "    print(col, \": \", avg_phik)\n",
    "\n",
    "# columns = np.full((phik_overview.shape[0],), True, dtype=bool)\n",
    "# print(columns)\n",
    "# for i in range(phik_overview.shape[0]):\n",
    "#     for j in range(i+1, phik_overview.shape[0]):\n",
    "#         if phik_overview.iloc[i,j] >= threshold:\n",
    "#             if columns[j]:\n",
    "#                 columns[j] = False\n",
    "# selected_columns = text_df.columns[columns]\n",
    "# selected_columns\n",
    "# digest_df = text_df[selected_columns]"
   ]
  },
  {
   "cell_type": "code",
   "execution_count": null,
   "metadata": {},
   "outputs": [],
   "source": [
    "# digest_df.info()"
   ]
  },
  {
   "cell_type": "code",
   "execution_count": null,
   "metadata": {},
   "outputs": [],
   "source": [
    "# profile.to_widgets()\n",
    "rf_path = os.path.join(root_folder, dataf, reportf, work_report)\n",
    "profile.to_file(rf_path)"
   ]
  },
  {
   "cell_type": "code",
   "execution_count": null,
   "metadata": {},
   "outputs": [],
   "source": [
    "duplicates = profile.get_duplicates()\n",
    "rej_cols = list(profile.get_rejected_variables())\n",
    "print(duplicates)\n",
    "print(rej_cols)"
   ]
  },
  {
   "cell_type": "code",
   "execution_count": null,
   "metadata": {},
   "outputs": [],
   "source": [
    "target_df = pd.DataFrame(text_df)"
   ]
  },
  {
   "cell_type": "code",
   "execution_count": null,
   "metadata": {},
   "outputs": [],
   "source": [
    "# getting the original working text\n",
    "text_corpus = list(text_df[text_cols[0]])\n",
    "print(len(text_corpus))"
   ]
  },
  {
   "cell_type": "code",
   "execution_count": null,
   "metadata": {},
   "outputs": [],
   "source": [
    "# to working text\n",
    "text_clean = list()\n",
    "for text in text_corpus:\n",
    "    text = text.lower()\n",
    "    text_clean.append(text)\n",
    "\n",
    "print(len(text_clean), len(text_corpus))"
   ]
  },
  {
   "cell_type": "code",
   "execution_count": null,
   "metadata": {
    "tags": []
   },
   "outputs": [],
   "source": [
    "# cleaning and preprocessing text for word2vec\n",
    "i = 0\n",
    "for i in range(0, len(text_clean)):\n",
    "    text = text_clean[i]\n",
    "    # removing special characters\n",
    "    text = re.sub(r\"\\W\", \" \", text)\n",
    "    # finding missing points between numbers\n",
    "    text = re.sub(r\"(\\d{1,3}) (\\d{1,2})\", r\"\\1.\\2\", text)\n",
    "    # removing excessive spaces\n",
    "    text = re.sub(r\"\\s+\", \" \", text)\n",
    "    text_clean[i] = text\n",
    "    i = i + 1\n",
    "\n",
    "print(len(text_clean), len(text_corpus))"
   ]
  },
  {
   "cell_type": "code",
   "execution_count": null,
   "metadata": {},
   "outputs": [],
   "source": [
    "# tokenising text\n",
    "text_tokens = list()\n",
    "\n",
    "for text in text_clean:\n",
    "    text = text.split()\n",
    "    text_tokens.append(text)\n",
    "    # print(text)\n",
    "\n",
    "print(len(text_tokens), len(text_clean), len(text_corpus))"
   ]
  },
  {
   "cell_type": "code",
   "execution_count": null,
   "metadata": {},
   "outputs": [],
   "source": [
    "# removing stopwords\n",
    "text_nsw_tokens = list()\n",
    "\n",
    "for tokens in text_tokens:\n",
    "\n",
    "    clear_tokens = list()\n",
    "\n",
    "    for token in tokens:\n",
    "        if not token in stopwords.words('english'):\n",
    "            clear_tokens.append(token)\n",
    "    \n",
    "    ttokens = copy.deepcopy(clear_tokens)\n",
    "    text_nsw_tokens.append(ttokens)\n",
    "    # print(clear_tokens)\n",
    "\n",
    "print(len(text_nsw_tokens), len(text_tokens), len(text_clean), len(text_corpus))"
   ]
  },
  {
   "cell_type": "code",
   "execution_count": null,
   "metadata": {
    "tags": []
   },
   "outputs": [],
   "source": [
    "# lematization of the text\n",
    "text_lemmas = list()\n",
    "token_lematizer = WordNetLemmatizer()\n",
    "\n",
    "for tokens in text_nsw_tokens:\n",
    "\n",
    "    lemma_tokens = list()\n",
    "\n",
    "    for token in tokens:\n",
    "        \n",
    "        ans = token_lematizer.lemmatize(token)\n",
    "        lemma_tokens.append(ans)\n",
    "\n",
    "    tlemmas = copy.deepcopy(lemma_tokens)\n",
    "    text_lemmas.append(tlemmas)\n",
    "\n",
    "print(len(text_lemmas), len(text_nsw_tokens), len(text_tokens), len(text_clean), len(text_corpus))"
   ]
  },
  {
   "cell_type": "code",
   "execution_count": null,
   "metadata": {},
   "outputs": [],
   "source": [
    "target_df[\"TOKENS\"] = text_tokens\n",
    "target_df[\"PREP_TOKENS\"] = text_lemmas"
   ]
  },
  {
   "cell_type": "code",
   "execution_count": null,
   "metadata": {},
   "outputs": [],
   "source": [
    "target_df.head()"
   ]
  },
  {
   "cell_type": "code",
   "execution_count": null,
   "metadata": {},
   "outputs": [],
   "source": [
    "# saving gesim words dictionary\n",
    "vvg_dict = gensim.corpora.Dictionary(text_lemmas)\n",
    "print(vvg_dict)\n",
    "work_dict = work_fn.split(\".\")\n",
    "work_dict = work_dict[0] + \".\" + dext\n",
    "dict_pfn = os.path.join(root_folder, dataf, stdf, work_dict)\n",
    "print(dict_pfn)\n",
    "vvg_dict.save(dict_pfn) \n",
    "# os.path.join(\"Data\",\"VVG-gallery-text.dict\"))\n",
    "# pprint.pprint(vvg_dict.token2id)"
   ]
  },
  {
   "cell_type": "code",
   "execution_count": null,
   "metadata": {
    "tags": []
   },
   "outputs": [],
   "source": [
    "# text representation to numeric representation\n",
    "text_bows = list()\n",
    "text_idxs = list()\n",
    "\n",
    "for lemmas in text_lemmas:\n",
    "\n",
    "    # bow loose the order/semantic\n",
    "    t_bow = vvg_dict.doc2bow(lemmas, allow_update=True)\n",
    "    text_bows.append(t_bow)\n",
    "    # idz keeps the order/semantic\n",
    "    t_idx = vvg_dict.doc2idx(lemmas)\n",
    "    text_idxs.append(t_idx)\n",
    "\n",
    "print(len(text_bows), len(text_idxs), len(text_lemmas), len(text_nsw_tokens), len(text_tokens), len(text_clean), len(text_corpus))"
   ]
  },
  {
   "cell_type": "code",
   "execution_count": null,
   "metadata": {},
   "outputs": [],
   "source": [
    "# train the model\n",
    "tfidf = gensim.models.TfidfModel(text_idxs, dictionary=vvg_dict, normalize=True)\n",
    "corpus_tfidf = tfidf[text_bows]\n",
    "print(len(corpus_tfidf), len(text_bows), len(text_idxs), len(text_lemmas), len(text_nsw_tokens), len(text_tokens), len(text_clean), len(text_corpus))"
   ]
  },
  {
   "cell_type": "code",
   "execution_count": null,
   "metadata": {},
   "outputs": [],
   "source": [
    "text_df.info()"
   ]
  },
  {
   "cell_type": "code",
   "execution_count": null,
   "metadata": {},
   "outputs": [],
   "source": [
    "target_df[\"BOWS_TOKENS\"] = text_bows\n",
    "target_df[\"IDX_TOKENS\"] = text_idxs\n",
    "target_df[\"TFIDF_TOKENS\"] = corpus_tfidf"
   ]
  },
  {
   "cell_type": "code",
   "execution_count": null,
   "metadata": {},
   "outputs": [],
   "source": [
    "# checking everything is okey\n",
    "target_df.head()"
   ]
  },
  {
   "cell_type": "code",
   "execution_count": null,
   "metadata": {
    "tags": []
   },
   "outputs": [],
   "source": [
    "# creating the dense vector standar representantion of the text\n",
    "text_dvector = list()\n",
    "\n",
    "# iterating in each text with the tfidf word bag\n",
    "for t_idtokens, tfidf_tokens in zip(text_idxs, corpus_tfidf):\n",
    "    # print(\"===============================\")\n",
    "    # print(len(tidxs), len(ttfidf))\n",
    "    # print(type(tidxs), type(ttfidf))\n",
    "    # dense vector representation\n",
    "    tdvect = list()\n",
    "\n",
    "    # creating the dense representation for each text\n",
    "    for t_token in t_idtokens:\n",
    "\n",
    "        # transforming the tfidf into dict\n",
    "        tokens_dict = dict(tfidf_tokens)\n",
    "        \n",
    "        # looking for each word\n",
    "        if t_token in tokens_dict.keys():\n",
    "            temp = tokens_dict.get(t_token)\n",
    "            # appending std word representation into array\n",
    "            tdvect.append(temp)\n",
    "\n",
    "    # copying std dense vector into corpus column\n",
    "    ans = copy.deepcopy(tdvect)\n",
    "    text_dvector.append(ans)\n",
    "\n",
    "# checking the size of all columna\n",
    "print(len(text_dvector), len(corpus_tfidf), len(text_bows), len(text_idxs), len(text_lemmas), len(text_nsw_tokens), len(text_tokens), len(text_clean), len(text_corpus))\n",
    "\n",
    "# adding the dense representation into the dataframe\n",
    "target_df[\"STD_DVEC_TOKENS\"] = text_dvector"
   ]
  },
  {
   "cell_type": "code",
   "execution_count": null,
   "metadata": {},
   "outputs": [],
   "source": [
    "# complete text rpresentation\n",
    "tf_dense_corpus = matutils.corpus2dense(text_bows, num_terms = len(vvg_dict.token2id), num_docs = len(corpus_tfidf))\n",
    "# text_df[\"STD_CVEC_TOKENS\"] = tf_dense_corpus\n",
    "tf_dense_corpus[0:]"
   ]
  },
  {
   "cell_type": "code",
   "execution_count": null,
   "metadata": {},
   "outputs": [],
   "source": [
    "tf_sparse_corpus = matutils.corpus2csc(corpus_tfidf)\n",
    "target_df[\"STD_SVEC_TOKENS\"] = tf_sparse_corpus"
   ]
  },
  {
   "cell_type": "code",
   "execution_count": null,
   "metadata": {},
   "outputs": [],
   "source": [
    "# checking everything is okey\n",
    "target_df.head()"
   ]
  },
  {
   "cell_type": "code",
   "execution_count": null,
   "metadata": {},
   "outputs": [],
   "source": [
    "# saving the CSV file into pandas\n",
    "# writing an existing CSV fileto update the dataframe\n",
    "target_fn = \"std-\" + work_fn\n",
    "fn_tpath = os.path.join(root_folder, dataf, stdf, target_fn)\n",
    "print(fn_tpath)\n",
    "target_df.to_csv(fn_tpath,\n",
    "                sep=\",\",\n",
    "                index=False,\n",
    "                encoding=\"utf-8\",\n",
    "                mode=\"w\",\n",
    "                )"
   ]
  },
  {
   "cell_type": "code",
   "execution_count": null,
   "metadata": {},
   "outputs": [],
   "source": [
    "# dont remember for what i did this\n",
    "# sim_index = gensim.similarities.SparseMatrixSimilarity(corpus_tfidf, num_features=len(vvg_dict))"
   ]
  }
 ]
}